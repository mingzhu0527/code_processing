{
 "cells": [
  {
   "cell_type": "code",
   "execution_count": 1,
   "id": "distributed-spread",
   "metadata": {},
   "outputs": [],
   "source": [
    "import sys\n",
    "sys.path.append('./utils/')\n",
    "from xlcost_exec_utils import *\n",
    "from test_generation_utils import *\n",
    "from extract_function_utils import *"
   ]
  },
  {
   "cell_type": "code",
   "execution_count": 2,
   "id": "welsh-douglas",
   "metadata": {},
   "outputs": [],
   "source": [
    "%load_ext autoreload\n",
    "%autoreload 2"
   ]
  },
  {
   "cell_type": "code",
   "execution_count": 3,
   "id": "molecular-scoop",
   "metadata": {},
   "outputs": [],
   "source": [
    "code_lang_dict, code_id_lang_dic = read_toked_code_dict(code_dict_path)\n",
    "functions_pids_dict, functions_dict, functions_toked_dict, functions_detoked_dict = \\\n",
    "        get_all_functions_detok_from_cache(\n",
    "            code_id_lang_dic, functions_pids_dict_path, functions_dict_path, \n",
    "            functions_toked_dict_path, functions_detoked_dict_path)"
   ]
  },
  {
   "cell_type": "code",
   "execution_count": 4,
   "id": "improved-baseball",
   "metadata": {},
   "outputs": [],
   "source": [
    "split_dict = load_split_dict()\n",
    "test_list, val_list = get_eval_list(split_dict)"
   ]
  },
  {
   "cell_type": "markdown",
   "id": "personal-confusion",
   "metadata": {},
   "source": [
    "### Test case generation"
   ]
  },
  {
   "cell_type": "code",
   "execution_count": 5,
   "id": "after-daniel",
   "metadata": {
    "scrolled": true
   },
   "outputs": [
    {
     "name": "stdout",
     "output_type": "stream",
     "text": [
      "start 11198\n",
      "133\n",
      "filtered_pids 11065\n"
     ]
    },
    {
     "data": {
      "application/vnd.jupyter.widget-view+json": {
       "model_id": "8fd4099a9db74ee695a49c1bdbd7d184",
       "version_major": 2,
       "version_minor": 0
      },
      "text/plain": [
       "HBox(children=(FloatProgress(value=0.0, max=51200.0), HTML(value='')))"
      ]
     },
     "metadata": {},
     "output_type": "display_data"
    },
    {
     "name": "stdout",
     "output_type": "stream",
     "text": [
      "\n",
      "C++ error 22461 0.43869140625\n",
      "C++ timeout 635 0.01240234375\n",
      "C++ empty 1615 0.03154296875\n",
      "C++ other 5 9.765625e-05\n",
      "C++ good 26484 0.517265625\n",
      "avg num tests 3.3158747300215983\n",
      "step 0 6925 5556\n",
      "0\n",
      "filtered_pids 6925\n"
     ]
    },
    {
     "data": {
      "application/vnd.jupyter.widget-view+json": {
       "model_id": "4d638d2ecb9e4af7953c98b6d19de92b",
       "version_major": 2,
       "version_minor": 0
      },
      "text/plain": [
       "HBox(children=(FloatProgress(value=0.0, max=30507.0), HTML(value='')))"
      ]
     },
     "metadata": {},
     "output_type": "display_data"
    },
    {
     "name": "stdout",
     "output_type": "stream",
     "text": [
      "\n",
      "C++ error 22350 0.7326187432392566\n",
      "C++ timeout 456 0.01494738912380765\n",
      "C++ empty 1422 0.04661225292555807\n",
      "C++ other 5 0.00016389681056806635\n",
      "C++ good 6274 0.20565771790080964\n",
      "avg num tests 3.32760736196319\n",
      "step 1 5564 5705\n",
      "0\n",
      "filtered_pids 5564\n"
     ]
    },
    {
     "data": {
      "application/vnd.jupyter.widget-view+json": {
       "model_id": "a64e557792264ff398e386c9603f1b36",
       "version_major": 2,
       "version_minor": 0
      },
      "text/plain": [
       "HBox(children=(FloatProgress(value=0.0, max=23696.0), HTML(value='')))"
      ]
     },
     "metadata": {},
     "output_type": "display_data"
    },
    {
     "name": "stdout",
     "output_type": "stream",
     "text": [
      "\n",
      "C++ error 22000 0.9284267386900743\n",
      "C++ timeout 299 0.012618163403106009\n",
      "C++ empty 1125 0.0474763673193788\n",
      "C++ other 4 0.00016880486158001352\n",
      "C++ good 268 0.011309925725860905\n",
      "avg num tests 3.304985337243402\n",
      "step 2 5462 5797\n",
      "0\n",
      "filtered_pids 5462\n"
     ]
    },
    {
     "data": {
      "application/vnd.jupyter.widget-view+json": {
       "model_id": "246270086984485fa5efd35674156b2f",
       "version_major": 2,
       "version_minor": 0
      },
      "text/plain": [
       "HBox(children=(FloatProgress(value=0.0, max=23191.0), HTML(value='')))"
      ]
     },
     "metadata": {},
     "output_type": "display_data"
    },
    {
     "name": "stdout",
     "output_type": "stream",
     "text": [
      "\n",
      "C++ error 21804 0.9401923159846493\n",
      "C++ timeout 244 0.010521322926997543\n",
      "C++ empty 914 0.03941184080031047\n",
      "C++ other 5 0.00021560087965158897\n",
      "C++ good 224 0.009658919408391186\n",
      "avg num tests 3.297948717948718\n",
      "step 3 5353 5850\n",
      "0\n",
      "filtered_pids 5353\n"
     ]
    },
    {
     "data": {
      "application/vnd.jupyter.widget-view+json": {
       "model_id": "1fbf4292d58b4b46a5309cee5b9678d8",
       "version_major": 2,
       "version_minor": 0
      },
      "text/plain": [
       "HBox(children=(FloatProgress(value=0.0, max=22641.0), HTML(value='')))"
      ]
     },
     "metadata": {},
     "output_type": "display_data"
    },
    {
     "name": "stdout",
     "output_type": "stream",
     "text": [
      "\n",
      "C++ error 21558 0.9521664237445343\n",
      "C++ timeout 196 0.008656861446049203\n",
      "C++ empty 753 0.03325824831058699\n",
      "C++ other 3 0.00013250298131707962\n",
      "C++ good 131 0.005785963517512477\n",
      "avg num tests 3.2923887189942236\n",
      "step 4 5287 5886\n",
      "0\n",
      "filtered_pids 5287\n"
     ]
    },
    {
     "data": {
      "application/vnd.jupyter.widget-view+json": {
       "model_id": "14867c87181745febe72e02bc9b293cc",
       "version_major": 2,
       "version_minor": 0
      },
      "text/plain": [
       "HBox(children=(FloatProgress(value=0.0, max=22313.0), HTML(value='')))"
      ]
     },
     "metadata": {},
     "output_type": "display_data"
    },
    {
     "name": "stdout",
     "output_type": "stream",
     "text": [
      "\n",
      "C++ error 21386 0.9584547124994398\n",
      "C++ timeout 178 0.007977412270873481\n",
      "C++ empty 658 0.02948953524850984\n",
      "C++ other 0 0.0\n",
      "C++ good 91 0.004078339981176893\n",
      "avg num tests 3.2874302148536625\n",
      "step 5 5245 5911\n",
      "0\n",
      "filtered_pids 5245\n"
     ]
    },
    {
     "data": {
      "application/vnd.jupyter.widget-view+json": {
       "model_id": "3209457447ee4ffbbddd64b4b4cf832f",
       "version_major": 2,
       "version_minor": 0
      },
      "text/plain": [
       "HBox(children=(FloatProgress(value=0.0, max=22100.0), HTML(value='')))"
      ]
     },
     "metadata": {},
     "output_type": "display_data"
    },
    {
     "name": "stdout",
     "output_type": "stream",
     "text": [
      "\n",
      "C++ error 21298 0.963710407239819\n",
      "C++ timeout 146 0.006606334841628959\n",
      "C++ empty 560 0.025339366515837104\n",
      "C++ other 0 0.0\n",
      "C++ good 96 0.0043438914027149325\n",
      "avg num tests 3.288656313301823\n",
      "step 6 5191 5924\n",
      "0\n",
      "filtered_pids 5191\n"
     ]
    },
    {
     "data": {
      "application/vnd.jupyter.widget-view+json": {
       "model_id": "f0086fa288594aec929523446295beaf",
       "version_major": 2,
       "version_minor": 0
      },
      "text/plain": [
       "HBox(children=(FloatProgress(value=0.0, max=21831.0), HTML(value='')))"
      ]
     },
     "metadata": {},
     "output_type": "display_data"
    },
    {
     "name": "stdout",
     "output_type": "stream",
     "text": [
      "\n",
      "C++ error 21202 0.9711877605240254\n",
      "C++ timeout 110 0.0050387064266410155\n",
      "C++ empty 450 0.02061288992716779\n",
      "C++ other 0 0.0\n",
      "C++ good 69 0.0031606431221657275\n",
      "avg num tests 3.2880727762803232\n",
      "step 7 5158 5936\n",
      "0\n",
      "filtered_pids 5158\n"
     ]
    },
    {
     "data": {
      "application/vnd.jupyter.widget-view+json": {
       "model_id": "9d3700409a2e4b668a1765b6fd4f4ae1",
       "version_major": 2,
       "version_minor": 0
      },
      "text/plain": [
       "HBox(children=(FloatProgress(value=0.0, max=21670.0), HTML(value='')))"
      ]
     },
     "metadata": {},
     "output_type": "display_data"
    },
    {
     "name": "stdout",
     "output_type": "stream",
     "text": [
      "\n",
      "C++ error 21111 0.9742039686202123\n",
      "C++ timeout 99 0.004568527918781726\n",
      "C++ empty 404 0.01864328564836179\n",
      "C++ other 0 0.0\n",
      "C++ good 56 0.0025842178126442086\n",
      "avg num tests 3.2886944818304173\n",
      "step 8 5131 5944\n",
      "0\n",
      "filtered_pids 5131\n"
     ]
    },
    {
     "data": {
      "application/vnd.jupyter.widget-view+json": {
       "model_id": "b4a4888d787447b4a3703668b43bfbc9",
       "version_major": 2,
       "version_minor": 0
      },
      "text/plain": [
       "HBox(children=(FloatProgress(value=0.0, max=21536.0), HTML(value='')))"
      ]
     },
     "metadata": {},
     "output_type": "display_data"
    },
    {
     "name": "stdout",
     "output_type": "stream",
     "text": [
      "\n",
      "C++ error 21053 0.9775724368499257\n",
      "C++ timeout 88 0.004086181277860327\n",
      "C++ empty 356 0.016530460624071323\n",
      "C++ other 0 0.0\n",
      "C++ good 39 0.001810921248142645\n",
      "avg num tests 3.2900622162434843\n",
      "step 9 5117 5947\n",
      "start 11028\n",
      "368\n",
      "filtered_pids 10660\n"
     ]
    },
    {
     "data": {
      "application/vnd.jupyter.widget-view+json": {
       "model_id": "05d9eab9809448febacf69c660af4c43",
       "version_major": 2,
       "version_minor": 0
      },
      "text/plain": [
       "HBox(children=(FloatProgress(value=0.0, max=50520.0), HTML(value='')))"
      ]
     },
     "metadata": {},
     "output_type": "display_data"
    },
    {
     "name": "stdout",
     "output_type": "stream",
     "text": [
      "\n",
      "Java error 25022 0.4952889944576405\n",
      "Java timeout 507 0.010035629453681711\n",
      "Java empty 666 0.013182897862232779\n",
      "Java other 0 0.0\n",
      "Java good 24325 0.481492478226445\n",
      "avg num tests 3.207070707070707\n",
      "step 0 6927 5148\n",
      "2\n",
      "filtered_pids 6925\n"
     ]
    },
    {
     "data": {
      "application/vnd.jupyter.widget-view+json": {
       "model_id": "48f19c07de3e4a5488c4c8edc4186584",
       "version_major": 2,
       "version_minor": 0
      },
      "text/plain": [
       "HBox(children=(FloatProgress(value=0.0, max=31845.0), HTML(value='')))"
      ]
     },
     "metadata": {},
     "output_type": "display_data"
    },
    {
     "name": "stderr",
     "output_type": "stream",
     "text": [
      "IOPub message rate exceeded.\n",
      "The notebook server will temporarily stop sending output\n",
      "to the client in order to avoid crashing it.\n",
      "To change this limit, set the config variable\n",
      "`--NotebookApp.iopub_msg_rate_limit`.\n",
      "\n",
      "Current values:\n",
      "NotebookApp.iopub_msg_rate_limit=1000.0 (msgs/sec)\n",
      "NotebookApp.rate_limit_window=3.0 (secs)\n",
      "\n"
     ]
    },
    {
     "name": "stdout",
     "output_type": "stream",
     "text": [
      "\n",
      "Java error 23031 0.9644472361809046\n",
      "Java timeout 173 0.007244556113902847\n",
      "Java empty 501 0.020979899497487436\n",
      "Java other 0 0.0\n",
      "Java good 175 0.007328308207705193\n",
      "avg num tests 3.153212815464471\n",
      "step 5 5269 5587\n",
      "1\n",
      "filtered_pids 5268\n"
     ]
    },
    {
     "data": {
      "application/vnd.jupyter.widget-view+json": {
       "model_id": "f58d884b6d5340ff957f55d99909b64a",
       "version_major": 2,
       "version_minor": 0
      },
      "text/plain": [
       "HBox(children=(FloatProgress(value=0.0, max=23560.0), HTML(value='')))"
      ]
     },
     "metadata": {},
     "output_type": "display_data"
    },
    {
     "name": "stderr",
     "output_type": "stream",
     "text": [
      "IOPub message rate exceeded.\n",
      "The notebook server will temporarily stop sending output\n",
      "to the client in order to avoid crashing it.\n",
      "To change this limit, set the config variable\n",
      "`--NotebookApp.iopub_msg_rate_limit`.\n",
      "\n",
      "Current values:\n",
      "NotebookApp.iopub_msg_rate_limit=1000.0 (msgs/sec)\n",
      "NotebookApp.rate_limit_window=3.0 (secs)\n",
      "\n"
     ]
    }
   ],
   "source": [
    "testcase_id_lang_dict = generate_testcases_with_diversity_xlcost(functions_pids_dict, code_id_lang_dic, \n",
    "                                                          num_tests=10, rounds=10)"
   ]
  },
  {
   "cell_type": "code",
   "execution_count": 7,
   "id": "authentic-wisconsin",
   "metadata": {},
   "outputs": [
    {
     "name": "stdout",
     "output_type": "stream",
     "text": [
      "C++ 5947\n",
      "Java 5665\n",
      "C 158\n"
     ]
    }
   ],
   "source": [
    "for lang in testcase_id_lang_dict.keys():\n",
    "    print(lang, len(testcase_id_lang_dict[lang]))"
   ]
  },
  {
   "cell_type": "code",
   "execution_count": 8,
   "id": "bottom-combining",
   "metadata": {},
   "outputs": [],
   "source": [
    "with open(\"./cached_files/testcase_id_lang_dict_xlcost.json\", 'w') as outfile:\n",
    "    json.dump(testcase_id_lang_dict, outfile)"
   ]
  },
  {
   "cell_type": "code",
   "execution_count": null,
   "id": "annual-semiconductor",
   "metadata": {
    "scrolled": true
   },
   "outputs": [],
   "source": [
    "def test_generate_tests(lang):\n",
    "    for i, pid in enumerate(code_id_lang_dic[lang].keys()):\n",
    "        code_dic = code_id_lang_dic[lang][pid]\n",
    "        if code_dic['target_call'] == \"\":\n",
    "            continue\n",
    "        target_call_params = code_dic['target_call_params']\n",
    "        new_para_list = get_para_list_cpp_testcase(target_call_params)\n",
    "        if new_para_list == None:\n",
    "            continue\n",
    "        for para_name, para_type in new_para_list:\n",
    "            if \"[]\" in para_name or \"[]\" in para_type:\n",
    "#                 print(pid, para_name, para_type, target_call_params)\n",
    "                print(\"*\"*20)\n",
    "                print(pid, new_para_list)\n",
    "                a = generate_tests(new_para_list, 5, lang)\n",
    "                print(a)\n",
    "                break\n",
    "#         cases = code_id_lang_dic[lang][pid]['test_cases']['tests']\n",
    "#         print(cases)\n",
    "#         print(\"*\"*20)\n",
    "#         if i > 10:\n",
    "#             break\n",
    "    return \n",
    "lang = \"C\" # Java\n",
    "test_generate_tests(lang)"
   ]
  },
  {
   "cell_type": "code",
   "execution_count": null,
   "id": "duplicate-cattle",
   "metadata": {
    "scrolled": true
   },
   "outputs": [],
   "source": [
    "type_set = set()\n",
    "name_set = set()\n",
    "for pid, code_dic in code_id_lang_dic[lang].items():\n",
    "    parameter_lists = code_dic['parameter_lists']\n",
    "    return_types = code_dic['return_types']\n",
    "    for return_type in return_types:\n",
    "        real_return_type, dim = get_real_type_c(return_type)\n",
    "        if dim > 0:\n",
    "            print(pid)\n",
    "            break\n",
    "#     for return_type in return_types:\n",
    "#         type_set.add(return_type)\n",
    "#     if \"int*\" in type_set:\n",
    "#         print(pid)\n",
    "#         break\n",
    "#     for parameter_list in parameter_lists:\n",
    "#         para_list = get_para_list(parameter_list)\n",
    "#         if not para_list:\n",
    "#             continue\n",
    "#         for para_name, para_type in para_list:\n",
    "#             type_set.add(para_type)\n",
    "#             name_set.add(para_name)"
   ]
  },
  {
   "cell_type": "code",
   "execution_count": 69,
   "id": "fifty-oregon",
   "metadata": {},
   "outputs": [
    {
     "name": "stdout",
     "output_type": "stream",
     "text": [
      "{'struct Matrix', 'char*', 'struct Node*', 'float', 'node*', 'int*', 'll', 'double', 'struct Stack*', 'struct node*', 'char *', 'bool', 'struct node\\n{\\n int data;\\n struct node* left;\\n struct node* right;\\n struct node* next;\\n}', 'static', 'Node*', 'struct Queue*', 'int', 'Cantor*', 'function', 'struct node *', '_Bool', 'struct pair', 'long long', 'long', 'struct Node *', 'else', 'long long int', 'void', 'struct QueueNode*', 'unsigned int', 'unsigned', 'Node *', 'void*'}\n"
     ]
    }
   ],
   "source": [
    "print(type_set)"
   ]
  },
  {
   "cell_type": "code",
   "execution_count": 66,
   "id": "fiscal-george",
   "metadata": {},
   "outputs": [
    {
     "name": "stdout",
     "output_type": "stream",
     "text": [
      "{'struct Matrix', 'char*', 'Node**', 'Point', 'const char*', 'struct Node*', 'float', 'node*', 'int*', 'll', 'struct', 'double', 'vector<int>&', 'struct Stack*', 'struct InchFeet', 'struct node*', 'bool', 'Node', 'struct pairSum', 'Node*', 'struct Queue*', 'int', 'lli', 'const void *', 'Cantor*', 'const void', 'struct node', 'char**', 'struct pair', 'char', 'long long', 'struct Node', 'long long int', 'node', 'struct Node**', 'unsigned int', 'struct QueueNode*', 'struct Matrix*', 'struct move *', 'struct node**', 'unsigned', 'int const', 'current->data >=', 'node**', 'size_t', 'const void*', 'Node *'}\n"
     ]
    }
   ],
   "source": [
    "print(type_set)"
   ]
  },
  {
   "cell_type": "code",
   "execution_count": 107,
   "id": "acting-verse",
   "metadata": {},
   "outputs": [
    {
     "data": {
      "text/plain": [
       "('string', 0)"
      ]
     },
     "execution_count": 107,
     "metadata": {},
     "output_type": "execute_result"
    }
   ],
   "source": [
    "get_real_type_c('char*')\n",
    "# cases = generate_tests(para_list_testcase, num_tests, lang)\n"
   ]
  },
  {
   "cell_type": "markdown",
   "id": "expanded-pastor",
   "metadata": {},
   "source": [
    "### Debugging test case generation"
   ]
  },
  {
   "cell_type": "code",
   "execution_count": null,
   "id": "waiting-strengthening",
   "metadata": {},
   "outputs": [],
   "source": [
    "lang = \"C\"\n",
    "num_tests = 5\n",
    "pid = '4573'\n",
    "code_dic = code_id_lang_dic[lang][pid]\n",
    "pieces = code_dic['program_pieces']\n",
    "for piece in pieces:\n",
    "    print(piece)\n",
    "program_prefix = \"\".join(pieces[:pieces.index(target_function_place_holder)])\n",
    "functions = code_dic['functions']\n",
    "function_str = \"\\n\".join(functions)\n",
    "program = program_prefix + function_str\n",
    "target_func_name = code_dic['target_call']\n",
    "return_type = code_dic['target_call_return_type']\n",
    "target_call_params = code_dic['target_call_params']\n",
    "para_list_testcase = get_para_list_cpp_testcase(target_call_params)\n",
    "para_list = get_para_list(target_call_params)\n",
    "print(para_list_testcase)\n",
    "cases = generate_tests(para_list_testcase, num_tests, lang)\n",
    "print(cases)\n",
    "target_info = return_type, target_func_name, para_list\n",
    "\n",
    "codestrings, good_cases = get_call_dict_no_output_xlcost(code_dic, lang, num_tests=5)\n",
    "print(codestrings[0])"
   ]
  },
  {
   "cell_type": "code",
   "execution_count": 147,
   "id": "distant-court",
   "metadata": {},
   "outputs": [
    {
     "name": "stdout",
     "output_type": "stream",
     "text": [
      "./tmp_execution_results/1659922075279.52030.752027454989059.c: In function main:\n",
      "./tmp_execution_results/1659922075279.52030.752027454989059.c:59:6: error: variable or field execution_output declared void\n",
      " void execution_output = buildCantorSet(A,B,L);\n",
      "      ^~~~~~~~~~~~~~~~\n",
      "./tmp_execution_results/1659922075279.52030.752027454989059.c:59:25: error: void value not ignored as it ought to be\n",
      " void execution_output = buildCantorSet(A,B,L);\n",
      "                         ^~~~~~~~~~~~~~\n"
     ]
    }
   ],
   "source": [
    "a = file_executors[lang](codestrings[0])\n",
    "# a = file_executors[lang](b)\n",
    "\n",
    "print(a.encode(\"ascii\", \"ignore\").decode())"
   ]
  },
  {
   "cell_type": "code",
   "execution_count": 13,
   "id": "australian-toronto",
   "metadata": {},
   "outputs": [
    {
     "name": "stdout",
     "output_type": "stream",
     "text": [
      "369\n"
     ]
    }
   ],
   "source": [
    "programs, filtered_pids, exception_list, program_id_dict, testcase_id_dict \\\n",
    "                = prepare_exec_program_test_generation_xlcost(functions_pids_dict[lang], \n",
    "                                                       code_id_lang_dic, lang, 5)"
   ]
  },
  {
   "cell_type": "code",
   "execution_count": 14,
   "id": "straight-enhancement",
   "metadata": {},
   "outputs": [
    {
     "data": {
      "text/plain": [
       "50515"
      ]
     },
     "execution_count": 14,
     "metadata": {},
     "output_type": "execute_result"
    }
   ],
   "source": [
    "len(programs)"
   ]
  },
  {
   "cell_type": "code",
   "execution_count": 15,
   "id": "announced-brick",
   "metadata": {},
   "outputs": [
    {
     "data": {
      "application/vnd.jupyter.widget-view+json": {
       "model_id": "633d4003c8404e4989ab12667bf7220d",
       "version_major": 2,
       "version_minor": 0
      },
      "text/plain": [
       "HBox(children=(FloatProgress(value=0.0, max=1000.0), HTML(value='')))"
      ]
     },
     "metadata": {},
     "output_type": "display_data"
    },
    {
     "name": "stdout",
     "output_type": "stream",
     "text": [
      "\n"
     ]
    }
   ],
   "source": [
    "lang_results = p_map(file_executors[lang], programs[:1000])"
   ]
  },
  {
   "cell_type": "code",
   "execution_count": 154,
   "id": "champion-encoding",
   "metadata": {},
   "outputs": [
    {
     "name": "stdout",
     "output_type": "stream",
     "text": [
      "C error 805 0.4923547400611621\n",
      "C timeout 22 0.01345565749235474\n",
      "C empty 61 0.03730886850152905\n",
      "C other 0 0.0\n",
      "C good 747 0.45688073394495415\n"
     ]
    }
   ],
   "source": [
    "_ = show_result_summary({lang:lang_results})"
   ]
  },
  {
   "cell_type": "code",
   "execution_count": 127,
   "id": "aggregate-engine",
   "metadata": {},
   "outputs": [],
   "source": [
    "result_id_dict, result_key_dict, error_type_dict = result_mapping(lang_results, program_id_dict, \n",
    "                                                                              filtered_pids, lang)"
   ]
  },
  {
   "cell_type": "code",
   "execution_count": 51,
   "id": "amended-newton",
   "metadata": {},
   "outputs": [
    {
     "name": "stdout",
     "output_type": "stream",
     "text": [
      "Java error 25021 0.4953182223102049\n",
      "Java timeout 529 0.010472136989013165\n",
      "Java empty 645 0.012768484608532119\n",
      "Java other 0 0.0\n",
      "Java good 24320 0.4814411560922498\n"
     ]
    }
   ],
   "source": [
    "_ = show_result_summary({lang:lang_results})"
   ]
  },
  {
   "cell_type": "code",
   "execution_count": 27,
   "id": "quarterly-riding",
   "metadata": {},
   "outputs": [
    {
     "name": "stdout",
     "output_type": "stream",
     "text": [
      "C++ error 21094 0.42811333008605296\n",
      "C++ timeout 599 0.012157006007468744\n",
      "C++ empty 1594 0.032351031011527843\n",
      "C++ other 5 0.00010147751258321156\n",
      "C++ good 25980 0.5272771553823673\n"
     ]
    }
   ],
   "source": [
    "_ = show_result_summary({lang:lang_results})"
   ]
  },
  {
   "cell_type": "code",
   "execution_count": 29,
   "id": "skilled-captain",
   "metadata": {},
   "outputs": [
    {
     "name": "stdout",
     "output_type": "stream",
     "text": [
      "avg num tests 3.31893079458074\n",
      "step 6981 5462\n"
     ]
    }
   ],
   "source": [
    "exist_testcase_id_dict = {}\n",
    "result_id_dict, result_key_dict, error_type_dict = result_mapping(lang_results, program_id_dict, \n",
    "                                                                              filtered_pids, lang)\n",
    "exist_testcase_id_dict, pids_need_more_test = filter_testcase_by_output(testcase_id_dict, \n",
    "                                                                        result_id_dict, \n",
    "                                                                        result_key_dict, \n",
    "                                                                        exist_testcase_id_dict, \n",
    "                                                                        thres=num_tests)\n",
    "print(\"avg num tests\", get_average_num_tests(exist_testcase_id_dict))\n",
    "print('step', len(pids_need_more_test), len(exist_testcase_id_dict))"
   ]
  },
  {
   "cell_type": "code",
   "execution_count": 12,
   "id": "conservative-layout",
   "metadata": {},
   "outputs": [
    {
     "name": "stdout",
     "output_type": "stream",
     "text": [
      "29\n"
     ]
    }
   ],
   "source": [
    "a = file_executors[lang](code_str[0])\n",
    "print(a.encode(\"ascii\", \"ignore\").decode())"
   ]
  },
  {
   "cell_type": "code",
   "execution_count": 88,
   "id": "silent-founder",
   "metadata": {},
   "outputs": [
    {
     "name": "stdout",
     "output_type": "stream",
     "text": [
      "['#include <bits/stdc++.h>\\nusing namespace std;\\n', '\\n<target_function_place_holder>\\n', '\\n', '\\nint main()\\n{\\n\\tint arr1[] = { 1, 4, 5, 6 };\\n\\tint arr2[] = { 2, 3, 7, 8 };\\n\\tint arr3[] = { 1, 4, 6, 10 };\\n\\tint arr4[] = { 2, 4, 7, 8 };\\n\\tint n = sizeof(arr1) / sizeof(arr1[0]);\\n\\tint x = 30;\\n\\tcout << \"Count = \"\\n\\t\\t<< countQuadruples(arr1, arr2, arr3, arr4, n, x);\\n\\treturn 0;\\n}']\n"
     ]
    }
   ],
   "source": [
    "lang = \"C++\"\n",
    "num_tests = 5\n",
    "pid = '1279'\n",
    "code_dic = code_id_lang_dic[lang][pid]\n",
    "program = code_dic['program_formatted']\n",
    "pieces = code_dic['program_pieces']\n",
    "functions = code_dic['functions']\n",
    "function_str = \"\\n\".join(functions)\n",
    "program_prefix = \"\".join(pieces[:pieces.index(target_function_place_holder)])\n",
    "return_type = code_dic['target_call_return_type']\n",
    "target_call_params = code_dic['target_call_params']\n",
    "new_para_list = get_para_list_cpp(target_call_params)\n",
    "print(pieces)\n",
    "# if code_dic['target_call'] != \"\":\n",
    "#     target_call_params = code_dic['target_call_params']\n",
    "#     new_para_list = get_para_list_cpp(target_call_params)\n",
    "\n",
    "# codestring_list, good_cases = get_call_dict_no_output(code_dic, lang, num_tests)\n",
    "# print(good_cases)"
   ]
  },
  {
   "cell_type": "code",
   "execution_count": null,
   "id": "amino-treaty",
   "metadata": {},
   "outputs": [],
   "source": []
  },
  {
   "cell_type": "code",
   "execution_count": null,
   "id": "excess-trigger",
   "metadata": {},
   "outputs": [],
   "source": []
  }
 ],
 "metadata": {
  "kernelspec": {
   "display_name": "Python 3",
   "language": "python",
   "name": "python3"
  },
  "language_info": {
   "codemirror_mode": {
    "name": "ipython",
    "version": 3
   },
   "file_extension": ".py",
   "mimetype": "text/x-python",
   "name": "python",
   "nbconvert_exporter": "python",
   "pygments_lexer": "ipython3",
   "version": "3.6.9"
  }
 },
 "nbformat": 4,
 "nbformat_minor": 5
}
