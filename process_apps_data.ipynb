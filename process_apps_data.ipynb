{
 "cells": [
  {
   "cell_type": "code",
   "execution_count": 1,
   "id": "complicated-rabbit",
   "metadata": {},
   "outputs": [],
   "source": [
    "# import sys\n",
    "# sys.path.append('./utils/')\n",
    "# from leetcode_process_utils import *\n",
    "\n",
    "import sys\n",
    "sys.path.append('./utils/')\n",
    "from leetcode_exec_utils import *\n"
   ]
  },
  {
   "cell_type": "code",
   "execution_count": 2,
   "id": "included-principle",
   "metadata": {},
   "outputs": [],
   "source": [
    "apps_data_path = \"/home/mingzhu/CodeModel/apps/apps/APPS/\"\n",
    "apps_train_data = apps_data_path + 'train/'\n",
    "apps_test_data = apps_data_path + 'test/'"
   ]
  },
  {
   "cell_type": "code",
   "execution_count": 3,
   "id": "celtic-surrey",
   "metadata": {},
   "outputs": [],
   "source": [
    "input_redirect_code = \"\"\"\n",
    "import sys\n",
    "from io import StringIO\n",
    "sys.stdin = StringIO(inputs)\n",
    "inputs_line_iterator = iter(inputs.split(\"\\\\n\"))\n",
    "sys.stdin.readline = lambda *args: next(inputs_line_iterator)\n",
    "sys.stdin.readlines = lambda *args: inputs.split(\"\\\\n\")\n",
    "sys.stdin.read = lambda *args: inputs\n",
    "\"\"\"\n",
    "imports = \"\"\"import sys\\nimport time\\nimport itertools\n",
    "from itertools import accumulate, product, permutations, combinations\\n\n",
    "import collections\n",
    "from collections import Counter, OrderedDict, deque, defaultdict, ChainMap\n",
    "from functools import lru_cache\\nimport math\n",
    "from math import sqrt, sin, cos, tan, ceil, fabs, floor, gcd, exp, log, log2\n",
    "import fractions\\nfrom typing import List, Tuple\\nimport numpy as np\n",
    "import random\\nimport heapq\\nfrom heapq import *\\n\"\"\""
   ]
  },
  {
   "cell_type": "code",
   "execution_count": null,
   "id": "victorian-patient",
   "metadata": {},
   "outputs": [],
   "source": [
    "# input_output.json  metadata.json  question.txt  solutions.json  starter_code.py\n"
   ]
  },
  {
   "cell_type": "code",
   "execution_count": 5,
   "id": "revolutionary-cancellation",
   "metadata": {},
   "outputs": [],
   "source": [
    "def get_apps_dict(apps_path):\n",
    "    fns = os.listdir(apps_path)\n",
    "    apps_train_dict = {}\n",
    "    fail_list = []\n",
    "    for fn in fns:\n",
    "        prob_dict = {}\n",
    "        prob_path = apps_path + fn + '/'\n",
    "        io_file = \"input_output.json\"\n",
    "        level_file = \"metadata.json\"\n",
    "        desc_file = \"question.txt\"\n",
    "        sol_file = \"solutions.json\"\n",
    "        code_file = \"starter_code.py\"\n",
    "        json_files = [io_file, level_file, sol_file]\n",
    "        txt_files = [desc_file, code_file]\n",
    "        all_files = json_files + txt_files\n",
    "        js_list = []\n",
    "        for jf in json_files:\n",
    "            if not os.path.isfile(prob_path + jf):\n",
    "                js_list.append(None)\n",
    "                continue\n",
    "            with open(prob_path + jf) as infile:\n",
    "                js_list.append(json.load(infile))\n",
    "        txt_list = []\n",
    "        for txt in txt_files:\n",
    "            if not os.path.isfile(prob_path + txt):\n",
    "                txt_list.append(None)\n",
    "                continue\n",
    "            with open(prob_path + txt) as infile:\n",
    "                txt_list.append(infile.read())\n",
    "        prob_dict['idx'] = fn\n",
    "        prob_dict['io'] = js_list[0]\n",
    "        prob_dict['level'] = js_list[1]\n",
    "        prob_dict['solutions'] = js_list[2]\n",
    "        prob_dict['desc'] = txt_list[0]\n",
    "        prob_dict['starter_code'] = txt_list[1]\n",
    "        apps_train_dict[fn] = prob_dict\n",
    "    return apps_train_dict\n",
    "\n",
    "def run_exec_python_test(codestring, timeout=5):\n",
    "    fn_name = tmp_path + \"test\" + '.py'\n",
    "    f = open(fn_name, 'w')\n",
    "    f.write(codestring)\n",
    "    f.close()\n",
    "    cmd = \"python3 \" + fn_name\n",
    "    output = run_command(cmd, timeout)\n",
    "    return output\n",
    "\n"
   ]
  },
  {
   "cell_type": "code",
   "execution_count": 6,
   "id": "alternative-speed",
   "metadata": {},
   "outputs": [],
   "source": [
    "apps_train_dict = get_apps_dict(apps_train_data)\n",
    "apps_test_dict = get_apps_dict(apps_test_data)"
   ]
  },
  {
   "cell_type": "code",
   "execution_count": 7,
   "id": "second-appointment",
   "metadata": {},
   "outputs": [
    {
     "data": {
      "text/plain": [
       "5000"
      ]
     },
     "execution_count": 7,
     "metadata": {},
     "output_type": "execute_result"
    }
   ],
   "source": [
    "len(apps_train_dict)"
   ]
  },
  {
   "cell_type": "code",
   "execution_count": 8,
   "id": "democratic-phase",
   "metadata": {},
   "outputs": [
    {
     "data": {
      "text/plain": [
       "5000"
      ]
     },
     "execution_count": 8,
     "metadata": {},
     "output_type": "execute_result"
    }
   ],
   "source": [
    "len(apps_test_dict)"
   ]
  },
  {
   "cell_type": "code",
   "execution_count": null,
   "id": "smoking-instrumentation",
   "metadata": {},
   "outputs": [],
   "source": [
    "count = 0\n",
    "for key, dic in apps_train_dict.items():\n",
    "    if dic[\"io\"]:\n",
    "        if 'fn_name' in dic[\"io\"]:\n",
    "            print(key)\n",
    "#             break\n",
    "            count += 1"
   ]
  },
  {
   "cell_type": "code",
   "execution_count": 150,
   "id": "painful-circulation",
   "metadata": {},
   "outputs": [
    {
     "name": "stdout",
     "output_type": "stream",
     "text": [
      "[['3', '1 5', '10 3', '3 4']]\n"
     ]
    }
   ],
   "source": [
    "key = '0719'\n",
    "dic = apps_train_dict[key]\n",
    "sol = dic['solutions'][0]\n",
    "test_io = dic['io']\n",
    "test_inputs = test_io['inputs']\n",
    "func_name = \"\"\n",
    "if 'fn_name' in test_io:\n",
    "    func_name = test_io['fn_name']\n",
    "print(test_inputs)\n",
    "a = get_apps_callcode(dic)\n",
    "# inputs = \"\\\"\" + \"\\\\n\".join(test_inputs[0]) + \"\\\"\""
   ]
  },
  {
   "cell_type": "code",
   "execution_count": null,
   "id": "forbidden-replication",
   "metadata": {},
   "outputs": [],
   "source": [
    "print(a)"
   ]
  },
  {
   "cell_type": "code",
   "execution_count": 146,
   "id": "elect-victim",
   "metadata": {},
   "outputs": [
    {
     "name": "stdout",
     "output_type": "stream",
     "text": [
      "60\n",
      "1\n",
      "120\n"
     ]
    }
   ],
   "source": [
    "# a = \"import sys\\nprint(sys.version)\\n\" + a\n",
    "b = run_exec_python_test(a)\n",
    "print(b)"
   ]
  },
  {
   "cell_type": "code",
   "execution_count": 143,
   "id": "inside-ecuador",
   "metadata": {},
   "outputs": [],
   "source": [
    "def get_apps_callcode(dic):\n",
    "    sol = dic['solutions'][0]\n",
    "    test_io = dic['io']\n",
    "    if not test_io:\n",
    "        return None\n",
    "    test_inputs = test_io['inputs']\n",
    "    if len(test_inputs) == 0:\n",
    "        return None\n",
    "    func_name = \"\"\n",
    "    a = imports\n",
    "    if 'fn_name' in test_io:\n",
    "        func_name = test_io['fn_name']\n",
    "        inputs = str(test_inputs[0]).replace('\\n', '\\\\n').replace('\\t', '\\\\t')\n",
    "        input_line = \"\\ninputs=\" + inputs + '\\n'\n",
    "        if \"class Solution\" in sol:\n",
    "            output_line = \"output = Solution().\" + func_name + \"(*inputs)\\n\"\n",
    "        else:\n",
    "            output_line = \"output = \" + func_name + \"(*inputs)\\n\"\n",
    "        a += sol + input_line + output_line\n",
    "        a += \"print(output)\\n\"\n",
    "    else:\n",
    "        if type(test_inputs[0]) == list:\n",
    "            inputs = \"\\\"\" + \"\\\\n\".join(test_inputs[0]) + \"\\\"\"\n",
    "        else:\n",
    "            inputs = \"\\\"\" + test_inputs[0].replace('\\n', '\\\\n').replace('\\t', '\\\\t') + \"\\\"\"\n",
    "        a += \"inputs=\" + inputs + \"\\n\" + input_redirect_code + sol\n",
    "    return a\n",
    "\n",
    "programs = []\n",
    "pids = []\n",
    "program_id_dict = {}\n",
    "for key, dic in apps_train_dict.items():\n",
    "    a = get_apps_callcode(dic)\n",
    "    if a:\n",
    "        programs.append(a)  \n",
    "        pids.append(key)\n",
    "        program_id_dict[key] = [len(programs)-1]"
   ]
  },
  {
   "cell_type": "code",
   "execution_count": 133,
   "id": "incomplete-bailey",
   "metadata": {},
   "outputs": [
    {
     "data": {
      "text/plain": [
       "4450"
      ]
     },
     "execution_count": 133,
     "metadata": {},
     "output_type": "execute_result"
    }
   ],
   "source": [
    "len(programs)"
   ]
  },
  {
   "cell_type": "code",
   "execution_count": 147,
   "id": "medieval-auditor",
   "metadata": {},
   "outputs": [
    {
     "data": {
      "application/vnd.jupyter.widget-view+json": {
       "model_id": "af580d63f64a40448a4c9b3d310e10b0",
       "version_major": 2,
       "version_minor": 0
      },
      "text/plain": [
       "HBox(children=(FloatProgress(value=0.0, max=4450.0), HTML(value='')))"
      ]
     },
     "metadata": {},
     "output_type": "display_data"
    },
    {
     "name": "stdout",
     "output_type": "stream",
     "text": [
      "\n"
     ]
    }
   ],
   "source": [
    "import time\n",
    "from tqdm.auto import tqdm\n",
    "from p_tqdm import p_map, p_umap, p_imap, p_uimap\n",
    "\n",
    "py_results = p_map(run_exec_python3, programs)"
   ]
  },
  {
   "cell_type": "code",
   "execution_count": 148,
   "id": "thorough-bible",
   "metadata": {},
   "outputs": [
    {
     "name": "stdout",
     "output_type": "stream",
     "text": [
      "Python error 80 0.017977528089887642\n",
      "Python timeout 14 0.003146067415730337\n",
      "Python empty 40 0.008988764044943821\n",
      "Python other 6 0.001348314606741573\n",
      "Python good 4310 0.9685393258426966\n",
      "4310 140\n"
     ]
    },
    {
     "data": {
      "text/plain": [
       "{'AttributeError': 1,\n",
       " 'ModuleNotFoundError': 2,\n",
       " 'Error': 2,\n",
       " 'ImportError': 2,\n",
       " 'NameError': 2,\n",
       " 'TypeError': 3,\n",
       " 'IndexError': 3,\n",
       " 'EOFError': 5,\n",
       " 'ValueError': 12,\n",
       " 'SyntaxError': 44}"
      ]
     },
     "execution_count": 148,
     "metadata": {},
     "output_type": "execute_result"
    }
   ],
   "source": [
    "lang = \"Python\"\n",
    "result_dict = {lang:py_results}\n",
    "result_type_dict = show_result_summary(result_dict)\n",
    "result_id_dict, pass_list, fail_list, error_type_dict = get_pass_fail_error(py_results, \n",
    "                                                                            program_id_dict, pids, lang)\n",
    "print(len(pass_list), len(fail_list))\n",
    "error_type_dict"
   ]
  },
  {
   "cell_type": "code",
   "execution_count": null,
   "id": "eight-sound",
   "metadata": {},
   "outputs": [],
   "source": [
    "for i, idx in enumerate(fail_list):\n",
    "    for error in result_id_dict[idx]:\n",
    "        if \"SyntaxError\" in error:\n",
    "            print(idx, error)"
   ]
  },
  {
   "cell_type": "code",
   "execution_count": null,
   "id": "bulgarian-delta",
   "metadata": {},
   "outputs": [],
   "source": []
  }
 ],
 "metadata": {
  "kernelspec": {
   "display_name": "Python 3",
   "language": "python",
   "name": "python3"
  },
  "language_info": {
   "codemirror_mode": {
    "name": "ipython",
    "version": 3
   },
   "file_extension": ".py",
   "mimetype": "text/x-python",
   "name": "python",
   "nbconvert_exporter": "python",
   "pygments_lexer": "ipython3",
   "version": "3.6.9"
  }
 },
 "nbformat": 4,
 "nbformat_minor": 5
}
