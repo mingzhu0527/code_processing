{
 "cells": [
  {
   "cell_type": "code",
   "execution_count": 1,
   "id": "champion-corps",
   "metadata": {},
   "outputs": [],
   "source": [
    "import json"
   ]
  },
  {
   "cell_type": "code",
   "execution_count": 2,
   "id": "young-miami",
   "metadata": {},
   "outputs": [],
   "source": [
    "def get_codex_result_dict(dics):\n",
    "    codex_result_dict = {}\n",
    "    for lang_pair, dic in dics.items():\n",
    "        lang1, lang2 = lang_pair.split('-')\n",
    "        lang1 = lang1.strip()\n",
    "        lang2 = lang2.strip()\n",
    "        if lang2 == \"python\":\n",
    "            lang2 = \"Python\"\n",
    "        codex_result_dict[(lang1, lang2)] = {}\n",
    "        if 'ID' in dic:\n",
    "            pid_dict = dic['ID']\n",
    "        elif 'id' in dic:\n",
    "            pid_dict = dic['id']\n",
    "        else:\n",
    "            print(\"no id!\")\n",
    "            return\n",
    "        if lang1 not in dic:\n",
    "            lang1_dict = dic[lang1.lower()]\n",
    "        else:\n",
    "            lang1_dict = dic[lang1]\n",
    "        if lang2 not in dic:\n",
    "            lang2_dict = dic[lang2.lower()]\n",
    "        else:\n",
    "            lang2_dict = dic[lang2]\n",
    "        assert(len(pid_dict) == len(lang1_dict) and len(lang1_dict) == len(lang2_dict))\n",
    "        for i in range(len(pid_dict)):\n",
    "            new_dict = {}\n",
    "            pid = str(pid_dict[str(i)])\n",
    "            lang1_function = lang1_dict[str(i)]\n",
    "            lang2_function = lang2_dict[str(i)]\n",
    "            new_dict['pid'] = pid\n",
    "            new_dict['input'] = str(lang1_function)\n",
    "            new_dict['output'] = str(lang2_function)\n",
    "            codex_result_dict[(lang1, lang2)][pid] = new_dict\n",
    "        print((lang1, lang2), len(codex_result_dict[(lang1, lang2)]))\n",
    "    return codex_result_dict\n",
    "\n",
    "def get_filtered_id_dict(codex_result_dict, codex_lang_dict):\n",
    "    fail_or_dict = {k:0 for k in codex_result_dict.keys()}\n",
    "    fail_dict = {k:0 for k in codex_result_dict.keys()}\n",
    "    good_dict = {k:[] for k in codex_result_dict.keys()}\n",
    "    for (lang1, lang2), dic in codex_result_dict.items():\n",
    "        pids = list(dic.keys())\n",
    "        for pid in pids:\n",
    "            func_dic = dic[pid]\n",
    "            in_func = func_dic['input']\n",
    "            out_func = func_dic['output']\n",
    "            if pid in codex_lang_dict[lang1]:\n",
    "                orig_in = codex_lang_dict[lang1][pid]\n",
    "                in_func_proc = \"\".join(in_func.split())\n",
    "                orig_in_proc = \"\".join(orig_in.split())\n",
    "                if in_func_proc != orig_in_proc:\n",
    "    #                 print(pid)\n",
    "    #                 print(in_func)\n",
    "    #                 print(\"-\"*20)\n",
    "    #                 print(orig_in)\n",
    "                    fail_dict[(lang1, lang2)] += 1\n",
    "                    if \"|\" in orig_in_proc:\n",
    "                        fail_or_dict[(lang1, lang2)] += 1\n",
    "    #                 else:\n",
    "    #                     print(pid)\n",
    "    #                     print(in_func)\n",
    "    #                     print(\"-\"*20)\n",
    "    #                     print(orig_in)\n",
    "                else:\n",
    "                    good_dict[(lang1, lang2)].append(pid)\n",
    "        print(\"failed\", (lang1, lang2), fail_dict[(lang1, lang2)])\n",
    "    return good_dict\n",
    "\n",
    "def get_pairwise_pids(lang_pairs, codex_lang_dict):\n",
    "    iterated_set = set()\n",
    "    common_keys_dict = {}\n",
    "    for lang1, lang2 in lang_pairs:\n",
    "        if (lang1, lang2) not in iterated_set and (lang2, lang1) not in iterated_set:\n",
    "            iterated_set.add((lang1, lang2))\n",
    "            iterated_set.add((lang2, lang1))\n",
    "            pids1 = list(codex_lang_dict[lang1].keys())\n",
    "            pids2 = list(codex_lang_dict[lang2].keys())\n",
    "            common_keys = list(set(pids1) & set(pids2))\n",
    "            common_keys_dict[(lang1, lang2)] = common_keys\n",
    "    return common_keys_dict\n",
    "\n",
    "def get_todo_dict(lang_pairs, good_dict, common_keys_dict):\n",
    "    todo_dict = {}\n",
    "    for lang1, lang2 in lang_pairs:\n",
    "        common_keys = []\n",
    "        if (lang1, lang2) in common_keys_dict:\n",
    "            common_keys = common_keys_dict[(lang1, lang2)]\n",
    "        else:\n",
    "            common_keys = common_keys_dict[(lang2, lang1)]\n",
    "        if (lang1, lang2) not in good_dict:\n",
    "            todo_dict[(lang1, lang2)] = common_keys\n",
    "        else:\n",
    "            set_common = set(common_keys)\n",
    "            set_exist = set(good_dict[(lang1, lang2)])\n",
    "            todo_dict[(lang1, lang2)] = list(set_common - set_exist)\n",
    "    return todo_dict\n",
    "\n",
    "def get_minimal_todo_dict(lang_pairs, common_keys_dict):\n",
    "    minimal_todo_dict = {}\n",
    "    for lang1, lang2 in lang_pairs:\n",
    "        common_keys = []\n",
    "        if (lang1, lang2) in common_keys_dict:\n",
    "            common_keys = common_keys_dict[(lang1, lang2)]\n",
    "        else:\n",
    "            common_keys = common_keys_dict[(lang2, lang1)]\n",
    "        if (lang1, lang2) not in good_dict:\n",
    "            minimal_todo_dict[(lang1, lang2)] = common_keys[:100]\n",
    "        else:\n",
    "            set_common = set(common_keys)\n",
    "            set_exist = set(good_dict[(lang1, lang2)])\n",
    "            if len(set_exist) > 100:\n",
    "                continue\n",
    "            todo_num = 100 - len(set_common)\n",
    "            minimal_todo_dict[(lang1, lang2)] = list(set_common - set_exist)[:todo_num]\n",
    "    return minimal_todo_dict\n",
    "\n",
    "def get_minimal_code_dict(minimal_todo_dict, codex_lang_dict):\n",
    "    minimal_code_dict = {}\n",
    "    for k, v in minimal_todo_dict.items():\n",
    "        lang1, lang2 = k\n",
    "        minimal_code_dict[k] = {}\n",
    "        minimal_code_dict[k]['pids'] = v\n",
    "        minimal_code_dict[k]['inputs'] = {x:codex_lang_dict[lang1][x] for x in v}\n",
    "        print(k, len(v))\n",
    "    return minimal_code_dict\n",
    "\n",
    "def get_filtered_code_dict(good_dict, codex_result_dict):\n",
    "    filtered_codex_dict = {}\n",
    "    for k, pids in good_dict.items():\n",
    "        lang1, lang2 = k\n",
    "        filtered_codex_dict[k] = {}\n",
    "        for pid in pids:\n",
    "            filtered_codex_dict[k][pid] = codex_result_dict[k][pid]\n",
    "        print(k, len(pids))\n",
    "    return filtered_codex_dict\n",
    "\n",
    "def merged_codex_result_dicts(codex_result_dicts):\n",
    "    repeated_dict = {}\n",
    "    merged_codex_result_dict = {}\n",
    "    for codex_result_dict in codex_result_dicts:\n",
    "        for lang_pair, v in codex_result_dict.items():\n",
    "            repeated_dict[lang_pair] = []\n",
    "            if lang_pair in merged_codex_result_dict:\n",
    "                for k, v_unit in v.items():\n",
    "                    if k in merged_codex_result_dict[lang_pair]:\n",
    "                        repeated_dict[lang_pair].append(k)\n",
    "                    else:\n",
    "                        merged_codex_result_dict[lang_pair][k] = v_unit\n",
    "            else:\n",
    "                merged_codex_result_dict[lang_pair] = v\n",
    "        if len(repeated_dict[lang_pair]) > 0:\n",
    "            print(lang_pair, len(repeated_dict[lang_pair]))\n",
    "    return merged_codex_result_dict"
   ]
  },
  {
   "cell_type": "code",
   "execution_count": 6,
   "id": "chief-capability",
   "metadata": {},
   "outputs": [
    {
     "name": "stdout",
     "output_type": "stream",
     "text": [
      "('Java', 'Python') 256\n",
      "('Python', 'Java') 49\n",
      "('C++', 'Python') 254\n",
      "('Python', 'C++') 49\n",
      "('Python', 'Javascript') 49\n",
      "('C', 'Python') 50\n",
      "('Python', 'C') 49\n",
      "('Java', 'C#') 50\n",
      "('C#', 'Java') 50\n",
      "\n",
      "('Java', 'Python') 327\n",
      "('Python', 'Java') 50\n",
      "('C++', 'Python') 52\n",
      "('Python', 'C++') 50\n",
      "('Python', 'Javascript') 50\n",
      "('Javascript', 'Python') 50\n",
      "('Python', 'C') 50\n",
      "('Java', 'C#') 50\n",
      "('C#', 'Java') 50\n"
     ]
    }
   ],
   "source": [
    "codex_result_dict1 = get_codex_result_dict(dics1)\n",
    "print()\n",
    "codex_result_dict2 = get_codex_result_dict(dics2)\n",
    "# merge the codex_result_dicts\n",
    "merged_codex_result_dict = merged_codex_result_dicts([codex_result_dict1, codex_result_dict2])"
   ]
  },
  {
   "cell_type": "code",
   "execution_count": 7,
   "id": "anonymous-navigator",
   "metadata": {},
   "outputs": [
    {
     "name": "stdout",
     "output_type": "stream",
     "text": [
      "('Java', 'Python') 583\n",
      "('Python', 'Java') 99\n",
      "('C++', 'Python') 306\n",
      "('Python', 'C++') 99\n",
      "('Python', 'Javascript') 99\n",
      "('C', 'Python') 50\n",
      "('Python', 'C') 99\n",
      "('Java', 'C#') 100\n",
      "('C#', 'Java') 100\n",
      "('Javascript', 'Python') 50\n"
     ]
    }
   ],
   "source": [
    "for lang_pair, dic in merged_codex_result_dict.items():\n",
    "    print(lang_pair, len(dic))"
   ]
  },
  {
   "cell_type": "code",
   "execution_count": 8,
   "id": "photographic-budapest",
   "metadata": {},
   "outputs": [
    {
     "ename": "AttributeError",
     "evalue": "'float' object has no attribute 'split'",
     "output_type": "error",
     "traceback": [
      "\u001b[0;31m---------------------------------------------------------------------------\u001b[0m",
      "\u001b[0;31mAttributeError\u001b[0m                            Traceback (most recent call last)",
      "\u001b[0;32m<ipython-input-8-9180f721bc98>\u001b[0m in \u001b[0;36m<module>\u001b[0;34m\u001b[0m\n\u001b[1;32m      7\u001b[0m         \u001b[0mlang_pairs\u001b[0m\u001b[0;34m.\u001b[0m\u001b[0mappend\u001b[0m\u001b[0;34m(\u001b[0m\u001b[0;34m(\u001b[0m\u001b[0mlang1\u001b[0m\u001b[0;34m,\u001b[0m \u001b[0mlang2\u001b[0m\u001b[0;34m)\u001b[0m\u001b[0;34m)\u001b[0m\u001b[0;34m\u001b[0m\u001b[0;34m\u001b[0m\u001b[0m\n\u001b[1;32m      8\u001b[0m \u001b[0;34m\u001b[0m\u001b[0m\n\u001b[0;32m----> 9\u001b[0;31m \u001b[0mgood_dict\u001b[0m \u001b[0;34m=\u001b[0m \u001b[0mget_filtered_id_dict\u001b[0m\u001b[0;34m(\u001b[0m\u001b[0mmerged_codex_result_dict\u001b[0m\u001b[0;34m,\u001b[0m \u001b[0mcodex_lang_dict\u001b[0m\u001b[0;34m)\u001b[0m\u001b[0;34m\u001b[0m\u001b[0;34m\u001b[0m\u001b[0m\n\u001b[0m\u001b[1;32m     10\u001b[0m \u001b[0mfiltered_codex_dict\u001b[0m \u001b[0;34m=\u001b[0m \u001b[0mget_filtered_code_dict\u001b[0m\u001b[0;34m(\u001b[0m\u001b[0mgood_dict\u001b[0m\u001b[0;34m,\u001b[0m \u001b[0mmerged_codex_result_dict\u001b[0m\u001b[0;34m)\u001b[0m\u001b[0;34m\u001b[0m\u001b[0;34m\u001b[0m\u001b[0m\n\u001b[1;32m     11\u001b[0m \u001b[0;32mfor\u001b[0m \u001b[0mlang_pair\u001b[0m\u001b[0;34m,\u001b[0m \u001b[0mdic\u001b[0m \u001b[0;32min\u001b[0m \u001b[0mgood_dict\u001b[0m\u001b[0;34m.\u001b[0m\u001b[0mitems\u001b[0m\u001b[0;34m(\u001b[0m\u001b[0;34m)\u001b[0m\u001b[0;34m:\u001b[0m\u001b[0;34m\u001b[0m\u001b[0;34m\u001b[0m\u001b[0m\n",
      "\u001b[0;32m<ipython-input-2-fce6332cca90>\u001b[0m in \u001b[0;36mget_filtered_id_dict\u001b[0;34m(codex_result_dict, codex_lang_dict)\u001b[0m\n\u001b[1;32m     48\u001b[0m             \u001b[0;32mif\u001b[0m \u001b[0mpid\u001b[0m \u001b[0;32min\u001b[0m \u001b[0mcodex_lang_dict\u001b[0m\u001b[0;34m[\u001b[0m\u001b[0mlang1\u001b[0m\u001b[0;34m]\u001b[0m\u001b[0;34m:\u001b[0m\u001b[0;34m\u001b[0m\u001b[0;34m\u001b[0m\u001b[0m\n\u001b[1;32m     49\u001b[0m                 \u001b[0morig_in\u001b[0m \u001b[0;34m=\u001b[0m \u001b[0mcodex_lang_dict\u001b[0m\u001b[0;34m[\u001b[0m\u001b[0mlang1\u001b[0m\u001b[0;34m]\u001b[0m\u001b[0;34m[\u001b[0m\u001b[0mpid\u001b[0m\u001b[0;34m]\u001b[0m\u001b[0;34m\u001b[0m\u001b[0;34m\u001b[0m\u001b[0m\n\u001b[0;32m---> 50\u001b[0;31m                 \u001b[0min_func_proc\u001b[0m \u001b[0;34m=\u001b[0m \u001b[0;34m\"\"\u001b[0m\u001b[0;34m.\u001b[0m\u001b[0mjoin\u001b[0m\u001b[0;34m(\u001b[0m\u001b[0min_func\u001b[0m\u001b[0;34m.\u001b[0m\u001b[0msplit\u001b[0m\u001b[0;34m(\u001b[0m\u001b[0;34m)\u001b[0m\u001b[0;34m)\u001b[0m\u001b[0;34m\u001b[0m\u001b[0;34m\u001b[0m\u001b[0m\n\u001b[0m\u001b[1;32m     51\u001b[0m                 \u001b[0morig_in_proc\u001b[0m \u001b[0;34m=\u001b[0m \u001b[0;34m\"\"\u001b[0m\u001b[0;34m.\u001b[0m\u001b[0mjoin\u001b[0m\u001b[0;34m(\u001b[0m\u001b[0morig_in\u001b[0m\u001b[0;34m.\u001b[0m\u001b[0msplit\u001b[0m\u001b[0;34m(\u001b[0m\u001b[0;34m)\u001b[0m\u001b[0;34m)\u001b[0m\u001b[0;34m\u001b[0m\u001b[0;34m\u001b[0m\u001b[0m\n\u001b[1;32m     52\u001b[0m                 \u001b[0;32mif\u001b[0m \u001b[0min_func_proc\u001b[0m \u001b[0;34m!=\u001b[0m \u001b[0morig_in_proc\u001b[0m\u001b[0;34m:\u001b[0m\u001b[0;34m\u001b[0m\u001b[0;34m\u001b[0m\u001b[0m\n",
      "\u001b[0;31mAttributeError\u001b[0m: 'float' object has no attribute 'split'"
     ]
    }
   ],
   "source": [
    "new_langs = [\"C++\", \"Java\", \"Python\", \"C#\", \"C\"]\n",
    "lang_pairs = []\n",
    "for lang1 in new_langs:\n",
    "    for lang2 in new_langs:\n",
    "        if lang2 == lang1:\n",
    "            continue\n",
    "        lang_pairs.append((lang1, lang2))\n",
    "\n",
    "good_dict = get_filtered_id_dict(merged_codex_result_dict, codex_lang_dict)\n",
    "filtered_codex_dict = get_filtered_code_dict(good_dict, merged_codex_result_dict)\n",
    "for lang_pair, dic in good_dict.items():\n",
    "    print(lang_pair, len(dic))"
   ]
  },
  {
   "cell_type": "code",
   "execution_count": 68,
   "id": "maritime-april",
   "metadata": {},
   "outputs": [],
   "source": [
    "common_keys_dict = get_pairwise_pids(lang_pairs, codex_lang_dict)\n",
    "todo_dict = get_todo_dict(lang_pairs, good_dict, common_keys_dict)\n",
    "minimal_todo_dict = get_minimal_todo_dict(lang_pairs, common_keys_dict)\n",
    "minimal_code_dict = get_minimal_code_dict(minimal_todo_dict, codex_lang_dict)"
   ]
  },
  {
   "cell_type": "code",
   "execution_count": null,
   "id": "adverse-integral",
   "metadata": {},
   "outputs": [],
   "source": [
    "# TODO\n",
    "# check the CA of existing translations.\n",
    "# minimal_code_dict"
   ]
  },
  {
   "cell_type": "code",
   "execution_count": 72,
   "id": "dominican-dryer",
   "metadata": {},
   "outputs": [],
   "source": [
    "import pickle\n",
    "with open('minimal_code_dict.pkl', 'wb') as outfile:\n",
    "    pickle.dump(minimal_code_dict, outfile)"
   ]
  },
  {
   "cell_type": "code",
   "execution_count": 73,
   "id": "immune-radius",
   "metadata": {},
   "outputs": [],
   "source": [
    "import pickle\n",
    "with open('minimal_code_dict.pkl', 'rb') as infile:\n",
    "    minimal_code_dict = pickle.load(infile)"
   ]
  },
  {
   "cell_type": "code",
   "execution_count": 3,
   "id": "southeast-peripheral",
   "metadata": {},
   "outputs": [],
   "source": [
    "with open('codex_lang_dict_test.json') as infile:\n",
    "    codex_lang_dict = json.load(infile)"
   ]
  },
  {
   "cell_type": "code",
   "execution_count": 4,
   "id": "respected-coordinator",
   "metadata": {},
   "outputs": [],
   "source": [
    "with open('Translation_data.batch1j.json') as infile:\n",
    "    dics1 = json.load(infile)"
   ]
  },
  {
   "cell_type": "code",
   "execution_count": 5,
   "id": "reduced-jordan",
   "metadata": {},
   "outputs": [],
   "source": [
    "with open('Translation_data.otherstudentcode.json') as infile:\n",
    "    dics2 = json.load(infile)"
   ]
  },
  {
   "cell_type": "code",
   "execution_count": null,
   "id": "acoustic-correction",
   "metadata": {},
   "outputs": [],
   "source": [
    "import pickle\n",
    "with open('merged_filtered_codex_dict.pkl', 'rb') as infile:\n",
    "    good_dict = pickle.load(infile)"
   ]
  },
  {
   "cell_type": "code",
   "execution_count": 12,
   "id": "amended-smile",
   "metadata": {},
   "outputs": [],
   "source": [
    "import pickle\n",
    "with open('merged_filtered_codex_dict.pkl', 'wb') as outfile:\n",
    "    pickle.dump(filtered_codex_dict, outfile)"
   ]
  },
  {
   "cell_type": "code",
   "execution_count": null,
   "id": "aggregate-switzerland",
   "metadata": {},
   "outputs": [],
   "source": []
  }
 ],
 "metadata": {
  "kernelspec": {
   "display_name": "Python 3",
   "language": "python",
   "name": "python3"
  },
  "language_info": {
   "codemirror_mode": {
    "name": "ipython",
    "version": 3
   },
   "file_extension": ".py",
   "mimetype": "text/x-python",
   "name": "python",
   "nbconvert_exporter": "python",
   "pygments_lexer": "ipython3",
   "version": "3.6.9"
  }
 },
 "nbformat": 4,
 "nbformat_minor": 5
}
