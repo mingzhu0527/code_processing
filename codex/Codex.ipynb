{
 "cells": [
  {
   "cell_type": "code",
   "execution_count": 1,
   "id": "severe-still",
   "metadata": {},
   "outputs": [],
   "source": [
    "import json"
   ]
  },
  {
   "cell_type": "code",
   "execution_count": 10,
   "id": "recreational-hammer",
   "metadata": {},
   "outputs": [],
   "source": [
    "def get_codex_result_dict(dics):\n",
    "    codex_result_dict = {}\n",
    "    for lang_pair, dic in dics.items():\n",
    "        lang1, lang2 = lang_pair.split('-')\n",
    "        lang1 = lang1.strip()\n",
    "        lang2 = lang2.strip()\n",
    "        if lang2 == \"python\":\n",
    "            lang2 = \"Python\"\n",
    "        codex_result_dict[(lang1, lang2)] = {}\n",
    "        if 'ID' in dic:\n",
    "            pid_dict = dic['ID']\n",
    "        elif 'id' in dic:\n",
    "            pid_dict = dic['id']\n",
    "        elif 'Id' in dic:\n",
    "            pid_dict = dic['Id']\n",
    "        else:\n",
    "            print(\"no id!\")\n",
    "            return\n",
    "        if lang1 not in dic:\n",
    "            lang1_dict = dic[lang1.lower()]\n",
    "        else:\n",
    "            lang1_dict = dic[lang1]\n",
    "        if lang2 not in dic:\n",
    "            lang2_dict = dic[lang2.lower()]\n",
    "        else:\n",
    "            lang2_dict = dic[lang2]\n",
    "        assert(len(pid_dict) == len(lang1_dict) and len(lang1_dict) == len(lang2_dict))\n",
    "        for i in range(len(pid_dict)):\n",
    "            new_dict = {}\n",
    "            pid = str(pid_dict[str(i)])\n",
    "            lang1_function = lang1_dict[str(i)]\n",
    "            lang2_function = lang2_dict[str(i)]\n",
    "            new_dict['pid'] = pid\n",
    "            new_dict['input'] = str(lang1_function)\n",
    "            new_dict['output'] = str(lang2_function)\n",
    "            codex_result_dict[(lang1, lang2)][pid] = new_dict\n",
    "        print((lang1, lang2), len(codex_result_dict[(lang1, lang2)]))\n",
    "    return codex_result_dict\n",
    "\n",
    "def get_filtered_id_dict(codex_result_dict, codex_lang_dict):\n",
    "    fail_or_dict = {k:0 for k in codex_result_dict.keys()}\n",
    "    fail_dict = {k:0 for k in codex_result_dict.keys()}\n",
    "    good_dict = {k:[] for k in codex_result_dict.keys()}\n",
    "    for (lang1, lang2), dic in codex_result_dict.items():\n",
    "        pids = list(dic.keys())\n",
    "        for pid in pids:\n",
    "            func_dic = dic[pid]\n",
    "            in_func = func_dic['input']\n",
    "            out_func = func_dic['output']\n",
    "            if pid in codex_lang_dict[lang1]:\n",
    "                orig_in = codex_lang_dict[lang1][pid]\n",
    "                in_func_proc = \"\".join(in_func.split())\n",
    "                orig_in_proc = \"\".join(orig_in.split())\n",
    "                if in_func_proc != orig_in_proc:\n",
    "    #                 print(pid)\n",
    "    #                 print(in_func)\n",
    "    #                 print(\"-\"*20)\n",
    "    #                 print(orig_in)\n",
    "                    fail_dict[(lang1, lang2)] += 1\n",
    "                    if \"|\" in orig_in_proc:\n",
    "                        fail_or_dict[(lang1, lang2)] += 1\n",
    "    #                 else:\n",
    "    #                     print(pid)\n",
    "    #                     print(in_func)\n",
    "    #                     print(\"-\"*20)\n",
    "    #                     print(orig_in)\n",
    "                else:\n",
    "                    good_dict[(lang1, lang2)].append(pid)\n",
    "        print(\"failed\", (lang1, lang2), fail_dict[(lang1, lang2)])\n",
    "    return good_dict\n",
    "\n",
    "def get_pairwise_pids(lang_pairs, codex_lang_dict):\n",
    "    iterated_set = set()\n",
    "    common_keys_dict = {}\n",
    "    for lang1, lang2 in lang_pairs:\n",
    "        if (lang1, lang2) not in iterated_set and (lang2, lang1) not in iterated_set:\n",
    "            iterated_set.add((lang1, lang2))\n",
    "            iterated_set.add((lang2, lang1))\n",
    "            pids1 = list(codex_lang_dict[lang1].keys())\n",
    "            pids2 = list(codex_lang_dict[lang2].keys())\n",
    "            common_keys = list(set(pids1) & set(pids2))\n",
    "            common_keys_dict[(lang1, lang2)] = common_keys\n",
    "    return common_keys_dict\n",
    "\n",
    "def get_todo_dict(lang_pairs, good_dict, common_keys_dict):\n",
    "    todo_dict = {}\n",
    "    for lang1, lang2 in lang_pairs:\n",
    "        common_keys = []\n",
    "        if (lang1, lang2) in common_keys_dict:\n",
    "            common_keys = common_keys_dict[(lang1, lang2)]\n",
    "        else:\n",
    "            common_keys = common_keys_dict[(lang2, lang1)]\n",
    "        if (lang1, lang2) not in good_dict:\n",
    "            todo_dict[(lang1, lang2)] = common_keys\n",
    "        else:\n",
    "            set_common = set(common_keys)\n",
    "            set_exist = set(good_dict[(lang1, lang2)])\n",
    "            todo_dict[(lang1, lang2)] = list(set_common - set_exist)\n",
    "    return todo_dict\n",
    "\n",
    "def get_minimal_todo_dict(lang_pairs, common_keys_dict):\n",
    "    minimal_todo_dict = {}\n",
    "    for lang1, lang2 in lang_pairs:\n",
    "        common_keys = []\n",
    "        if (lang1, lang2) in common_keys_dict:\n",
    "            common_keys = common_keys_dict[(lang1, lang2)]\n",
    "        else:\n",
    "            common_keys = common_keys_dict[(lang2, lang1)]\n",
    "        if (lang1, lang2) not in good_dict:\n",
    "            minimal_todo_dict[(lang1, lang2)] = common_keys[:100]\n",
    "        else:\n",
    "            set_common = set(common_keys)\n",
    "            set_exist = set(good_dict[(lang1, lang2)])\n",
    "            if len(set_exist) > 100:\n",
    "                continue\n",
    "            todo_num = 100 - len(set_common)\n",
    "            minimal_todo_dict[(lang1, lang2)] = list(set_common - set_exist)[:todo_num]\n",
    "    return minimal_todo_dict\n",
    "\n",
    "def get_minimal_code_dict(minimal_todo_dict, codex_lang_dict):\n",
    "    minimal_code_dict = {}\n",
    "    for k, v in minimal_todo_dict.items():\n",
    "        lang1, lang2 = k\n",
    "        minimal_code_dict[k] = {}\n",
    "        minimal_code_dict[k]['pids'] = v\n",
    "        minimal_code_dict[k]['inputs'] = {x:codex_lang_dict[lang1][x] for x in v}\n",
    "        print(k, len(v))\n",
    "    return minimal_code_dict\n",
    "\n",
    "def get_filtered_code_dict(good_dict, codex_result_dict):\n",
    "    filtered_codex_dict = {}\n",
    "    for k, pids in good_dict.items():\n",
    "        lang1, lang2 = k\n",
    "        filtered_codex_dict[k] = {}\n",
    "        for pid in pids:\n",
    "            filtered_codex_dict[k][pid] = codex_result_dict[k][pid]\n",
    "        print(k, len(pids))\n",
    "    return filtered_codex_dict\n",
    "\n",
    "def merged_codex_result_dicts(codex_result_dicts):\n",
    "    repeated_dict = {}\n",
    "    merged_codex_result_dict = {}\n",
    "    for codex_result_dict in codex_result_dicts:\n",
    "        for lang_pair, v in codex_result_dict.items():\n",
    "            repeated_dict[lang_pair] = []\n",
    "            if lang_pair in merged_codex_result_dict:\n",
    "                for k, v_unit in v.items():\n",
    "                    if k in merged_codex_result_dict[lang_pair]:\n",
    "                        repeated_dict[lang_pair].append(k)\n",
    "                    else:\n",
    "                        merged_codex_result_dict[lang_pair][k] = v_unit\n",
    "            else:\n",
    "                merged_codex_result_dict[lang_pair] = v\n",
    "        if len(repeated_dict[lang_pair]) > 0:\n",
    "            print(lang_pair, len(repeated_dict[lang_pair]))\n",
    "    return merged_codex_result_dict"
   ]
  },
  {
   "cell_type": "code",
   "execution_count": 11,
   "id": "general-maria",
   "metadata": {},
   "outputs": [
    {
     "name": "stdout",
     "output_type": "stream",
     "text": [
      "('Java', 'Python') 256\n",
      "('Python', 'Java') 49\n",
      "('C++', 'Python') 254\n",
      "('Python', 'C++') 49\n",
      "('Python', 'Javascript') 49\n",
      "('C', 'Python') 50\n",
      "('Python', 'C') 49\n",
      "('Java', 'C#') 50\n",
      "('C#', 'Java') 50\n",
      "\n",
      "('Java', 'Python') 327\n",
      "('Python', 'Java') 50\n",
      "('C++', 'Python') 52\n",
      "('Python', 'C++') 50\n",
      "('Python', 'Javascript') 50\n",
      "('Javascript', 'Python') 50\n",
      "('Python', 'C') 50\n",
      "('Java', 'C#') 50\n",
      "('C#', 'Java') 50\n",
      "('C++', 'C') 40\n",
      "('Java', 'C#') 59\n",
      "('Java', 'C') 39\n",
      "('Python', 'C++') 59\n",
      "('Python', 'Java') 57\n",
      "('Python', 'C') 29\n"
     ]
    }
   ],
   "source": [
    "codex_result_dict1 = get_codex_result_dict(dics1)\n",
    "print()\n",
    "codex_result_dict2 = get_codex_result_dict(dics2)\n",
    "codex_result_dict3 = get_codex_result_dict(dics3)"
   ]
  },
  {
   "cell_type": "code",
   "execution_count": 13,
   "id": "confidential-maine",
   "metadata": {},
   "outputs": [
    {
     "name": "stdout",
     "output_type": "stream",
     "text": [
      "('Java', 'Python') 256\n",
      "('Python', 'Java') 49\n",
      "('C++', 'Python') 254\n",
      "('Python', 'C++') 49\n",
      "('Python', 'Javascript') 49\n",
      "('C', 'Python') 50\n",
      "('Python', 'C') 49\n",
      "('Java', 'C#') 50\n",
      "('C#', 'Java') 50\n",
      "\n",
      "('Java', 'Python') 327\n",
      "('Python', 'Java') 50\n",
      "('C++', 'Python') 52\n",
      "('Python', 'C++') 50\n",
      "('Python', 'Javascript') 50\n",
      "('Javascript', 'Python') 50\n",
      "('Python', 'C') 50\n",
      "('Java', 'C#') 50\n",
      "('C#', 'Java') 50\n",
      "\n",
      "('C++', 'C') 40\n",
      "('Java', 'C#') 59\n",
      "('Java', 'C') 39\n",
      "('Python', 'C++') 59\n",
      "('Python', 'Java') 57\n",
      "('Python', 'C') 29\n",
      "('Python', 'C') 2\n"
     ]
    }
   ],
   "source": [
    "codex_result_dict1 = get_codex_result_dict(dics1)\n",
    "print()\n",
    "codex_result_dict2 = get_codex_result_dict(dics2)\n",
    "print()\n",
    "codex_result_dict3 = get_codex_result_dict(dics3)\n",
    "\n",
    "# merge the codex_result_dicts\n",
    "merged_codex_result_dict = merged_codex_result_dicts([codex_result_dict1, \n",
    "                                                      codex_result_dict2,\n",
    "                                                      codex_result_dict3])"
   ]
  },
  {
   "cell_type": "code",
   "execution_count": 14,
   "id": "hundred-alberta",
   "metadata": {},
   "outputs": [
    {
     "name": "stdout",
     "output_type": "stream",
     "text": [
      "('Java', 'Python') 583\n",
      "('Python', 'Java') 147\n",
      "('C++', 'Python') 306\n",
      "('Python', 'C++') 154\n",
      "('Python', 'Javascript') 99\n",
      "('C', 'Python') 50\n",
      "('Python', 'C') 126\n",
      "('Java', 'C#') 154\n",
      "('C#', 'Java') 100\n",
      "('Javascript', 'Python') 50\n",
      "('C++', 'C') 40\n",
      "('Java', 'C') 39\n"
     ]
    }
   ],
   "source": [
    "for lang_pair, dic in merged_codex_result_dict.items():\n",
    "    print(lang_pair, len(dic))"
   ]
  },
  {
   "cell_type": "code",
   "execution_count": 15,
   "id": "declared-brighton",
   "metadata": {},
   "outputs": [
    {
     "name": "stdout",
     "output_type": "stream",
     "text": [
      "failed ('Java', 'Python') 48\n",
      "failed ('Python', 'Java') 0\n",
      "failed ('C++', 'Python') 74\n",
      "failed ('Python', 'C++') 2\n",
      "failed ('Python', 'Javascript') 2\n",
      "failed ('C', 'Python') 4\n",
      "failed ('Python', 'C') 1\n",
      "failed ('Java', 'C#') 10\n",
      "failed ('C#', 'Java') 12\n",
      "failed ('Javascript', 'Python') 3\n",
      "failed ('C++', 'C') 1\n",
      "failed ('Java', 'C') 0\n",
      "('Java', 'Python') 503\n",
      "('Python', 'Java') 139\n",
      "('C++', 'Python') 211\n",
      "('Python', 'C++') 146\n",
      "('Python', 'Javascript') 87\n",
      "('C', 'Python') 35\n",
      "('Python', 'C') 116\n",
      "('Java', 'C#') 133\n",
      "('C#', 'Java') 84\n",
      "('Javascript', 'Python') 44\n",
      "('C++', 'C') 39\n",
      "('Java', 'C') 39\n",
      "('Java', 'Python') 503\n",
      "('Python', 'Java') 139\n",
      "('C++', 'Python') 211\n",
      "('Python', 'C++') 146\n",
      "('Python', 'Javascript') 87\n",
      "('C', 'Python') 35\n",
      "('Python', 'C') 116\n",
      "('Java', 'C#') 133\n",
      "('C#', 'Java') 84\n",
      "('Javascript', 'Python') 44\n",
      "('C++', 'C') 39\n",
      "('Java', 'C') 39\n"
     ]
    }
   ],
   "source": [
    "new_langs = [\"C++\", \"Java\", \"Python\", \"C#\", \"C\"]\n",
    "lang_pairs = []\n",
    "for lang1 in new_langs:\n",
    "    for lang2 in new_langs:\n",
    "        if lang2 == lang1:\n",
    "            continue\n",
    "        lang_pairs.append((lang1, lang2))\n",
    "\n",
    "good_dict = get_filtered_id_dict(merged_codex_result_dict, codex_lang_dict)\n",
    "filtered_codex_dict = get_filtered_code_dict(good_dict, merged_codex_result_dict)\n",
    "for lang_pair, dic in good_dict.items():\n",
    "    print(lang_pair, len(dic))"
   ]
  },
  {
   "cell_type": "code",
   "execution_count": 68,
   "id": "arabic-graph",
   "metadata": {},
   "outputs": [],
   "source": [
    "common_keys_dict = get_pairwise_pids(lang_pairs, codex_lang_dict)\n",
    "todo_dict = get_todo_dict(lang_pairs, good_dict, common_keys_dict)\n",
    "minimal_todo_dict = get_minimal_todo_dict(lang_pairs, common_keys_dict)\n",
    "minimal_code_dict = get_minimal_code_dict(minimal_todo_dict, codex_lang_dict)"
   ]
  },
  {
   "cell_type": "code",
   "execution_count": null,
   "id": "anticipated-funeral",
   "metadata": {},
   "outputs": [],
   "source": [
    "# TODO\n",
    "# check the CA of existing translations.\n",
    "# minimal_code_dict"
   ]
  },
  {
   "cell_type": "code",
   "execution_count": 72,
   "id": "respected-ordinance",
   "metadata": {},
   "outputs": [],
   "source": [
    "import pickle\n",
    "with open('minimal_code_dict.pkl', 'wb') as outfile:\n",
    "    pickle.dump(minimal_code_dict, outfile)"
   ]
  },
  {
   "cell_type": "code",
   "execution_count": 73,
   "id": "adolescent-magnitude",
   "metadata": {},
   "outputs": [],
   "source": [
    "import pickle\n",
    "with open('minimal_code_dict.pkl', 'rb') as infile:\n",
    "    minimal_code_dict = pickle.load(infile)"
   ]
  },
  {
   "cell_type": "code",
   "execution_count": 3,
   "id": "induced-green",
   "metadata": {},
   "outputs": [],
   "source": [
    "with open('codex_lang_dict_test.json') as infile:\n",
    "    codex_lang_dict = json.load(infile)"
   ]
  },
  {
   "cell_type": "code",
   "execution_count": 4,
   "id": "medieval-compilation",
   "metadata": {},
   "outputs": [],
   "source": [
    "with open('Translation_data.batch1j.json') as infile:\n",
    "    dics1 = json.load(infile)"
   ]
  },
  {
   "cell_type": "code",
   "execution_count": 5,
   "id": "appreciated-grant",
   "metadata": {},
   "outputs": [],
   "source": [
    "with open('Translation_data.otherstudentcode.json') as infile:\n",
    "    dics2 = json.load(infile)"
   ]
  },
  {
   "cell_type": "code",
   "execution_count": 6,
   "id": "earlier-dance",
   "metadata": {},
   "outputs": [],
   "source": [
    "with open('MoreTranslations.json') as infile:\n",
    "    dics3 = json.load(infile)"
   ]
  },
  {
   "cell_type": "code",
   "execution_count": null,
   "id": "juvenile-johns",
   "metadata": {},
   "outputs": [],
   "source": [
    "import pickle\n",
    "with open('merged_filtered_codex_dict.pkl', 'rb') as infile:\n",
    "    good_dict = pickle.load(infile)"
   ]
  },
  {
   "cell_type": "code",
   "execution_count": 16,
   "id": "accepting-angel",
   "metadata": {},
   "outputs": [],
   "source": [
    "import pickle\n",
    "with open('merged_filtered_codex_dict.pkl', 'wb') as outfile:\n",
    "    pickle.dump(filtered_codex_dict, outfile)"
   ]
  },
  {
   "cell_type": "code",
   "execution_count": null,
   "id": "fantastic-fancy",
   "metadata": {},
   "outputs": [],
   "source": []
  }
 ],
 "metadata": {
  "kernelspec": {
   "display_name": "Python 3",
   "language": "python",
   "name": "python3"
  },
  "language_info": {
   "codemirror_mode": {
    "name": "ipython",
    "version": 3
   },
   "file_extension": ".py",
   "mimetype": "text/x-python",
   "name": "python",
   "nbconvert_exporter": "python",
   "pygments_lexer": "ipython3",
   "version": "3.6.9"
  }
 },
 "nbformat": 4,
 "nbformat_minor": 5
}
