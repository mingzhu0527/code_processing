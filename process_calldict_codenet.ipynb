{
 "cells": [
  {
   "cell_type": "code",
   "execution_count": 35,
   "id": "tough-progress",
   "metadata": {},
   "outputs": [],
   "source": [
    "import os\n",
    "import torch\n",
    "os.environ['CUDA_VISIBLE_DEVICES'] = \"1\"\n",
    "device = torch.device(\"cuda\")"
   ]
  },
  {
   "cell_type": "code",
   "execution_count": 2,
   "id": "theoretical-seafood",
   "metadata": {},
   "outputs": [],
   "source": [
    "import sys\n",
    "sys.path.append('./huggingface_models/')\n",
    "sys.path.append('./utils/')\n",
    "from sample_utils import *\n",
    "from inference_utils import *\n",
    "from codenet_process_utils import *\n",
    "from self_training_utils import *"
   ]
  },
  {
   "cell_type": "code",
   "execution_count": 3,
   "id": "grave-favorite",
   "metadata": {},
   "outputs": [],
   "source": [
    "%load_ext autoreload\n",
    "%autoreload 2"
   ]
  },
  {
   "cell_type": "code",
   "execution_count": 4,
   "id": "prescribed-synthesis",
   "metadata": {},
   "outputs": [],
   "source": [
    "is_plbart = True\n",
    "merged_filtered_dict = get_prepro_filtered_dict(None, is_plbart)\n",
    "programs_dict = get_codenet_programs_dict(merged_filtered_dict)"
   ]
  },
  {
   "cell_type": "code",
   "execution_count": 5,
   "id": "specific-isolation",
   "metadata": {},
   "outputs": [],
   "source": [
    "plbart_sample_path = cached_path + 'plbart_codenet_preds_lang_dict.pkl'\n",
    "with open(plbart_sample_path, 'rb') as infile:\n",
    "     preds_lang_dict = pickle.load(infile)"
   ]
  },
  {
   "cell_type": "code",
   "execution_count": 60,
   "id": "available-shadow",
   "metadata": {},
   "outputs": [],
   "source": [
    "plbart_sample_path = cached_path + 'codet5_codenet_preds_lang_dict.pkl'\n",
    "with open(plbart_sample_path, 'rb') as infile:\n",
    "     preds_lang_dict = pickle.load(infile)"
   ]
  },
  {
   "cell_type": "code",
   "execution_count": 65,
   "id": "stable-crash",
   "metadata": {},
   "outputs": [],
   "source": [
    "plbart_sample_path = cached_path + 'codet5_full_codenet_preds_lang_dict.pkl'\n",
    "with open(plbart_sample_path, 'rb') as infile:\n",
    "     codet5_full_preds_lang_dict = pickle.load(infile)"
   ]
  },
  {
   "cell_type": "code",
   "execution_count": 67,
   "id": "wireless-damage",
   "metadata": {},
   "outputs": [
    {
     "data": {
      "text/plain": [
       "dict_keys([('C++', 'C#'), ('C#', 'Java'), ('C#', 'Python'), ('C#', 'C++'), ('Java', 'C#'), ('Java', 'Python'), ('Java', 'C++'), ('C', 'Java'), ('C', 'Python'), ('C', 'C#'), ('C', 'C++'), ('Java', 'C'), ('Python', 'C'), ('C#', 'C')])"
      ]
     },
     "execution_count": 67,
     "metadata": {},
     "output_type": "execute_result"
    }
   ],
   "source": [
    "codet5_full_preds_lang_dict.keys()"
   ]
  },
  {
   "cell_type": "code",
   "execution_count": 71,
   "id": "proper-metropolitan",
   "metadata": {},
   "outputs": [],
   "source": [
    "with open(cached_path + \"plbart_full_codenet_lang_pair_call_dict.pkl\", 'rb') as infile:\n",
    "    hypo_call_dict = pickle.load(infile)"
   ]
  },
  {
   "cell_type": "code",
   "execution_count": 72,
   "id": "welsh-pantyhose",
   "metadata": {},
   "outputs": [
    {
     "data": {
      "text/plain": [
       "dict_keys([('C++', 'Java'), ('C++', 'C#'), ('C++', 'Python'), ('Java', 'C++'), ('Java', 'C#'), ('Java', 'Python'), ('C#', 'C++'), ('C#', 'Java'), ('C#', 'Python')])"
      ]
     },
     "execution_count": 72,
     "metadata": {},
     "output_type": "execute_result"
    }
   ],
   "source": [
    "hypo_call_dict.keys()"
   ]
  },
  {
   "cell_type": "code",
   "execution_count": 69,
   "id": "pointed-giving",
   "metadata": {},
   "outputs": [],
   "source": [
    "with open(cached_path + \"codet5_full_codenet_lang_pair_call_dict.pkl\", 'rb') as infile:\n",
    "    hypo_call_dict = pickle.load(infile)"
   ]
  },
  {
   "cell_type": "code",
   "execution_count": 7,
   "id": "critical-boxing",
   "metadata": {},
   "outputs": [],
   "source": [
    "call_dict_list = []\n",
    "for i in range(41):\n",
    "    call_dict_path = cached_path + 'codenet/codenet_call_dict_' + str(i) + '.json'\n",
    "    with open(call_dict_path) as infile:\n",
    "        call_dict = json.load(infile)\n",
    "    call_dict_list.append(call_dict)\n"
   ]
  },
  {
   "cell_type": "code",
   "execution_count": null,
   "id": "measured-wilderness",
   "metadata": {},
   "outputs": [],
   "source": [
    "# [programs, processed_results, result_keys, error_type_dict] = call_dict"
   ]
  },
  {
   "cell_type": "code",
   "execution_count": 12,
   "id": "vanilla-mobile",
   "metadata": {},
   "outputs": [],
   "source": [
    "lang1 = \"Python\"\n",
    "lang2 = \"Java\"\n",
    "# new_preds is preds after dedup; functions are new_preds after type filtering\n",
    "# programs are functions with import_str\n",
    "# 理论上只能用type filtering之后的(之前是不是也可以？因为之前也可能有Bug, 只不过通过type给过滤掉了)\n",
    "# 用之后的，好处在于可以帮忙找到type无法过滤的bug\n",
    "[new_preds, functions, function_id_dict, call_list] = hypo_call_dict[(lang1, lang2)]\n",
    "[programs, processed_results, result_keys, error_type_dict] = call_list"
   ]
  },
  {
   "cell_type": "code",
   "execution_count": 33,
   "id": "dangerous-anthony",
   "metadata": {},
   "outputs": [
    {
     "name": "stdout",
     "output_type": "stream",
     "text": [
      "226539\n"
     ]
    }
   ],
   "source": [
    "sum_num = 0\n",
    "for preds in new_preds:\n",
    "    sum_num += len(preds)\n",
    "print(sum_num)"
   ]
  },
  {
   "cell_type": "code",
   "execution_count": 34,
   "id": "turkish-rugby",
   "metadata": {},
   "outputs": [
    {
     "data": {
      "text/plain": [
       "185787"
      ]
     },
     "execution_count": 34,
     "metadata": {},
     "output_type": "execute_result"
    }
   ],
   "source": [
    "len(functions)"
   ]
  },
  {
   "cell_type": "code",
   "execution_count": 57,
   "id": "practical-congress",
   "metadata": {},
   "outputs": [
    {
     "name": "stdout",
     "output_type": "stream",
     "text": [
      "('Java', 'C') 10511 794 5043 862 3470 342\n",
      "('Python', 'C') 26911 3936 4417 586 17229 743\n",
      "('C#', 'C') 3101 105 1923 327 672 74\n",
      "('C++', 'C') 37126 5332 4565 4540 16771 5918\n",
      "('C', 'Java') 12424 2727 1705 1164 4244 2584\n",
      "('C', 'Python') 12424 5641 0 250 4436 2097\n",
      "('C', 'C#') 12424 2485 1607 1586 4296 2450\n",
      "('C', 'C++') 12424 3305 548 2249 2821 3501\n"
     ]
    }
   ],
   "source": [
    "hypo_pos_neg_dict = {}\n",
    "for k, v in hypo_call_dict.items():\n",
    "    [new_preds, functions, function_id_dict, call_list] = hypo_call_dict[k]\n",
    "    [programs, processed_results, result_keys, error_type_dict] = call_list\n",
    "    hypo_pos_neg_dict[k] = {}\n",
    "    count0 = 0\n",
    "    count1 = 0\n",
    "    count2 = 0\n",
    "    count3 = 0\n",
    "    for i in range(len(new_preds)):\n",
    "        function_ids = function_id_dict[i]\n",
    "        if len(function_ids) ==0:\n",
    "            count0 += 1\n",
    "            continue\n",
    "        if len(function_ids) ==1:\n",
    "            count1 += 1\n",
    "            continue\n",
    "        results = [result_keys[x] for x in function_ids]\n",
    "        results_set = set(results)\n",
    "        if 'empty' in results_set:\n",
    "            if len(results_set) > 1:\n",
    "                hypo_pos_neg_dict[k][i] = {'pos':[], 'neg':[]}\n",
    "                for j in function_ids:\n",
    "                    function = functions[j]\n",
    "                    result = result_keys[j]\n",
    "                    if result == 'empty':\n",
    "                        hypo_pos_neg_dict[k][i]['pos'].append(j)\n",
    "                    else:\n",
    "                        hypo_pos_neg_dict[k][i]['neg'].append(j)\n",
    "            else:\n",
    "                count3 += 1\n",
    "        else:\n",
    "            count2 += 1\n",
    "    print(k, len(new_preds), len(hypo_pos_neg_dict[k]), count0, count1, count2, count3)\n",
    "#     print(k, len(hypo_pos_neg_dict[k]))"
   ]
  },
  {
   "cell_type": "code",
   "execution_count": 58,
   "id": "split-comparison",
   "metadata": {},
   "outputs": [],
   "source": [
    "# merge by lang\n",
    "merged_hypo_pos_neg_dict = {lang:[] for lang in new_langs}\n",
    "for lang1 in new_langs:\n",
    "    for lang2 in new_langs:\n",
    "        if lang1 == lang2:\n",
    "            continue\n",
    "        if (lang1, lang2) in hypo_pos_neg_dict:\n",
    "            [new_preds, functions, function_id_dict, call_list] = hypo_call_dict[(lang1, lang2)]\n",
    "            idx_list = list(hypo_pos_neg_dict[(lang1, lang2)].keys())\n",
    "            idx_sorted = sorted(idx_list)\n",
    "            for i in idx_sorted:\n",
    "                pn_funtion_dict = {}\n",
    "                pn_dict = hypo_pos_neg_dict[(lang1, lang2)][i]\n",
    "                for key in pn_dict.keys():\n",
    "                    pn_funtion_dict[key] = [functions[x] for x in pn_dict[key]]\n",
    "                merged_hypo_pos_neg_dict[lang2].append(pn_funtion_dict)\n",
    "        "
   ]
  },
  {
   "cell_type": "code",
   "execution_count": 59,
   "id": "prostate-helena",
   "metadata": {},
   "outputs": [
    {
     "name": "stdout",
     "output_type": "stream",
     "text": [
      "C++ 3305\n",
      "Java 2727\n",
      "Python 5641\n",
      "C# 2485\n",
      "C 10167\n"
     ]
    }
   ],
   "source": [
    "for lang in new_langs:\n",
    "    print(lang, len(merged_hypo_pos_neg_dict[lang]))"
   ]
  },
  {
   "cell_type": "code",
   "execution_count": 42,
   "id": "pending-essay",
   "metadata": {},
   "outputs": [
    {
     "data": {
      "text/plain": [
       "{'pos': [148762, 148763], 'neg': [148759, 148760, 148761, 148764]}"
      ]
     },
     "execution_count": 42,
     "metadata": {},
     "output_type": "execute_result"
    }
   ],
   "source": [
    "hypo_pos_neg_dict[21754]"
   ]
  },
  {
   "cell_type": "code",
   "execution_count": 28,
   "id": "hollywood-component",
   "metadata": {},
   "outputs": [
    {
     "data": {
      "text/plain": [
       "185787"
      ]
     },
     "execution_count": 28,
     "metadata": {},
     "output_type": "execute_result"
    }
   ],
   "source": [
    "len(result_keys)"
   ]
  },
  {
   "cell_type": "code",
   "execution_count": 20,
   "id": "recreational-royalty",
   "metadata": {},
   "outputs": [
    {
     "name": "stdout",
     "output_type": "stream",
     "text": [
      "static void printStack() { for (int i = 1; i < 10; i++) { for (int j = 1; j < 10; j++) { System.out.print(i + \" x\" + \" \" + j + \" = \" + (i * j)); } } }\n"
     ]
    }
   ],
   "source": [
    "print(functions[0])"
   ]
  },
  {
   "cell_type": "code",
   "execution_count": null,
   "id": "apparent-translation",
   "metadata": {},
   "outputs": [],
   "source": []
  }
 ],
 "metadata": {
  "kernelspec": {
   "display_name": "Python 3",
   "language": "python",
   "name": "python3"
  },
  "language_info": {
   "codemirror_mode": {
    "name": "ipython",
    "version": 3
   },
   "file_extension": ".py",
   "mimetype": "text/x-python",
   "name": "python",
   "nbconvert_exporter": "python",
   "pygments_lexer": "ipython3",
   "version": "3.6.9"
  }
 },
 "nbformat": 4,
 "nbformat_minor": 5
}
