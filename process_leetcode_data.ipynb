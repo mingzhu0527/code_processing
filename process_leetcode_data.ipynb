{
 "cells": [
  {
   "cell_type": "code",
   "execution_count": 1,
   "id": "injured-blackberry",
   "metadata": {
    "scrolled": true
   },
   "outputs": [],
   "source": [
    "import sys\n",
    "sys.path.append('./utils/')\n",
    "from leetcode_process_utils import *"
   ]
  },
  {
   "cell_type": "markdown",
   "id": "talented-magazine",
   "metadata": {},
   "source": [
    "### Process alternative leetcode data"
   ]
  },
  {
   "cell_type": "markdown",
   "id": "caring-florence",
   "metadata": {},
   "source": [
    "#### Get problems_dict (contains problem info and cpp solutions)"
   ]
  },
  {
   "cell_type": "code",
   "execution_count": 2,
   "id": "spatial-energy",
   "metadata": {},
   "outputs": [
    {
     "name": "stdout",
     "output_type": "stream",
     "text": [
      "1341 the-k-weakest-rows-in-a-matrix 1337\n"
     ]
    }
   ],
   "source": [
    "problems_dict, pid_dict, title_pid_dict = get_problem_dict_leetcode(problem_path)\n",
    "add_input_output_leetcode(problems_dict)\n",
    "add_codestring_from_readme(problems_dict)\n",
    "testcases_dict = get_testcases_dict(testcase_path, problems_dict)"
   ]
  },
  {
   "cell_type": "markdown",
   "id": "magnetic-share",
   "metadata": {},
   "source": [
    "#### Get alternative leetcode data I"
   ]
  },
  {
   "cell_type": "code",
   "execution_count": 5,
   "id": "generous-drove",
   "metadata": {},
   "outputs": [],
   "source": [
    "lang_paths = [python_new_path, java_new_path, cpp_new_path]\n",
    "lang_paths_dict = {lang:lang_paths[i] for i, lang in enumerate(tri_langs)}\n",
    "new_lang_dict = get_new_leetcode_dict(lang_paths_dict, testcases_dict, title_pid_dict, problems_dict)"
   ]
  },
  {
   "cell_type": "code",
   "execution_count": 30,
   "id": "unlimited-taylor",
   "metadata": {},
   "outputs": [],
   "source": [
    "code_lang_dict_new = read_updated_code_dict(code_dict_path_new)\n",
    "code_id_lang_dict_new = get_id_lang_dic(code_lang_dict_new)"
   ]
  },
  {
   "cell_type": "markdown",
   "id": "durable-bottle",
   "metadata": {},
   "source": [
    "#### Get alternative leetcode data II"
   ]
  },
  {
   "cell_type": "code",
   "execution_count": 4,
   "id": "tropical-major",
   "metadata": {},
   "outputs": [],
   "source": [
    "cpp_code_dict = get_cpp_codedict_readme(problems_dict, testcases_dict)\n",
    "lang_dict_readme = {'C++':cpp_code_dict}"
   ]
  },
  {
   "cell_type": "code",
   "execution_count": 300,
   "id": "expensive-victoria",
   "metadata": {},
   "outputs": [],
   "source": [
    "code_lang_dict_readme = read_updated_code_dict(code_dict_path_readme)\n",
    "code_id_lang_dict_readme = get_id_lang_dic(code_lang_dict_readme)"
   ]
  },
  {
   "cell_type": "markdown",
   "id": "meaning-comment",
   "metadata": {},
   "source": [
    "#### Get alternative leetcode data III  (best cpp data)"
   ]
  },
  {
   "cell_type": "code",
   "execution_count": 3,
   "id": "planned-astronomy",
   "metadata": {},
   "outputs": [],
   "source": [
    "cpp_code_dict = get_cpp_codedict_liuyubo(cpp_new_path_liuyubo, testcases_dict)\n",
    "lang_dict_liuyubo = {'C++':cpp_code_dict}"
   ]
  },
  {
   "cell_type": "code",
   "execution_count": null,
   "id": "starting-macro",
   "metadata": {},
   "outputs": [],
   "source": [
    "programs_dict = get_programs_dict(lang_dict_liuyubo)\n",
    "code_lang_dict, empty_target_dict = get_code_dict(programs_dict)\n",
    "code_lang_dict = update_code_dict(lang_dict_liuyubo, code_lang_dict)\n",
    "save_code_dict(code_lang_dict, code_dict_path_liuyubo)"
   ]
  },
  {
   "cell_type": "code",
   "execution_count": 7,
   "id": "junior-necessity",
   "metadata": {},
   "outputs": [
    {
     "name": "stderr",
     "output_type": "stream",
     "text": [
      "100%|██████████| 1823/1823 [02:20<00:00, 12.98it/s]\n"
     ]
    },
    {
     "name": "stdout",
     "output_type": "stream",
     "text": [
      "C++ 0\n",
      "C++ 1823\n"
     ]
    }
   ],
   "source": [
    "tokenize_functions(\"code-dict\", \"functions\", code_dict_path_liuyubo, ['C++'])"
   ]
  },
  {
   "cell_type": "code",
   "execution_count": 8,
   "id": "unexpected-december",
   "metadata": {},
   "outputs": [],
   "source": [
    "code_lang_dict_liuyubo, code_id_lang_dict_liuyubo = read_toked_code_dict(code_dict_path_liuyubo, tri_langs)\n",
    "# code_id_lang_dict_liuyubo = get_id_lang_dic(code_lang_dict_liuyubo)\n",
    "# updated_code_id_lang_dict = fix_multi_solutions(code_id_lang_dict)\n",
    "save_code_id_dict(code_id_lang_dict_liuyubo, code_dict_path_liuyubo)"
   ]
  },
  {
   "cell_type": "code",
   "execution_count": 9,
   "id": "falling-scroll",
   "metadata": {},
   "outputs": [],
   "source": [
    "for key, code_dic in code_id_lang_dict_liuyubo['C++'].items():\n",
    "    code_dic['test_cases'] = cpp_code_dict[key]['test_cases']\n",
    "save_code_id_dict(code_id_lang_dict_liuyubo, code_dict_path_liuyubo)"
   ]
  },
  {
   "cell_type": "code",
   "execution_count": 12,
   "id": "nasty-treaty",
   "metadata": {},
   "outputs": [
    {
     "data": {
      "text/plain": [
       "'./leetcode_data_final/code_dict/'"
      ]
     },
     "execution_count": 12,
     "metadata": {},
     "output_type": "execute_result"
    }
   ],
   "source": [
    "code_dict_path_liuyubo"
   ]
  },
  {
   "cell_type": "code",
   "execution_count": 10,
   "id": "partial-penny",
   "metadata": {},
   "outputs": [],
   "source": [
    "code_lang_dict_liuyubo = read_updated_code_dict(code_dict_path_liuyubo)\n",
    "code_id_lang_dict_liuyubo = get_id_lang_dic(code_lang_dict_liuyubo)"
   ]
  },
  {
   "cell_type": "markdown",
   "id": "junior-repository",
   "metadata": {},
   "source": [
    "### Get leetcode data"
   ]
  },
  {
   "cell_type": "markdown",
   "id": "civil-pollution",
   "metadata": {},
   "source": [
    "#### Generate code dict"
   ]
  },
  {
   "cell_type": "code",
   "execution_count": 2,
   "id": "favorite-electronics",
   "metadata": {
    "scrolled": true
   },
   "outputs": [],
   "source": [
    "lang_paths_dict = {'Python':python_path, \"Java\":java_path, \"C++\":cpp_path}"
   ]
  },
  {
   "cell_type": "code",
   "execution_count": 5,
   "id": "present-metadata",
   "metadata": {},
   "outputs": [],
   "source": [
    "lang_dict = get_leetcode_dict(lang_paths_dict, testcases_dict, tri_langs)"
   ]
  },
  {
   "cell_type": "code",
   "execution_count": 6,
   "id": "atomic-camcorder",
   "metadata": {},
   "outputs": [
    {
     "data": {
      "text/plain": [
       "'./leetcode_data_final/code_dict/'"
      ]
     },
     "execution_count": 6,
     "metadata": {},
     "output_type": "execute_result"
    }
   ],
   "source": [
    "leetcode_code_dict_path"
   ]
  },
  {
   "cell_type": "code",
   "execution_count": null,
   "id": "ranging-safety",
   "metadata": {
    "scrolled": true
   },
   "outputs": [],
   "source": [
    "lang_dict = get_leetcode_dict(lang_paths_dict, testcases_dict, tri_langs)\n",
    "programs_dict = get_programs_dict(lang_dict)\n",
    "code_lang_dict, empty_target_dict = get_code_dict(programs_dict)\n",
    "code_lang_dict = update_code_dict(lang_dict, code_lang_dict)\n",
    "save_code_dict(code_lang_dict, leetcode_code_dict_path)"
   ]
  },
  {
   "cell_type": "markdown",
   "id": "drawn-accountability",
   "metadata": {},
   "source": [
    "#### Tokenize and save code dict"
   ]
  },
  {
   "cell_type": "code",
   "execution_count": 9,
   "id": "accredited-greece",
   "metadata": {
    "scrolled": true
   },
   "outputs": [
    {
     "name": "stderr",
     "output_type": "stream",
     "text": [
      "100%|██████████| 1337/1337 [01:11<00:00, 18.77it/s]\n"
     ]
    },
    {
     "name": "stdout",
     "output_type": "stream",
     "text": [
      "Python 12\n",
      "Python 1337\n"
     ]
    }
   ],
   "source": [
    "tokenize_functions(\"code-dict\", \"functions\", leetcode_code_dict_path, ['Python'])"
   ]
  },
  {
   "cell_type": "markdown",
   "id": "literary-savings",
   "metadata": {},
   "source": [
    "#### Deal with multiple function problem"
   ]
  },
  {
   "cell_type": "code",
   "execution_count": 5,
   "id": "fundamental-monroe",
   "metadata": {
    "scrolled": true
   },
   "outputs": [],
   "source": [
    "code_lang_dict = read_toked_code_dict(leetcode_code_dict_path)\n",
    "code_id_lang_dict = get_id_lang_dic(code_lang_dict)\n",
    "updated_code_id_lang_dict = fix_multi_solutions(code_id_lang_dict)\n",
    "save_code_id_dict(updated_code_id_lang_dict, leetcode_code_dict_path)"
   ]
  },
  {
   "cell_type": "markdown",
   "id": "organized-encyclopedia",
   "metadata": {},
   "source": [
    "#### Read updated code dict"
   ]
  },
  {
   "cell_type": "code",
   "execution_count": 62,
   "id": "technological-lewis",
   "metadata": {
    "scrolled": true
   },
   "outputs": [],
   "source": [
    "code_lang_dict = read_updated_code_dict(leetcode_code_dict_path)\n",
    "code_id_lang_dict = get_id_lang_dic(code_lang_dict)"
   ]
  },
  {
   "cell_type": "markdown",
   "id": "royal-tulsa",
   "metadata": {},
   "source": [
    "#### Generate codex eval file"
   ]
  },
  {
   "cell_type": "code",
   "execution_count": 7,
   "id": "agreed-needle",
   "metadata": {
    "scrolled": true
   },
   "outputs": [],
   "source": [
    "test_function_lang_dict = {}\n",
    "for lang in tri_langs:\n",
    "    code_id_dict = code_id_lang_dict[lang]\n",
    "    test_function_dict = {}\n",
    "    for key, dic in code_id_dict.items():\n",
    "        test_function_dict[key] = \"\\n\".join(dic[\"functions\"])\n",
    "    test_function_lang_dict[lang] = test_function_dict\n",
    "            "
   ]
  },
  {
   "cell_type": "code",
   "execution_count": 8,
   "id": "yellow-governor",
   "metadata": {
    "scrolled": true
   },
   "outputs": [],
   "source": [
    "with open(\"leetcode_functions.json\", 'w') as outfile:\n",
    "    json.dump(test_function_lang_dict, outfile)"
   ]
  },
  {
   "cell_type": "markdown",
   "id": "spanish-maryland",
   "metadata": {},
   "source": [
    "### Load all the available data"
   ]
  },
  {
   "cell_type": "code",
   "execution_count": 7,
   "id": "effective-drawing",
   "metadata": {},
   "outputs": [],
   "source": [
    "# leetcode data first version\n",
    "code_lang_dict = read_updated_code_dict(leetcode_code_dict_path)\n",
    "code_id_lang_dict = get_id_lang_dic(code_lang_dict)\n",
    "\n",
    "# leetcode data from new paths\n",
    "code_lang_dict_new = read_updated_code_dict(code_dict_path_new)\n",
    "code_id_lang_dict_new = get_id_lang_dic(code_lang_dict_new)\n",
    "\n",
    "# leetcode data with cpp from readme (py and java same as above)\n",
    "code_lang_dict_readme = read_updated_code_dict(code_dict_path_readme)\n",
    "code_id_lang_dict_readme = get_id_lang_dic(code_lang_dict_readme)\n",
    "\n",
    "# leetcode data with cpp from liuyubo repo\n",
    "code_lang_dict_liuyubo = read_updated_code_dict(code_dict_path_liuyubo)\n",
    "code_id_lang_dict_liuyubo = get_id_lang_dic(code_lang_dict_liuyubo)"
   ]
  },
  {
   "cell_type": "code",
   "execution_count": null,
   "id": "nervous-function",
   "metadata": {
    "scrolled": true
   },
   "outputs": [],
   "source": []
  }
 ],
 "metadata": {
  "kernelspec": {
   "display_name": "Python 3",
   "language": "python",
   "name": "python3"
  },
  "language_info": {
   "codemirror_mode": {
    "name": "ipython",
    "version": 3
   },
   "file_extension": ".py",
   "mimetype": "text/x-python",
   "name": "python",
   "nbconvert_exporter": "python",
   "pygments_lexer": "ipython3",
   "version": "3.6.9"
  }
 },
 "nbformat": 4,
 "nbformat_minor": 5
}
