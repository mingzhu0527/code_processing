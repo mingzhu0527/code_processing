{
 "cells": [
  {
   "cell_type": "code",
   "execution_count": 2,
   "id": "f381bd17",
   "metadata": {},
   "outputs": [
    {
     "ename": "ModuleNotFoundError",
     "evalue": "No module named 'run'",
     "output_type": "error",
     "traceback": [
      "\u001b[0;31m---------------------------------------------------------------------------\u001b[0m",
      "\u001b[0;31mModuleNotFoundError\u001b[0m                       Traceback (most recent call last)",
      "\u001b[0;32m<ipython-input-2-1a31e4a94446>\u001b[0m in \u001b[0;36m<module>\u001b[0;34m\u001b[0m\n\u001b[0;32m----> 1\u001b[0;31m \u001b[0;32mfrom\u001b[0m \u001b[0mrun\u001b[0m \u001b[0;32mimport\u001b[0m \u001b[0;34m*\u001b[0m\u001b[0;34m\u001b[0m\u001b[0;34m\u001b[0m\u001b[0m\n\u001b[0m",
      "\u001b[0;31mModuleNotFoundError\u001b[0m: No module named 'run'"
     ]
    }
   ],
   "source": [
    "from run import *"
   ]
  },
  {
   "cell_type": "code",
   "execution_count": 2,
   "id": "0d75dcba",
   "metadata": {},
   "outputs": [],
   "source": [
    "from compilation_test_utils import *\n",
    "from tokenization_utils import *\n",
    "from bleu import _bleu"
   ]
  },
  {
   "cell_type": "code",
   "execution_count": 3,
   "id": "19ca9bc2",
   "metadata": {},
   "outputs": [],
   "source": [
    "import os\n",
    "os.environ['CUDA_VISIBLE_DEVICES'] = \"1\"\n",
    "device = torch.device(\"cuda\")\n"
   ]
  },
  {
   "cell_type": "code",
   "execution_count": 4,
   "id": "64103343",
   "metadata": {},
   "outputs": [],
   "source": [
    "program_data = home_path + \"g4g/XLCoST_data/pair_data_tok_full/\"\n",
    "small_test_data = \"./small_test_data/\"\n",
    "program_data = small_test_data\n",
    "lang1 = \"Java\"\n",
    "lang2 = \"Python\""
   ]
  },
  {
   "cell_type": "code",
   "execution_count": 5,
   "id": "4d5244ee",
   "metadata": {},
   "outputs": [
    {
     "data": {
      "text/plain": [
       "<All keys matched successfully>"
      ]
     },
     "execution_count": 5,
     "metadata": {},
     "output_type": "execute_result"
    }
   ],
   "source": [
    "# model_type = \"codet5\"\n",
    "# model_name_or_path = \"Salesforce/codet5-base\"\n",
    "\n",
    "model_type = \"plbart\"\n",
    "model_name_or_path = \"uclanlp/plbart-python-en_XX\" #\"uclanlp/plbart-base\" #uclanlp/plbart-python-en_XX\n",
    "plbart_path = \"/home/grads/tsaisindhura/StructCoder4/baselines/plbart_huggingface_official/saved_models/\"\n",
    "load_model_path_prefix = plbart_path + lang1.lower() + \"-\" + lang2.lower() + '/'\n",
    "# load_model_path_prefix = model_type + \"_program/\" + lang1 + \"-\" + lang2 + '/'\n",
    "load_model_path = load_model_path_prefix + \"/checkpoint-best-bleu/pytorch_model.bin\"\n",
    "config_class, model_class, tokenizer_class = MODEL_CLASSES[model_type]\n",
    "config = config_class.from_pretrained(model_name_or_path)\n",
    "tokenizer = tokenizer_class.from_pretrained(\"uclanlp/plbart-base\")\n",
    "model = model_class.from_pretrained(model_name_or_path) #model_name_or_path\n",
    "model.load_state_dict(torch.load(load_model_path))"
   ]
  },
  {
   "cell_type": "code",
   "execution_count": 6,
   "id": "01c59c10",
   "metadata": {},
   "outputs": [
    {
     "name": "stdout",
     "output_type": "stream",
     "text": [
      "\n"
     ]
    }
   ],
   "source": [
    "model.eval()\n",
    "model.to(device)\n",
    "print()"
   ]
  },
  {
   "cell_type": "code",
   "execution_count": 8,
   "id": "0a195050",
   "metadata": {},
   "outputs": [],
   "source": [
    "lang_pair = lang1 + \"-\" + lang2\n",
    "if not os.path.isdir(program_data + lang_pair):\n",
    "    lang_pair = lang2 + \"-\" + lang1\n",
    "test_file_prefix = program_data + lang_pair + \"/test-\" + lang_pair + \"-tok\"\n",
    "test_src_file = test_file_prefix + file_extensions[lang1]\n",
    "test_tgt_file = test_file_prefix + file_extensions[lang2]\n",
    "test_file = test_src_file + \",\" + test_tgt_file\n",
    "output_dir = './'\n",
    "\n",
    "\n",
    "sys.argv = ['pl', '--do_test', \n",
    "    '--model_type', model_type, \n",
    "    '--model_name_or_path', model_name_or_path, \n",
    "    '--config_name', model_name_or_path, \n",
    "    '--tokenizer_name', model_name_or_path, \n",
    "    '--test_filename', test_file,\n",
    "    '--output_dir', output_dir, \n",
    "    '--max_source_length', '400', \n",
    "    '--max_target_length', '400', \n",
    "    '--beam_size', '5', \n",
    "    '--eval_batch_size', '16']"
   ]
  },
  {
   "cell_type": "code",
   "execution_count": 9,
   "id": "76b2e8f8",
   "metadata": {},
   "outputs": [],
   "source": [
    "args = parser.parse_args()\n",
    "# args = parser.parse_args(args=sys.argv[1:])"
   ]
  },
  {
   "cell_type": "code",
   "execution_count": 10,
   "id": "263cde86",
   "metadata": {},
   "outputs": [
    {
     "name": "stderr",
     "output_type": "stream",
     "text": [
      "100%|████████████████████████████████████████████████████████████████████| 7/7 [00:15<00:00,  2.22s/it]"
     ]
    },
    {
     "name": "stdout",
     "output_type": "stream",
     "text": [
      "  bleu-4 = 42.53 \n",
      "  xMatch = 0.0 \n",
      "  ********************\n"
     ]
    },
    {
     "name": "stderr",
     "output_type": "stream",
     "text": [
      "\n"
     ]
    }
   ],
   "source": [
    "\n",
    "eval_examples = read_examples(test_file)\n",
    "eval_features = convert_examples_to_features(eval_examples, tokenizer, args,stage='test')\n",
    "all_source_ids = torch.tensor([f.source_ids for f in eval_features], dtype=torch.long)\n",
    "all_source_mask = torch.tensor([f.source_mask for f in eval_features], dtype=torch.long)    \n",
    "eval_data = TensorDataset(all_source_ids,all_source_mask)   \n",
    "\n",
    "# Calculate bleu\n",
    "eval_sampler = SequentialSampler(eval_data)\n",
    "eval_dataloader = DataLoader(eval_data, sampler=eval_sampler, batch_size=args.eval_batch_size)\n",
    "\n",
    "def sample_generation(eval_dataloader, model, args):\n",
    "    p=[]\n",
    "    pred_ids = []\n",
    "    for batch in tqdm(eval_dataloader,total=len(eval_dataloader)):\n",
    "        batch = tuple(t.to(device) for t in batch)\n",
    "        source_ids,source_mask= batch                  \n",
    "        with torch.no_grad():\n",
    "            if args.model_type == 'roberta':\n",
    "                    preds = model(source_ids=source_ids, source_mask=source_mask)\n",
    "            else:\n",
    "                preds = model.generate(source_ids,\n",
    "                                       attention_mask=source_mask,\n",
    "                                       use_cache=True,\n",
    "    #                                    num_beams=args.beam_size,\n",
    "                                       do_sample=True,\n",
    "                                       temperature=0.25,\n",
    "                                       early_stopping=False, # 如果是summarize就设为True\n",
    "                                       max_length=args.max_target_length,\n",
    "                                       decoder_start_token_id=tokenizer.sep_token_id)\n",
    "                top_preds = list(preds.cpu().numpy())\n",
    "                pred_ids.extend(top_preds)\n",
    "\n",
    "        p = [tokenizer.decode(id, skip_special_tokens=True, \n",
    "                                  clean_up_tokenization_spaces=False)\n",
    "                                  for id in pred_ids]\n",
    "    #     break\n",
    "    predictions=[]\n",
    "    accs=[]\n",
    "    idx = 0\n",
    "    file = test_file\n",
    "    with open(os.path.join(args.output_dir,\"test_{}.output\".format(str(idx))),'w'\n",
    "             ) as f, open(os.path.join(args.output_dir,\"test_{}.gold\".format(str(idx))),'w') as f1:\n",
    "        for ref,gold in zip(p, eval_examples):\n",
    "            predictions.append(str(gold.idx)+'\\t'+ref)\n",
    "            f.write(ref+'\\n')\n",
    "            f1.write(gold.target+'\\n')    \n",
    "            accs.append(ref==gold.target)\n",
    "    dev_bleu=round(_bleu(os.path.join(args.output_dir, \"test_{}.gold\".format(str(idx))).format(file), \n",
    "                         os.path.join(args.output_dir, \"test_{}.output\".format(str(idx))).format(file)),2)\n",
    "    print(\"  %s = %s \"%(\"bleu-4\",str(dev_bleu)))\n",
    "    print(\"  %s = %s \"%(\"xMatch\",str(round(np.mean(accs)*100,4))))\n",
    "    print(\"  \"+\"*\"*20)  \n",
    "    return\n",
    "\n",
    "# Free gpu memory after training\n",
    "torch.cuda.empty_cache()"
   ]
  },
  {
   "cell_type": "code",
   "execution_count": null,
   "id": "f6132145",
   "metadata": {},
   "outputs": [],
   "source": [
    "# Pipeline:\n",
    "# Sample\n",
    "# Detok\n",
    "# compile\n",
    "# test\n",
    "# generate table results"
   ]
  },
  {
   "cell_type": "code",
   "execution_count": 14,
   "id": "18ef9e5a",
   "metadata": {},
   "outputs": [],
   "source": []
  },
  {
   "cell_type": "code",
   "execution_count": 12,
   "id": "aa57bd9f",
   "metadata": {},
   "outputs": [
    {
     "name": "stderr",
     "output_type": "stream",
     "text": [
      "100%|████████████████████████████████████████████████████████████████| 100/100 [00:13<00:00,  7.15it/s]"
     ]
    },
    {
     "name": "stdout",
     "output_type": "stream",
     "text": [
      "Compilation Rate:  0.84\n"
     ]
    },
    {
     "name": "stderr",
     "output_type": "stream",
     "text": [
      "\n"
     ]
    }
   ],
   "source": [
    "# detok 参考Utils - code viewer和comps\n",
    "hypo_file = output_dir + \"test_0.gold\"\n",
    "new_fn = hypo_file + '.json'\n",
    "format_hypo_new(hypo_file, new_fn, lang2)\n",
    "compile_code(new_fn, lang2, output_dir)"
   ]
  },
  {
   "cell_type": "code",
   "execution_count": 7,
   "id": "a66e1839",
   "metadata": {},
   "outputs": [
    {
     "data": {
      "text/plain": [
       "_StoreAction(option_strings=['--seed'], dest='seed', nargs=None, const=None, default=42, type=<class 'int'>, choices=None, help='random seed for initialization', metavar=None)"
      ]
     },
     "execution_count": 7,
     "metadata": {},
     "output_type": "execute_result"
    }
   ],
   "source": [
    "parser = argparse.ArgumentParser()\n",
    "## Required parameters  \n",
    "parser.add_argument(\"--model_type\", default=None, type=str, required=True,\n",
    "                    help=\"Model type: e.g. roberta\")\n",
    "parser.add_argument(\"--model_name_or_path\", default=None, type=str, required=True,\n",
    "                    help=\"Path to pre-trained model: e.g. roberta-base\" )\n",
    "parser.add_argument(\"--tokenizer_name\", default=\"\", required=True,\n",
    "                    help=\"Pretrained tokenizer name or path if not the same as model_name\")    \n",
    "parser.add_argument(\"--output_dir\", default=None, type=str, required=True,\n",
    "                    help=\"The output directory where the model predictions and checkpoints will be written.\")\n",
    "parser.add_argument(\"--load_model_path\", default=None, type=str, \n",
    "                    help=\"Path to trained model: Should contain the .bin files\" )    \n",
    "## Other parameters\n",
    "parser.add_argument(\"--train_filename\", default=None, type=str,\n",
    "                    help=\"The train filenames (source and target files).\")\n",
    "parser.add_argument(\"--dev_filename\", default=None, type=str,\n",
    "                    help=\"The dev filename. (source and target files).\")\n",
    "parser.add_argument(\"--test_filename\", default=None, type=str,\n",
    "                    help=\"The test filename. (source and target files).\")  \n",
    "\n",
    "parser.add_argument(\"--config_name\", default=\"\", type=str,\n",
    "                    help=\"Pretrained config name or path if not the same as model_name\")\n",
    "\n",
    "parser.add_argument(\"--max_source_length\", default=64, type=int,\n",
    "                    help=\"The maximum total source sequence length after tokenization. Sequences longer \"\n",
    "                         \"than this will be truncated, sequences shorter will be padded.\")\n",
    "parser.add_argument(\"--max_target_length\", default=32, type=int,\n",
    "                    help=\"The maximum total target sequence length after tokenization. Sequences longer \"\n",
    "                         \"than this will be truncated, sequences shorter will be padded.\")\n",
    "\n",
    "parser.add_argument(\"--do_train\", action='store_true',\n",
    "                    help=\"Whether to run training.\")\n",
    "parser.add_argument(\"--do_eval\", action='store_true',\n",
    "                    help=\"Whether to run eval on the dev set.\")\n",
    "parser.add_argument(\"--do_test\", action='store_true',\n",
    "                    help=\"Whether to run eval on the dev set.\")\n",
    "parser.add_argument(\"--do_lower_case\", action='store_true',\n",
    "                    help=\"Set this flag if you are using an uncased model.\")\n",
    "parser.add_argument(\"--no_cuda\", action='store_true',\n",
    "                    help=\"Avoid using CUDA when available\") \n",
    "\n",
    "parser.add_argument(\"--train_batch_size\", default=8, type=int,\n",
    "                    help=\"Batch size per GPU/CPU for training.\")\n",
    "parser.add_argument(\"--eval_batch_size\", default=8, type=int,\n",
    "                    help=\"Batch size per GPU/CPU for evaluation.\")\n",
    "parser.add_argument('--gradient_accumulation_steps', type=int, default=1,\n",
    "                    help=\"Number of updates steps to accumulate before performing a backward/update pass.\")\n",
    "parser.add_argument(\"--learning_rate\", default=5e-5, type=float,\n",
    "                    help=\"The initial learning rate for Adam.\")\n",
    "parser.add_argument(\"--beam_size\", default=10, type=int,\n",
    "                    help=\"beam size for beam search\")    \n",
    "parser.add_argument(\"--weight_decay\", default=0.0, type=float,\n",
    "                    help=\"Weight deay if we apply some.\")\n",
    "parser.add_argument(\"--adam_epsilon\", default=1e-8, type=float,\n",
    "                    help=\"Epsilon for Adam optimizer.\")\n",
    "parser.add_argument(\"--max_grad_norm\", default=1.0, type=float,\n",
    "                    help=\"Max gradient norm.\")\n",
    "parser.add_argument(\"--num_train_epochs\", default=3.0, type=float,\n",
    "                    help=\"Total number of training epochs to perform.\")\n",
    "parser.add_argument(\"--max_steps\", default=-1, type=int,\n",
    "                    help=\"If > 0: set total number of training steps to perform. Override num_train_epochs.\")\n",
    "parser.add_argument(\"--eval_steps\", default=-1, type=int,\n",
    "                    help=\"\")\n",
    "parser.add_argument(\"--train_steps\", default=-1, type=int,\n",
    "                    help=\"\")\n",
    "parser.add_argument(\"--warmup_steps\", default=0, type=int,\n",
    "                    help=\"Linear warmup over warmup_steps.\")\n",
    "parser.add_argument(\"--local_rank\", type=int, default=-1,\n",
    "                    help=\"For distributed training: local_rank\")   \n",
    "parser.add_argument('--seed', type=int, default=42,\n",
    "                    help=\"random seed for initialization\")\n",
    "# print arguments"
   ]
  },
  {
   "cell_type": "code",
   "execution_count": null,
   "id": "cb3d3e7b",
   "metadata": {},
   "outputs": [],
   "source": []
  }
 ],
 "metadata": {
  "kernelspec": {
   "display_name": "Python 3",
   "language": "python",
   "name": "python3"
  },
  "language_info": {
   "codemirror_mode": {
    "name": "ipython",
    "version": 3
   },
   "file_extension": ".py",
   "mimetype": "text/x-python",
   "name": "python",
   "nbconvert_exporter": "python",
   "pygments_lexer": "ipython3",
   "version": "3.6.9"
  }
 },
 "nbformat": 4,
 "nbformat_minor": 5
}
