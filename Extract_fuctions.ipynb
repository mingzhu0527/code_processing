{
 "cells": [
  {
   "cell_type": "code",
   "execution_count": 1,
   "id": "fifteen-bunny",
   "metadata": {},
   "outputs": [],
   "source": [
    "import os\n",
    "import torch\n",
    "os.environ['CUDA_VISIBLE_DEVICES'] = \"0\"\n",
    "device = torch.device(\"cuda\")"
   ]
  },
  {
   "cell_type": "code",
   "execution_count": 2,
   "id": "detected-worship",
   "metadata": {},
   "outputs": [],
   "source": [
    "import sys\n",
    "sys.path.append('./utils/')\n",
    "from extract_function_utils import *"
   ]
  },
  {
   "cell_type": "code",
   "execution_count": 3,
   "id": "still-reform",
   "metadata": {},
   "outputs": [],
   "source": [
    "%load_ext autoreload\n",
    "%autoreload 2"
   ]
  },
  {
   "cell_type": "code",
   "execution_count": null,
   "id": "loaded-convergence",
   "metadata": {},
   "outputs": [],
   "source": [
    "# program_json_dict, program_id_lang_dic = read_program_tok_file()"
   ]
  },
  {
   "cell_type": "code",
   "execution_count": null,
   "id": "editorial-metropolitan",
   "metadata": {},
   "outputs": [],
   "source": [
    "# function_json_dict, function_id_lang_dic = read_function_tok_file()"
   ]
  },
  {
   "cell_type": "markdown",
   "id": "surprised-vietnam",
   "metadata": {},
   "source": [
    "### Extract functions and create code_dicts"
   ]
  },
  {
   "cell_type": "markdown",
   "id": "atlantic-springer",
   "metadata": {},
   "source": [
    "#### Generate Code_dicts"
   ]
  },
  {
   "cell_type": "code",
   "execution_count": null,
   "id": "front-grass",
   "metadata": {
    "scrolled": true
   },
   "outputs": [],
   "source": [
    "program_json_dict, program_id_lang_dic = read_program_tok_file()\n",
    "pids_dict, programs_dict, programs_toked_dict, programs_detoked_dict = get_all_programs_detok_from_cache(\n",
    "                                                                                    program_id_lang_dic,\n",
    "                                                                                    pids_dict_path, \n",
    "                                                                                    programs_dict_path, \n",
    "                                                                                    programs_toked_dict_path,\n",
    "                                                                                    programs_detoked_dict_path)\n",
    "# sys_calls_dict = get_sys_calls(sys_calls_path, programs_dict)\n",
    "code_lang_dict = read_code_dict(programs_dict, program_id_lang_dic)"
   ]
  },
  {
   "cell_type": "markdown",
   "id": "sixth-purple",
   "metadata": {},
   "source": [
    "#### Tokenize Code_dicts"
   ]
  },
  {
   "cell_type": "code",
   "execution_count": null,
   "id": "gothic-housing",
   "metadata": {},
   "outputs": [],
   "source": [
    "tokenize_functions(\"code-dict\", \"functions\", code_dict_path, langs=['Python'])"
   ]
  },
  {
   "cell_type": "markdown",
   "id": "electric-builder",
   "metadata": {},
   "source": [
    "#### Save code_dicts to map_data"
   ]
  },
  {
   "cell_type": "code",
   "execution_count": null,
   "id": "cooperative-control",
   "metadata": {},
   "outputs": [],
   "source": [
    "code_lang_dict, code_id_lang_dic = read_toked_code_dict(code_dict_path)\n",
    "# save_function_map_data(code_lang_dict, programs_dict, program_id_lang_dic)"
   ]
  },
  {
   "cell_type": "markdown",
   "id": "local-parish",
   "metadata": {},
   "source": [
    "#### Read code_dicts"
   ]
  },
  {
   "cell_type": "code",
   "execution_count": null,
   "id": "faced-destruction",
   "metadata": {},
   "outputs": [],
   "source": [
    "code_lang_dict, code_id_lang_dic = read_toked_code_dict(code_dict_path)"
   ]
  },
  {
   "cell_type": "markdown",
   "id": "appropriate-witch",
   "metadata": {},
   "source": [
    "### Generate pairwise data"
   ]
  },
  {
   "cell_type": "code",
   "execution_count": 8,
   "id": "dominant-killer",
   "metadata": {},
   "outputs": [],
   "source": [
    "prepro_functions_dict = data_prepro_notok(functions_dict, functions_toked_dict)\n",
    "exec_function_pids_dict, exec_prepro_functions_dict = get_exec_filtered_functions_dict(functions_pids_dict, \n",
    "                                                                                     prepro_functions_dict)"
   ]
  },
  {
   "cell_type": "code",
   "execution_count": 41,
   "id": "excellent-reward",
   "metadata": {},
   "outputs": [],
   "source": [
    "codex_lang_dict = {}\n",
    "test_set = set(test_list)\n",
    "for lang in langs:\n",
    "    codex_lang_dict[lang] = {}\n",
    "    pids = exec_function_pids_dict[lang]\n",
    "    for i, pid in enumerate(pids):\n",
    "        if pid in test_set:\n",
    "            code_dic = code_id_lang_dic[lang][pid]\n",
    "            function = \"\\n\".join(code_dic['functions'])\n",
    "            codex_lang_dict[lang][pid] = function"
   ]
  },
  {
   "cell_type": "code",
   "execution_count": 23,
   "id": "typical-niger",
   "metadata": {},
   "outputs": [],
   "source": [
    "split_dict = load_split_dict()\n",
    "test_list, val_list = get_eval_list(split_dict)"
   ]
  },
  {
   "cell_type": "code",
   "execution_count": 42,
   "id": "injured-acting",
   "metadata": {},
   "outputs": [],
   "source": [
    "with open('codex_lang_dict_test.json', 'w') as outfile:\n",
    "    json.dump(codex_lang_dict, outfile)"
   ]
  },
  {
   "cell_type": "code",
   "execution_count": 6,
   "id": "median-beast",
   "metadata": {},
   "outputs": [],
   "source": [
    "code_lang_dict, code_id_lang_dic = read_toked_code_dict(code_dict_path)\n",
    "functions_pids_dict, functions_dict, functions_toked_dict, functions_detoked_dict = \\\n",
    "        get_all_functions_detok_from_cache(\n",
    "            code_id_lang_dic, functions_pids_dict_path, functions_dict_path, \n",
    "            functions_toked_dict_path, functions_detoked_dict_path)"
   ]
  },
  {
   "cell_type": "code",
   "execution_count": null,
   "id": "united-bench",
   "metadata": {
    "scrolled": true
   },
   "outputs": [],
   "source": [
    "split_dict = load_split_dict()\n",
    "test_list, val_list = get_eval_list(split_dict)\n",
    "prepro_functions_dict = data_prepro_notok(functions_dict, functions_toked_dict)\n",
    "exec_function_pids_dict, exec_prepro_functions_dict = get_exec_filtered_functions_dict(functions_pids_dict, \n",
    "                                                                                       prepro_functions_dict)\n",
    "get_pair_data_notok(data_path, \"pair_data_notok_exec_function\", \n",
    "                    exec_function_pids_dict, exec_prepro_functions_dict, test_list, val_list)"
   ]
  },
  {
   "cell_type": "code",
   "execution_count": null,
   "id": "natural-monkey",
   "metadata": {},
   "outputs": [],
   "source": []
  },
  {
   "cell_type": "markdown",
   "id": "varying-officer",
   "metadata": {},
   "source": [
    "### Get sequence length (number of tokens)"
   ]
  },
  {
   "cell_type": "code",
   "execution_count": null,
   "id": "arranged-seating",
   "metadata": {},
   "outputs": [],
   "source": [
    "from transformers import AutoTokenizer\n",
    "baseline_models = ['codebert', 'plbart', 'codet5']\n",
    "tokenizer_dict = {model_type:AutoTokenizer.from_pretrained(baseline_model_dict[model_type])\n",
    "                  for model_type in baseline_models}"
   ]
  },
  {
   "cell_type": "code",
   "execution_count": null,
   "id": "noticed-sussex",
   "metadata": {},
   "outputs": [],
   "source": [
    "length_lang_dict = get_length_lang_dict(prepro_functions_dict, tokenizer_dict['codet5'], False) "
   ]
  },
  {
   "cell_type": "code",
   "execution_count": null,
   "id": "seeing-architect",
   "metadata": {},
   "outputs": [],
   "source": [
    "# function_json_dict, function_id_lang_dic = read_function_tok_file()\n",
    "# get_pairwise_functions(data_path, test_list, val_list, function_id_lang_dic)\n",
    "# function_data = data_path + \"pair_data_tok_function/\"\n",
    "# binarize(function_data, \n",
    "#          file_extensions.keys(), \"code_prepro/bpe/cpp-java-python/vocab\")"
   ]
  },
  {
   "cell_type": "markdown",
   "id": "fancy-battle",
   "metadata": {},
   "source": [
    "#### Get stats"
   ]
  },
  {
   "cell_type": "code",
   "execution_count": null,
   "id": "useful-encoding",
   "metadata": {},
   "outputs": [],
   "source": [
    "function_json_dict_filtered, _ = read_function_tok_file_filtered()\n",
    "function_snippet_num_dict = {lang:[] for lang in langs}\n",
    "function_line_num_dict = {lang:[] for lang in langs}\n",
    "function_tokens_num_dict = {lang:[] for lang in langs}\n",
    "function_desc_tokens_num_dict = {lang:[] for lang in langs}\n",
    "function_num_dict = {}\n",
    "\n",
    "for lang in langs:\n",
    "    function_num_dict[lang] = len(function_json_dict_filtered[lang])\n",
    "    for program in function_json_dict_filtered[lang]:\n",
    "        function_str = \"\\n\".join(program['code_dict']['functions'])\n",
    "        lines = function_str.split('\\n')\n",
    "        function_line_num_dict[lang].append(len(lines))\n",
    "        function_tokens_num_dict[lang].append(sum([len(x) for x in program['code_dict']['tokens']]))\n",
    "print_stat(\"Average number of lines per function\", function_line_num_dict)\n",
    "print_stat(\"Average number of tokens per function\",function_tokens_num_dict)\n",
    "print_stat_dict(\"Number of functions\", function_num_dict)\n"
   ]
  },
  {
   "cell_type": "code",
   "execution_count": null,
   "id": "behavioral-vertical",
   "metadata": {},
   "outputs": [],
   "source": [
    "# TODO\n",
    "# run new baselines\n"
   ]
  },
  {
   "cell_type": "code",
   "execution_count": null,
   "id": "worst-station",
   "metadata": {},
   "outputs": [],
   "source": [
    "# test_set = set(test_list)\n",
    "# val_set = set(val_list)\n",
    "code_id_lang_dict = {}\n",
    "for lang in langs:\n",
    "    code_dicts = code_lang_dict[lang]\n",
    "    code_id_dict = {}\n",
    "    for code_dict in code_dicts:\n",
    "        idx = code_dict[\"idx\"].split(\"-\")[0]\n",
    "        code_id_dict[idx] = code_dict\n",
    "    code_id_lang_dict[lang] = code_id_dict"
   ]
  },
  {
   "cell_type": "code",
   "execution_count": null,
   "id": "cardiovascular-apple",
   "metadata": {},
   "outputs": [],
   "source": [
    "test_function_lang_dict = {}\n",
    "for lang in langs:\n",
    "    code_id_dict = code_id_lang_dict[lang]\n",
    "    test_function_dict = {}\n",
    "    for test_idx in test_list:\n",
    "        if test_idx in code_id_dict:\n",
    "            test_function_dict[test_idx] = \"\\n\".join(code_id_dict[test_idx][\"functions\"])\n",
    "    test_function_lang_dict[lang] = test_function_dict\n",
    "            "
   ]
  },
  {
   "cell_type": "code",
   "execution_count": null,
   "id": "romantic-italy",
   "metadata": {},
   "outputs": [],
   "source": [
    "val_function_lang_dict = {}\n",
    "for lang in langs:\n",
    "    code_id_dict = code_id_lang_dict[lang]\n",
    "    val_function_dict = {}\n",
    "    for val_idx in val_list:\n",
    "        if val_idx in code_id_dict:\n",
    "            val_function_dict[val_idx] = \"\\n\".join(code_id_dict[val_idx][\"functions\"])\n",
    "    val_function_lang_dict[lang] = val_function_dict\n",
    "            "
   ]
  },
  {
   "cell_type": "code",
   "execution_count": null,
   "id": "expensive-mobile",
   "metadata": {},
   "outputs": [],
   "source": [
    "keys = list(val_function_lang_dict[\"Java\"].keys())"
   ]
  },
  {
   "cell_type": "code",
   "execution_count": null,
   "id": "sapphire-member",
   "metadata": {},
   "outputs": [],
   "source": [
    "print(val_function_lang_dict[\"Java\"][keys[0]])"
   ]
  },
  {
   "cell_type": "code",
   "execution_count": null,
   "id": "determined-browser",
   "metadata": {},
   "outputs": [],
   "source": [
    "with open(\"val_functions.json\", 'w') as outfile:\n",
    "    json.dump(test_function_lang_dict, outfile)"
   ]
  },
  {
   "cell_type": "code",
   "execution_count": null,
   "id": "expressed-collaboration",
   "metadata": {},
   "outputs": [],
   "source": [
    "import matplotlib.pyplot as plt\n",
    "def get_dist(input_list, n):\n",
    "    count = 0\n",
    "    l = []\n",
    "    for i in range(1, n):\n",
    "        count = 0\n",
    "        for num in input_list:\n",
    "            if num >= i:\n",
    "                count += 1\n",
    "        l.append((i, count/len(input_list)))\n",
    "    return l\n",
    "\n",
    "def show_plot(l):\n",
    "    testList = l\n",
    "    testList2 = [(elem1, elem2) for elem1, elem2 in testList]\n",
    "    plt.scatter(*zip(*testList2))\n",
    "    plt.show()"
   ]
  },
  {
   "cell_type": "code",
   "execution_count": null,
   "id": "substantial-minnesota",
   "metadata": {},
   "outputs": [],
   "source": []
  }
 ],
 "metadata": {
  "kernelspec": {
   "display_name": "Python 3",
   "language": "python",
   "name": "python3"
  },
  "language_info": {
   "codemirror_mode": {
    "name": "ipython",
    "version": 3
   },
   "file_extension": ".py",
   "mimetype": "text/x-python",
   "name": "python",
   "nbconvert_exporter": "python",
   "pygments_lexer": "ipython3",
   "version": "3.6.9"
  }
 },
 "nbformat": 4,
 "nbformat_minor": 5
}
