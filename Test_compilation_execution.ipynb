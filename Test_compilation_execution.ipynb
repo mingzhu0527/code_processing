{
 "cells": [
  {
   "cell_type": "code",
   "execution_count": 1,
   "id": "checked-thunder",
   "metadata": {},
   "outputs": [],
   "source": [
    "import sys\n",
    "sys.path.append('./utils/')\n",
    "from tokenization_utils import *\n",
    "from extract_function_utils import *\n",
    "from execution_utils import *\n",
    "# from compilation_utils import *\n",
    "\n",
    "import time\n",
    "from tqdm.auto import tqdm\n"
   ]
  },
  {
   "cell_type": "code",
   "execution_count": 2,
   "id": "reliable-lunch",
   "metadata": {},
   "outputs": [],
   "source": [
    "%load_ext autoreload\n",
    "%autoreload 2"
   ]
  },
  {
   "cell_type": "markdown",
   "id": "wound-teddy",
   "metadata": {},
   "source": [
    "### Read Programs before tokenization"
   ]
  },
  {
   "cell_type": "code",
   "execution_count": 3,
   "id": "active-mechanics",
   "metadata": {},
   "outputs": [],
   "source": [
    "program_json_dict, program_id_lang_dic = read_program_file()\n",
    "programs_dict, pids_dict = get_all_programs(program_id_lang_dic)"
   ]
  },
  {
   "cell_type": "markdown",
   "id": "offshore-intake",
   "metadata": {},
   "source": [
    "### Read Programs"
   ]
  },
  {
   "cell_type": "code",
   "execution_count": 4,
   "id": "medieval-mouse",
   "metadata": {},
   "outputs": [],
   "source": [
    "program_json_dict, program_id_lang_dic = read_program_tok_file()\n",
    "pids_dict, programs_dict, programs_toked_dict, programs_detoked_dict = get_all_programs_detok_from_cache(\n",
    "                                                                                    program_id_lang_dic,\n",
    "                                                                                    pids_dict_path, \n",
    "                                                                                    programs_dict_path, \n",
    "                                                                                    programs_toked_dict_path,\n",
    "                                                                                    programs_detoked_dict_path)"
   ]
  },
  {
   "cell_type": "markdown",
   "id": "sealed-delay",
   "metadata": {},
   "source": [
    "### Execute programs"
   ]
  },
  {
   "cell_type": "markdown",
   "id": "magnetic-ambassador",
   "metadata": {},
   "source": [
    "#### Linear way to execute (has progress bar)"
   ]
  },
  {
   "cell_type": "code",
   "execution_count": null,
   "id": "honey-position",
   "metadata": {},
   "outputs": [],
   "source": [
    "success_count = 0\n",
    "result_dict = {}\n",
    "for i, pp in enumerate(tqdm(programs_list[:1000])):\n",
    "    result, is_pass = exec_single_code_util(pp, lang, i, 3)\n",
    "    success_count += is_pass\n",
    "    result_dict[i] = result"
   ]
  },
  {
   "cell_type": "markdown",
   "id": "japanese-feature",
   "metadata": {},
   "source": [
    "#### Run single code (reliable)"
   ]
  },
  {
   "cell_type": "code",
   "execution_count": null,
   "id": "primary-bobby",
   "metadata": {},
   "outputs": [],
   "source": [
    "key = 0\n",
    "output = run_exec_python(py_programs_list[key])\n",
    "output = run_exec_java(java_programs_list[key])\n",
    "output = run_exec_cpp(cpp_programs_list[key])\n",
    "output = run_exec_csharp(csharp_programs_list[key])\n",
    "output = run_exec_js(js_programs_list[key])\n",
    "output = run_exec_c(c_programs_list[key])\n",
    "output = run_exec_php(php_programs_list[key])\n",
    "print(output)"
   ]
  },
  {
   "cell_type": "code",
   "execution_count": null,
   "id": "frequent-tuner",
   "metadata": {},
   "outputs": [],
   "source": [
    "key = 0\n",
    "output = run_exec_csharp(csharp_programs_list[key])\n",
    "print(output)"
   ]
  },
  {
   "cell_type": "markdown",
   "id": "pleasant-professional",
   "metadata": {},
   "source": [
    "### Explore Parallelism"
   ]
  },
  {
   "cell_type": "markdown",
   "id": "irish-ready",
   "metadata": {},
   "source": [
    "#### Use p_tqdm (support progress bar)"
   ]
  },
  {
   "cell_type": "code",
   "execution_count": null,
   "id": "sixth-atlanta",
   "metadata": {},
   "outputs": [],
   "source": [
    "# Before and after fixing formatting error (||)\n",
    "# C++ Java Python C# Javascript PHP C\n",
    "# 0.88 0.87 0.88 0.88 0.89 0.91 0.70 \n",
    "# 0.96 0.95 0.89 0.96 0.97 0.98 0.76\n",
    "# 0.87 0.94 0.88 0.96 0 1 0.61 (after detok)"
   ]
  },
  {
   "cell_type": "markdown",
   "id": "welcome-guest",
   "metadata": {},
   "source": [
    "### Generate non-buggy pairwise data"
   ]
  },
  {
   "cell_type": "code",
   "execution_count": 7,
   "id": "universal-healthcare",
   "metadata": {
    "scrolled": true
   },
   "outputs": [
    {
     "name": "stdout",
     "output_type": "stream",
     "text": [
      "C++ 10597 601\n",
      "Java 10278 750\n",
      "Python 9558 1255\n",
      "C# 10262 473\n",
      "Javascript 9673 278\n",
      "PHP 3304 249\n",
      "C 431 143\n"
     ]
    }
   ],
   "source": [
    "split_dict = load_split_dict()\n",
    "test_list, val_list = get_eval_list(split_dict)\n",
    "with open(cached_path + \"xlcost_tokenizer_results_dict.pkl\", 'rb') as infile:\n",
    "    tokenizer_results_dict = pickle.load(infile)\n",
    "result_key_lang_dict, error_type_lang_dict = single_result_mapping(tokenizer_results_dict['codet5'], pids_dict)\n",
    "\n",
    "prepro_program_dict = data_prepro_notok(programs_dict, programs_toked_dict)\n",
    "exec_pids_dict, exec_prepro_program_dict = get_exec_filtered_dict(pids_dict, \n",
    "                                                                  result_key_lang_dict, prepro_program_dict)\n",
    "# get_pair_data_notok(data_path, \"pair_data_notok_exec_full\", \n",
    "#                     exec_pids_dict, exec_prepro_program_dict, test_list, val_list)\n",
    "# should generate another dataset just for plbart\n"
   ]
  },
  {
   "cell_type": "code",
   "execution_count": 10,
   "id": "continent-muslim",
   "metadata": {},
   "outputs": [
    {
     "name": "stdout",
     "output_type": "stream",
     "text": [
      "11198\t11028\t10813\t10735\t9951\t3553\t574\t\n"
     ]
    }
   ],
   "source": [
    "stat_line = \"\"\n",
    "for lang in langs:\n",
    "    stat_line += str(len(programs_dict[lang])) + '\\t'\n",
    "#     print(lang, len(programs_dict[lang]))\n",
    "print(stat_line)"
   ]
  },
  {
   "cell_type": "code",
   "execution_count": 11,
   "id": "announced-timer",
   "metadata": {},
   "outputs": [
    {
     "name": "stdout",
     "output_type": "stream",
     "text": [
      "10597\t10278\t9558\t10262\t9673\t3304\t431\t\n"
     ]
    }
   ],
   "source": [
    "stat_line = \"\"\n",
    "for lang in langs:\n",
    "    stat_line += str(len(exec_prepro_program_dict[lang])) + '\\t'\n",
    "#     print(lang, len(programs_dict[lang]))\n",
    "print(stat_line)"
   ]
  },
  {
   "cell_type": "code",
   "execution_count": null,
   "id": "secure-weapon",
   "metadata": {},
   "outputs": [],
   "source": []
  },
  {
   "cell_type": "markdown",
   "id": "junior-latino",
   "metadata": {},
   "source": [
    "### Generate separate dataset for plbart (it has special token \"java\")"
   ]
  },
  {
   "cell_type": "code",
   "execution_count": null,
   "id": "figured-portuguese",
   "metadata": {},
   "outputs": [],
   "source": [
    "prepro_program_dict = data_prepro_notok(programs_dict, programs_toked_dict, is_plbart=True)\n",
    "exec_pids_dict, exec_prepro_program_dict = get_exec_filtered_dict(pids_dict, \n",
    "                                                                  result_key_lang_dict, prepro_program_dict)\n",
    "get_pair_data_notok(data_path, \"pair_data_notok_exec_full_plbart\", \n",
    "                    exec_pids_dict, exec_prepro_program_dict, test_list, val_list)"
   ]
  },
  {
   "cell_type": "code",
   "execution_count": null,
   "id": "meaningful-motorcycle",
   "metadata": {},
   "outputs": [],
   "source": [
    "# sanity check\n",
    "# path = CodeModel/g4g/clean_xlcost.ipynb\n",
    "\n",
    "# filter by buggy and length\n",
    "exec_pids_dict, exec_prepro_program_dict = get_exec_filtered_dict(pids_dict, \n",
    "                                                                  result_key_lang_dict, prepro_program_dict)\n",
    "length_lang_dict = get_length_lang_dict(prepro_program_dict, tokenizer) \n",
    "# is length filtering necessary??\n",
    "len_exec_pids_dict, len_exec_prepro_program_dict = get_len_exec_filtered_dict(pids_dict, \n",
    "                                                                              result_key_lang_dict, \n",
    "                                                                              length_lang_dict,\n",
    "                                                                             prepro_program_dict)\n"
   ]
  },
  {
   "cell_type": "markdown",
   "id": "enormous-funeral",
   "metadata": {},
   "source": [
    "### Test how different model's tokenization affect execution rate"
   ]
  },
  {
   "cell_type": "code",
   "execution_count": null,
   "id": "owned-negative",
   "metadata": {},
   "outputs": [],
   "source": [
    "from transformers import AutoTokenizer\n",
    "baseline_models = ['codebert', 'plbart', 'codet5']\n",
    "tokenizer_dict = {model_type:AutoTokenizer.from_pretrained(baseline_model_dict[model_type])\n",
    "                  for model_type in baseline_models}"
   ]
  },
  {
   "cell_type": "code",
   "execution_count": null,
   "id": "ordinary-coating",
   "metadata": {
    "scrolled": true
   },
   "outputs": [],
   "source": [
    "# prepro_program_dict = data_prepro_notok(programs_dict, programs_toked_dict)\n",
    "tokenizer_results_dict = {}\n",
    "for model_type, tokenizer in tokenizer_dict.items():\n",
    "    prepro_program_dict = data_prepro_notok(programs_dict, programs_toked_dict)\n",
    "    decode_program_dict = tokenizer_exec_check(tokenizer, prepro_program_dict, model_type, num_dp=-1)\n",
    "    results_dict = get_exec_results(decode_program_dict)\n",
    "    tokenizer_results_dict[model_type] = results_dict"
   ]
  },
  {
   "cell_type": "code",
   "execution_count": null,
   "id": "herbal-alpha",
   "metadata": {},
   "outputs": [],
   "source": [
    "for model_type, results_dict in tokenizer_results_dict.items():\n",
    "    print(model_type)\n",
    "    result_type_dict = show_result_summary(results_dict)"
   ]
  },
  {
   "cell_type": "code",
   "execution_count": null,
   "id": "civil-driving",
   "metadata": {},
   "outputs": [],
   "source": [
    "# xlcost_detok_gold_result_dict xlcost_gold_result_dict xlcost_tokenizer_results_dict\n",
    "with open(cached_path + \"xlcost_exec_pids_dict.pkl\", 'wb') as outfile:\n",
    "    pickle.dump(exec_pids_dict, outfile)"
   ]
  },
  {
   "cell_type": "code",
   "execution_count": null,
   "id": "assumed-contrary",
   "metadata": {},
   "outputs": [],
   "source": [
    "with open(cached_path + \"xlcost_tokenizer_results_dict.pkl\", 'rb') as infile:\n",
    "    tokenizer_results_dict = pickle.load(infile)"
   ]
  },
  {
   "cell_type": "code",
   "execution_count": null,
   "id": "wireless-fifty",
   "metadata": {},
   "outputs": [],
   "source": [
    "# updated xlcost data to fix the java error\n",
    "# result_type_dict = show_result_summary(results_dict)\n",
    "result_key_lang_dict, error_type_lang_dict = single_result_mapping(tokenizer_results_dict['codet5'], pids_dict)\n",
    "error_type_lang_dict"
   ]
  },
  {
   "cell_type": "code",
   "execution_count": null,
   "id": "common-nepal",
   "metadata": {
    "scrolled": false
   },
   "outputs": [],
   "source": [
    "lang = \"Java\"\n",
    "for pid, idx in zip(pids_dict[lang], result_type_dict['error'][lang]):\n",
    "    error = results_dict[lang][idx]\n",
    "    if \"main(String[])\" in error:\n",
    "        print(pid, idx, error)"
   ]
  },
  {
   "cell_type": "markdown",
   "id": "southern-yacht",
   "metadata": {},
   "source": [
    "#### Use ProcessPoolExecutor "
   ]
  },
  {
   "cell_type": "code",
   "execution_count": null,
   "id": "intense-castle",
   "metadata": {},
   "outputs": [],
   "source": [
    "# this is the code that saves return values in order\n",
    "import time\n",
    "import concurrent\n",
    "def useless_function(sec = 1):\n",
    "    print(f'Sleeping for {sec} second(s)')\n",
    "    time.sleep(sec)\n",
    "    print(f'Done sleeping')\n",
    "    return sec\n",
    "\n",
    "def exec_program(program):\n",
    "    result = run_exec(program)\n",
    "    return {\"code_string\":program, \"output\":result}\n",
    "\n",
    "\n",
    "start = time.perf_counter()\n",
    "with concurrent.futures.ProcessPoolExecutor() as executor:\n",
    "    results = executor.map(run_exec, programs_list[:100])\n",
    "    for res in results:\n",
    "        print(f'Return Value: {res}')\n",
    "end = time.perf_counter()\n",
    "print(f'Finished in {round(end-start, 2)} second(s)') "
   ]
  },
  {
   "cell_type": "markdown",
   "id": "innovative-eugene",
   "metadata": {},
   "source": [
    "#### Using imap (with progress bar)"
   ]
  },
  {
   "cell_type": "code",
   "execution_count": null,
   "id": "daily-turtle",
   "metadata": {},
   "outputs": [],
   "source": [
    "from multiprocessing import Pool\n",
    "import tqdm  \n",
    "\n",
    "n = 1000\n",
    "with Pool() as pool:\n",
    "    results = list(tqdm.tqdm(pool.imap(run_exec, programs_list[:n]), total=n))\n"
   ]
  },
  {
   "cell_type": "code",
   "execution_count": null,
   "id": "varying-organizer",
   "metadata": {},
   "outputs": [],
   "source": []
  }
 ],
 "metadata": {
  "kernelspec": {
   "display_name": "Python 3",
   "language": "python",
   "name": "python3"
  },
  "language_info": {
   "codemirror_mode": {
    "name": "ipython",
    "version": 3
   },
   "file_extension": ".py",
   "mimetype": "text/x-python",
   "name": "python",
   "nbconvert_exporter": "python",
   "pygments_lexer": "ipython3",
   "version": "3.6.9"
  }
 },
 "nbformat": 4,
 "nbformat_minor": 5
}
