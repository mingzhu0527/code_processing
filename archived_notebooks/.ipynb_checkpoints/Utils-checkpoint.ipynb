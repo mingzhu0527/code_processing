{
 "cells": [
  {
   "cell_type": "code",
   "execution_count": 1,
   "id": "primary-building",
   "metadata": {},
   "outputs": [],
   "source": [
    "from tokenization_utils import *\n",
    "import json\n",
    "from tqdm.notebook import tqdm\n",
    "import jsonlines\n"
   ]
  },
  {
   "cell_type": "markdown",
   "id": "presidential-conflict",
   "metadata": {},
   "source": [
    "## Code Viewer"
   ]
  },
  {
   "cell_type": "code",
   "execution_count": null,
   "id": "corresponding-gabriel",
   "metadata": {},
   "outputs": [],
   "source": [
    "snippet_data = data_path + \"pair_data_tok_1/\"\n",
    "program_data = data_path + \"pair_data_tok_full/\"\n",
    "code_viewer_path = \"/home/mingzhu/CodeModel/CodeGen/code_viewer/\"\n",
    "\n",
    "def view_code(lang1, lang2, data_type, tag):\n",
    "    lang_pair = lang1 + \"-\" + lang2\n",
    "    if not os.path.exists(program_data + lang_pair):\n",
    "        lang_pair = lang2 + \"-\" + lang1\n",
    "    fn = tag + \"-\" + lang_pair + file_extensions[lang2]\n",
    "    new_fn = data_type + \"-\" + fn + \".json\"\n",
    "    if data_type == \"snippet\":\n",
    "        code_path = snippet_data + lang_pair + \"/\" + fn\n",
    "    else:\n",
    "        code_path = program_data + lang_pair + \"/\" + fn\n",
    "\n",
    "    # if not os.path.exists(code_viewer_path + new_fn):\n",
    "    format_hypo_new(code_path, code_viewer_path + new_fn, lang2)\n",
    "    new_fmt = print_formatted_code(code_viewer_path+new_fn, True)\n",
    "    return\n",
    "\n",
    "def view_code_mono(lang1, lang2, data_type, tag):\n",
    "    lang_pair = lang1 + \"-\" + lang2\n",
    "    if not os.path.exists(program_data + lang_pair):\n",
    "        lang_pair = lang2 + \"-\" + lang1\n",
    "    fn = tag + \"-\" + lang_pair + file_extensions[lang2]\n",
    "    new_fn = data_type + \"-\" + fn.split(\".\")[0] + \".json\"\n",
    "    if data_type == \"snippet\":\n",
    "        code_path = snippet_data + lang_pair + \"/\" + fn\n",
    "    else:\n",
    "        code_path = program_data + lang_pair + \"/\" + fn\n",
    "\n",
    "    # if not os.path.exists(code_viewer_path + new_fn):\n",
    "    format_hypo_new(code_path, code_viewer_path + new_fn, lang2)\n",
    "    new_fmt = print_formatted_code(code_viewer_path+new_fn, True)\n",
    "    return\n",
    "\n",
    "lang1 = \"Python\"\n",
    "lang2 = \"Java\"\n",
    "data_type = \"program\" #snippet\n",
    "tag = \"test\" # train valid\n",
    "\n",
    "view_code(lang1, lang2, data_type, tag)"
   ]
  },
  {
   "cell_type": "markdown",
   "id": "independent-broadway",
   "metadata": {},
   "source": [
    "## Stand-alone Detokenizer"
   ]
  },
  {
   "cell_type": "code",
   "execution_count": 14,
   "id": "secondary-truck",
   "metadata": {},
   "outputs": [],
   "source": [
    "# On Dhruv machine\n",
    "path = \"/home/reddy/ming/CodeModel/code_prepro.ipynb\"\n",
    "# On rail machine\n",
    "path = \"/home/mingzhu/CodeModel/CodeBERT/GraphCodeBERT/translation/code_prepro.ipynb\""
   ]
  },
  {
   "cell_type": "markdown",
   "id": "driven-peeing",
   "metadata": {},
   "source": [
    "## Compile with compiler"
   ]
  },
  {
   "cell_type": "code",
   "execution_count": null,
   "id": "mounted-correlation",
   "metadata": {},
   "outputs": [],
   "source": [
    "path = \"/home/mingzhu/CodeModel/CodeGen/hypothesis_collection/Compilations/Comps.ipynb\"\n"
   ]
  }
 ],
 "metadata": {
  "kernelspec": {
   "display_name": "Python 3",
   "language": "python",
   "name": "python3"
  },
  "language_info": {
   "codemirror_mode": {
    "name": "ipython",
    "version": 3
   },
   "file_extension": ".py",
   "mimetype": "text/x-python",
   "name": "python",
   "nbconvert_exporter": "python",
   "pygments_lexer": "ipython3",
   "version": "3.6.9"
  }
 },
 "nbformat": 4,
 "nbformat_minor": 5
}
