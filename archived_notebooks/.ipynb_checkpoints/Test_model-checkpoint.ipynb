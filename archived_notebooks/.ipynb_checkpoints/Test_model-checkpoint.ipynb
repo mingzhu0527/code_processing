{
 "cells": [
  {
   "cell_type": "code",
   "execution_count": 1,
   "id": "frozen-purple",
   "metadata": {},
   "outputs": [],
   "source": [
    "import os\n",
    "import torch\n",
    "os.environ['CUDA_VISIBLE_DEVICES'] = \"3\"\n",
    "device = torch.device(\"cuda\")"
   ]
  },
  {
   "cell_type": "code",
   "execution_count": 2,
   "id": "human-spank",
   "metadata": {},
   "outputs": [],
   "source": [
    "import sys\n",
    "sys.path.append('./huggingface_models/')"
   ]
  },
  {
   "cell_type": "code",
   "execution_count": 3,
   "id": "f381bd17",
   "metadata": {},
   "outputs": [],
   "source": [
    "from run import *"
   ]
  },
  {
   "cell_type": "code",
   "execution_count": 4,
   "id": "0d75dcba",
   "metadata": {},
   "outputs": [],
   "source": [
    "from compilation_test_utils import *\n",
    "from tokenization_utils import *\n",
    "from bleu import *"
   ]
  },
  {
   "cell_type": "code",
   "execution_count": 5,
   "id": "64103343",
   "metadata": {},
   "outputs": [],
   "source": [
    "program_data = home_path + \"g4g/XLCoST_data/pair_data_tok_full/\"\n",
    "small_test_data = \"./small_test_data/\"\n",
    "# program_data = small_test_data\n",
    "lang1 = \"Java\"\n",
    "lang2 = \"Python\""
   ]
  },
  {
   "cell_type": "code",
   "execution_count": 6,
   "id": "crude-baghdad",
   "metadata": {},
   "outputs": [],
   "source": [
    "from inference_utils import *\n",
    "model_type = \"plbart\"\n",
    "model_name_or_path = \"uclanlp/plbart-python-en_XX\" #\"uclanlp/plbart-base\" #uclanlp/plbart-python-en_XX\n",
    "config_class, model_class, tokenizer_class = MODEL_CLASSES[model_type]\n",
    "tokenizer = tokenizer_class.from_pretrained(model_name_or_path)"
   ]
  },
  {
   "cell_type": "code",
   "execution_count": null,
   "id": "particular-duncan",
   "metadata": {},
   "outputs": [],
   "source": []
  },
  {
   "cell_type": "code",
   "execution_count": 7,
   "id": "4d5244ee",
   "metadata": {},
   "outputs": [
    {
     "data": {
      "text/plain": [
       "<All keys matched successfully>"
      ]
     },
     "execution_count": 7,
     "metadata": {},
     "output_type": "execute_result"
    }
   ],
   "source": [
    "# model_type = \"codet5\"\n",
    "# model_name_or_path = \"Salesforce/codet5-base\"\n",
    "\n",
    "model_type = \"plbart\"\n",
    "model_name_or_path = \"uclanlp/plbart-python-en_XX\" #\"uclanlp/plbart-base\" #uclanlp/plbart-python-en_XX\n",
    "load_model_path_prefix = model_type + \"_program/\" + lang1 + \"-\" + lang2 + '/'\n",
    "load_model_path = load_model_path_prefix + \"checkpoint-best-bleu/pytorch_model.bin\"\n",
    "config_class, model_class, tokenizer_class = MODEL_CLASSES[model_type]\n",
    "config = config_class.from_pretrained(model_name_or_path)\n",
    "tokenizer = tokenizer_class.from_pretrained(model_name_or_path)\n",
    "model = model_class.from_pretrained(model_name_or_path)\n",
    "model.load_state_dict(torch.load(load_model_path))"
   ]
  },
  {
   "cell_type": "code",
   "execution_count": 9,
   "id": "civic-toddler",
   "metadata": {},
   "outputs": [
    {
     "name": "stderr",
     "output_type": "stream",
     "text": [
      "100%|██████████| 57/57 [05:24<00:00,  5.70s/it]\n"
     ]
    },
    {
     "name": "stdout",
     "output_type": "stream",
     "text": [
      "  bleu-4 = 35.72 \n",
      "  xMatch = 0.3333 \n",
      "  ********************\n"
     ]
    }
   ],
   "source": [
    "model.eval()\n",
    "model.to(device)\n",
    "\n",
    "\n",
    "eval_batch_size = 16\n",
    "max_source_length, max_target_length = 400, 400\n",
    "test_file, eval_examples, eval_dataloader = get_eval_dataloader(program_data, lang1, lang2, eval_batch_size, \n",
    "                                                     max_source_length, max_target_length, tokenizer)\n",
    "out_fn = \"output.0.beam\" \n",
    "sample_generation_single(test_file,eval_examples, eval_dataloader, model, model_type, tokenizer, \n",
    "                         max_target_length, out_fn, device)\n"
   ]
  },
  {
   "cell_type": "markdown",
   "id": "incorrect-debate",
   "metadata": {},
   "source": [
    "### New Baselines"
   ]
  },
  {
   "cell_type": "code",
   "execution_count": 6,
   "id": "south-analyst",
   "metadata": {},
   "outputs": [
    {
     "name": "stdout",
     "output_type": "stream",
     "text": [
      "\n"
     ]
    }
   ],
   "source": [
    "from transformers import AutoTokenizer, AutoModelForCausalLM\n",
    "\n",
    "model_type = \"incoder\"\n",
    "model_name_or_path = \"facebook/incoder-1B\"\n",
    "tokenizer = AutoTokenizer.from_pretrained(model_name_or_path)\n",
    "tokenizer.add_special_tokens({'pad_token': '[PAD]', \n",
    "                              'cls_token':tokenizer.bos_token, 'sep_token':tokenizer.bos_token})\n",
    "model = AutoModelForCausalLM.from_pretrained(model_name_or_path)\n",
    "model.train()\n",
    "model.to(device)\n",
    "print()"
   ]
  },
  {
   "cell_type": "code",
   "execution_count": 14,
   "id": "comparative-eligibility",
   "metadata": {},
   "outputs": [
    {
     "data": {
      "text/plain": [
       "{'input_ids': [2, 3160], 'token_type_ids': [0, 0], 'attention_mask': [1, 1]}"
      ]
     },
     "execution_count": 14,
     "metadata": {},
     "output_type": "execute_result"
    }
   ],
   "source": [
    "tokenizer(\"haha, lol\", max_length=2, padding=\"max_length\", truncation=True)"
   ]
  },
  {
   "cell_type": "code",
   "execution_count": 11,
   "id": "initial-front",
   "metadata": {},
   "outputs": [],
   "source": [
    "eval_examples, eval_dataloader = get_eval_dataloader(test_file, 4)"
   ]
  },
  {
   "cell_type": "code",
   "execution_count": 15,
   "id": "prospective-folks",
   "metadata": {},
   "outputs": [
    {
     "ename": "RuntimeError",
     "evalue": "CUDA error: device-side assert triggered",
     "output_type": "error",
     "traceback": [
      "\u001b[0;31m---------------------------------------------------------------------------\u001b[0m",
      "\u001b[0;31mRuntimeError\u001b[0m                              Traceback (most recent call last)",
      "\u001b[0;32m<ipython-input-15-7229b7c958b7>\u001b[0m in \u001b[0;36m<module>\u001b[0;34m\u001b[0m\n\u001b[1;32m      1\u001b[0m \u001b[0;32mfor\u001b[0m \u001b[0mbatch\u001b[0m \u001b[0;32min\u001b[0m \u001b[0meval_dataloader\u001b[0m\u001b[0;34m:\u001b[0m\u001b[0;34m\u001b[0m\u001b[0;34m\u001b[0m\u001b[0m\n\u001b[1;32m      2\u001b[0m \u001b[0;31m# batch = (eval_dataloader)\u001b[0m\u001b[0;34m\u001b[0m\u001b[0;34m\u001b[0m\u001b[0;34m\u001b[0m\u001b[0m\n\u001b[0;32m----> 3\u001b[0;31m     \u001b[0mbatch\u001b[0m \u001b[0;34m=\u001b[0m \u001b[0mtuple\u001b[0m\u001b[0;34m(\u001b[0m\u001b[0mt\u001b[0m\u001b[0;34m.\u001b[0m\u001b[0mto\u001b[0m\u001b[0;34m(\u001b[0m\u001b[0mdevice\u001b[0m\u001b[0;34m)\u001b[0m \u001b[0;32mfor\u001b[0m \u001b[0mt\u001b[0m \u001b[0;32min\u001b[0m \u001b[0mbatch\u001b[0m\u001b[0;34m)\u001b[0m\u001b[0;34m\u001b[0m\u001b[0;34m\u001b[0m\u001b[0m\n\u001b[0m\u001b[1;32m      4\u001b[0m     \u001b[0msource_ids\u001b[0m\u001b[0;34m,\u001b[0m\u001b[0msource_mask\u001b[0m \u001b[0;34m=\u001b[0m \u001b[0mbatch\u001b[0m\u001b[0;34m\u001b[0m\u001b[0;34m\u001b[0m\u001b[0m\n\u001b[1;32m      5\u001b[0m     \u001b[0moutputs\u001b[0m \u001b[0;34m=\u001b[0m \u001b[0mmodel\u001b[0m\u001b[0;34m(\u001b[0m\u001b[0;34m**\u001b[0m\u001b[0;34m[\u001b[0m\u001b[0msource_ids\u001b[0m\u001b[0;34m,\u001b[0m\u001b[0msource_mask\u001b[0m\u001b[0;34m,\u001b[0m\u001b[0msource_ids\u001b[0m\u001b[0;34m,\u001b[0m\u001b[0msource_mask\u001b[0m\u001b[0;34m]\u001b[0m\u001b[0;34m)\u001b[0m \u001b[0;31m#, decoder_attention_mask=source_mask\u001b[0m\u001b[0;34m\u001b[0m\u001b[0;34m\u001b[0m\u001b[0m\n",
      "\u001b[0;32m<ipython-input-15-7229b7c958b7>\u001b[0m in \u001b[0;36m<genexpr>\u001b[0;34m(.0)\u001b[0m\n\u001b[1;32m      1\u001b[0m \u001b[0;32mfor\u001b[0m \u001b[0mbatch\u001b[0m \u001b[0;32min\u001b[0m \u001b[0meval_dataloader\u001b[0m\u001b[0;34m:\u001b[0m\u001b[0;34m\u001b[0m\u001b[0;34m\u001b[0m\u001b[0m\n\u001b[1;32m      2\u001b[0m \u001b[0;31m# batch = (eval_dataloader)\u001b[0m\u001b[0;34m\u001b[0m\u001b[0;34m\u001b[0m\u001b[0;34m\u001b[0m\u001b[0m\n\u001b[0;32m----> 3\u001b[0;31m     \u001b[0mbatch\u001b[0m \u001b[0;34m=\u001b[0m \u001b[0mtuple\u001b[0m\u001b[0;34m(\u001b[0m\u001b[0mt\u001b[0m\u001b[0;34m.\u001b[0m\u001b[0mto\u001b[0m\u001b[0;34m(\u001b[0m\u001b[0mdevice\u001b[0m\u001b[0;34m)\u001b[0m \u001b[0;32mfor\u001b[0m \u001b[0mt\u001b[0m \u001b[0;32min\u001b[0m \u001b[0mbatch\u001b[0m\u001b[0;34m)\u001b[0m\u001b[0;34m\u001b[0m\u001b[0;34m\u001b[0m\u001b[0m\n\u001b[0m\u001b[1;32m      4\u001b[0m     \u001b[0msource_ids\u001b[0m\u001b[0;34m,\u001b[0m\u001b[0msource_mask\u001b[0m \u001b[0;34m=\u001b[0m \u001b[0mbatch\u001b[0m\u001b[0;34m\u001b[0m\u001b[0;34m\u001b[0m\u001b[0m\n\u001b[1;32m      5\u001b[0m     \u001b[0moutputs\u001b[0m \u001b[0;34m=\u001b[0m \u001b[0mmodel\u001b[0m\u001b[0;34m(\u001b[0m\u001b[0;34m**\u001b[0m\u001b[0;34m[\u001b[0m\u001b[0msource_ids\u001b[0m\u001b[0;34m,\u001b[0m\u001b[0msource_mask\u001b[0m\u001b[0;34m,\u001b[0m\u001b[0msource_ids\u001b[0m\u001b[0;34m,\u001b[0m\u001b[0msource_mask\u001b[0m\u001b[0;34m]\u001b[0m\u001b[0;34m)\u001b[0m \u001b[0;31m#, decoder_attention_mask=source_mask\u001b[0m\u001b[0;34m\u001b[0m\u001b[0;34m\u001b[0m\u001b[0m\n",
      "\u001b[0;31mRuntimeError\u001b[0m: CUDA error: device-side assert triggered"
     ]
    }
   ],
   "source": [
    "for batch in eval_dataloader:\n",
    "# batch = (eval_dataloader)\n",
    "    batch = tuple(t.to(device) for t in batch)\n",
    "    source_ids,source_mask = batch\n",
    "    outputs = model(*[source_ids,source_mask,source_ids,source_mask]) #, decoder_attention_mask=source_mask\n",
    "    loss = outputs.loss\n",
    "    break"
   ]
  },
  {
   "cell_type": "code",
   "execution_count": 5,
   "id": "01c59c10",
   "metadata": {},
   "outputs": [
    {
     "ename": "NameError",
     "evalue": "name 'model' is not defined",
     "output_type": "error",
     "traceback": [
      "\u001b[0;31m---------------------------------------------------------------------------\u001b[0m",
      "\u001b[0;31mNameError\u001b[0m                                 Traceback (most recent call last)",
      "\u001b[0;32m<ipython-input-5-896443f38a49>\u001b[0m in \u001b[0;36m<module>\u001b[0;34m\u001b[0m\n\u001b[0;32m----> 1\u001b[0;31m \u001b[0mmodel\u001b[0m\u001b[0;34m.\u001b[0m\u001b[0meval\u001b[0m\u001b[0;34m(\u001b[0m\u001b[0;34m)\u001b[0m\u001b[0;34m\u001b[0m\u001b[0;34m\u001b[0m\u001b[0m\n\u001b[0m\u001b[1;32m      2\u001b[0m \u001b[0mmodel\u001b[0m\u001b[0;34m.\u001b[0m\u001b[0mto\u001b[0m\u001b[0;34m(\u001b[0m\u001b[0mdevice\u001b[0m\u001b[0;34m)\u001b[0m\u001b[0;34m\u001b[0m\u001b[0;34m\u001b[0m\u001b[0m\n\u001b[1;32m      3\u001b[0m \u001b[0mprint\u001b[0m\u001b[0;34m(\u001b[0m\u001b[0;34m)\u001b[0m\u001b[0;34m\u001b[0m\u001b[0;34m\u001b[0m\u001b[0m\n",
      "\u001b[0;31mNameError\u001b[0m: name 'model' is not defined"
     ]
    }
   ],
   "source": [
    "model.eval()\n",
    "model.to(device)\n",
    "print()"
   ]
  },
  {
   "cell_type": "code",
   "execution_count": 9,
   "id": "0a195050",
   "metadata": {},
   "outputs": [],
   "source": [
    "lang_pair = lang1 + \"-\" + lang2\n",
    "if not os.path.isdir(program_data + lang_pair):\n",
    "    lang_pair = lang2 + \"-\" + lang1\n",
    "test_file_prefix = program_data + lang_pair + \"/test-\" + lang_pair + \"-tok\"\n",
    "test_src_file = test_file_prefix + file_extensions[lang1]\n",
    "test_tgt_file = test_file_prefix + file_extensions[lang2]\n",
    "test_file = test_src_file + \",\" + test_tgt_file\n",
    "output_dir = './'\n",
    "\n",
    "\n",
    "sys.argv = ['pl', '--do_test', \n",
    "    '--model_type', model_type, \n",
    "    '--model_name_or_path', model_name_or_path, \n",
    "    '--config_name', model_name_or_path, \n",
    "    '--tokenizer_name', model_name_or_path, \n",
    "    '--test_filename', test_file,\n",
    "    '--output_dir', output_dir, \n",
    "    '--max_source_length', '400', \n",
    "    '--max_target_length', '400', \n",
    "    '--beam_size', '5', \n",
    "    '--eval_batch_size', '64']"
   ]
  },
  {
   "cell_type": "code",
   "execution_count": 10,
   "id": "76b2e8f8",
   "metadata": {},
   "outputs": [],
   "source": [
    "args = parser.parse_args()\n",
    "# args = parser.parse_args(args=sys.argv[1:])"
   ]
  },
  {
   "cell_type": "code",
   "execution_count": null,
   "id": "acknowledged-consciousness",
   "metadata": {},
   "outputs": [],
   "source": [
    "from bleu import *\n",
    "beam_size, do_sample, temperature = 5, False, 0.5\n",
    "eval_examples, eval_dataloader = get_eval_dataloader(test_file, args.eval_batch_size)\n",
    "out_fn = \"output.\" \n",
    "if do_sample:\n",
    "    out_fn += str(int(temperature*100)) + \".sample\"\n",
    "else:\n",
    "    out_fn += str(beam_size) + \".beam\"\n",
    "sample_generation(eval_examples, eval_dataloader, model, args, beam_size, do_sample, temperature, out_fn, 5)"
   ]
  },
  {
   "cell_type": "code",
   "execution_count": 18,
   "id": "f6132145",
   "metadata": {},
   "outputs": [],
   "source": [
    "# Pipeline:\n",
    "# Sample\n",
    "# Detok\n",
    "# compile\n",
    "# test\n",
    "# generate table results"
   ]
  },
  {
   "cell_type": "markdown",
   "id": "virtual-illustration",
   "metadata": {},
   "source": [
    "### Beam Search, Tempering, Sampling"
   ]
  },
  {
   "cell_type": "code",
   "execution_count": null,
   "id": "little-concentrate",
   "metadata": {},
   "outputs": [],
   "source": [
    "eval_batch_size = 32\n",
    "# bs_list = [32, 16, 8, 4, 4]\n",
    "beam_list = [1, 5, 10, 15, 20]\n",
    "temper_list = [0.25, 0.5, 0.75, 0.95]\n",
    "sample_size_list = [1, 5, 10, 15, 20]\n",
    "for bs in beam_list:\n",
    "    beam_size, do_sample, temperature = bs, False, 0.25\n",
    "    print(beam_size, do_sample, temperature)\n",
    "    compile_samples(eval_batch_size, beam_size, do_sample, temperature)\n",
    "for temper in temper_list:\n",
    "    beam_size, do_sample, temperature = 1, True, temper\n",
    "    print(beam_size, do_sample, temperature)\n",
    "    compile_samples(eval_batch_size, beam_size, do_sample, temperature)\n",
    "    \n",
    "sample_size_list = [5, 10, 15, 20]\n",
    "for sample_size in sample_size_list:\n",
    "    beam_size, do_sample, temperature = 1, True, 0.5\n",
    "    print(beam_size, do_sample, temperature, sample_size)\n",
    "    compile_samples(eval_batch_size, beam_size, do_sample, temperature, sample_size)"
   ]
  },
  {
   "cell_type": "code",
   "execution_count": 104,
   "id": "visible-extension",
   "metadata": {},
   "outputs": [],
   "source": [
    "torch.cuda.empty_cache()"
   ]
  },
  {
   "cell_type": "code",
   "execution_count": null,
   "id": "young-estate",
   "metadata": {},
   "outputs": [],
   "source": []
  },
  {
   "cell_type": "code",
   "execution_count": 8,
   "id": "a66e1839",
   "metadata": {},
   "outputs": [
    {
     "data": {
      "text/plain": [
       "_StoreAction(option_strings=['--seed'], dest='seed', nargs=None, const=None, default=42, type=<class 'int'>, choices=None, help='random seed for initialization', metavar=None)"
      ]
     },
     "execution_count": 8,
     "metadata": {},
     "output_type": "execute_result"
    }
   ],
   "source": [
    "parser = argparse.ArgumentParser()\n",
    "## Required parameters  \n",
    "parser.add_argument(\"--model_type\", default=None, type=str, required=True,\n",
    "                    help=\"Model type: e.g. roberta\")\n",
    "parser.add_argument(\"--model_name_or_path\", default=None, type=str, required=True,\n",
    "                    help=\"Path to pre-trained model: e.g. roberta-base\" )\n",
    "parser.add_argument(\"--tokenizer_name\", default=\"\", required=True,\n",
    "                    help=\"Pretrained tokenizer name or path if not the same as model_name\")    \n",
    "parser.add_argument(\"--output_dir\", default=None, type=str, required=True,\n",
    "                    help=\"The output directory where the model predictions and checkpoints will be written.\")\n",
    "parser.add_argument(\"--load_model_path\", default=None, type=str, \n",
    "                    help=\"Path to trained model: Should contain the .bin files\" )    \n",
    "## Other parameters\n",
    "parser.add_argument(\"--train_filename\", default=None, type=str,\n",
    "                    help=\"The train filenames (source and target files).\")\n",
    "parser.add_argument(\"--dev_filename\", default=None, type=str,\n",
    "                    help=\"The dev filename. (source and target files).\")\n",
    "parser.add_argument(\"--test_filename\", default=None, type=str,\n",
    "                    help=\"The test filename. (source and target files).\")  \n",
    "\n",
    "parser.add_argument(\"--config_name\", default=\"\", type=str,\n",
    "                    help=\"Pretrained config name or path if not the same as model_name\")\n",
    "\n",
    "parser.add_argument(\"--max_source_length\", default=64, type=int,\n",
    "                    help=\"The maximum total source sequence length after tokenization. Sequences longer \"\n",
    "                         \"than this will be truncated, sequences shorter will be padded.\")\n",
    "parser.add_argument(\"--max_target_length\", default=32, type=int,\n",
    "                    help=\"The maximum total target sequence length after tokenization. Sequences longer \"\n",
    "                         \"than this will be truncated, sequences shorter will be padded.\")\n",
    "\n",
    "parser.add_argument(\"--do_train\", action='store_true',\n",
    "                    help=\"Whether to run training.\")\n",
    "parser.add_argument(\"--do_eval\", action='store_true',\n",
    "                    help=\"Whether to run eval on the dev set.\")\n",
    "parser.add_argument(\"--do_test\", action='store_true',\n",
    "                    help=\"Whether to run eval on the dev set.\")\n",
    "parser.add_argument(\"--do_lower_case\", action='store_true',\n",
    "                    help=\"Set this flag if you are using an uncased model.\")\n",
    "parser.add_argument(\"--no_cuda\", action='store_true',\n",
    "                    help=\"Avoid using CUDA when available\") \n",
    "\n",
    "parser.add_argument(\"--train_batch_size\", default=8, type=int,\n",
    "                    help=\"Batch size per GPU/CPU for training.\")\n",
    "parser.add_argument(\"--eval_batch_size\", default=8, type=int,\n",
    "                    help=\"Batch size per GPU/CPU for evaluation.\")\n",
    "parser.add_argument('--gradient_accumulation_steps', type=int, default=1,\n",
    "                    help=\"Number of updates steps to accumulate before performing a backward/update pass.\")\n",
    "parser.add_argument(\"--learning_rate\", default=5e-5, type=float,\n",
    "                    help=\"The initial learning rate for Adam.\")\n",
    "parser.add_argument(\"--beam_size\", default=10, type=int,\n",
    "                    help=\"beam size for beam search\")    \n",
    "parser.add_argument(\"--weight_decay\", default=0.0, type=float,\n",
    "                    help=\"Weight deay if we apply some.\")\n",
    "parser.add_argument(\"--adam_epsilon\", default=1e-8, type=float,\n",
    "                    help=\"Epsilon for Adam optimizer.\")\n",
    "parser.add_argument(\"--max_grad_norm\", default=1.0, type=float,\n",
    "                    help=\"Max gradient norm.\")\n",
    "parser.add_argument(\"--num_train_epochs\", default=3.0, type=float,\n",
    "                    help=\"Total number of training epochs to perform.\")\n",
    "parser.add_argument(\"--max_steps\", default=-1, type=int,\n",
    "                    help=\"If > 0: set total number of training steps to perform. Override num_train_epochs.\")\n",
    "parser.add_argument(\"--eval_steps\", default=-1, type=int,\n",
    "                    help=\"\")\n",
    "parser.add_argument(\"--train_steps\", default=-1, type=int,\n",
    "                    help=\"\")\n",
    "parser.add_argument(\"--warmup_steps\", default=0, type=int,\n",
    "                    help=\"Linear warmup over warmup_steps.\")\n",
    "parser.add_argument(\"--local_rank\", type=int, default=-1,\n",
    "                    help=\"For distributed training: local_rank\")   \n",
    "parser.add_argument('--seed', type=int, default=42,\n",
    "                    help=\"random seed for initialization\")\n",
    "# print arguments"
   ]
  },
  {
   "cell_type": "code",
   "execution_count": null,
   "id": "cb3d3e7b",
   "metadata": {},
   "outputs": [],
   "source": []
  }
 ],
 "metadata": {
  "kernelspec": {
   "display_name": "Python 3",
   "language": "python",
   "name": "python3"
  },
  "language_info": {
   "codemirror_mode": {
    "name": "ipython",
    "version": 3
   },
   "file_extension": ".py",
   "mimetype": "text/x-python",
   "name": "python",
   "nbconvert_exporter": "python",
   "pygments_lexer": "ipython3",
   "version": "3.6.9"
  }
 },
 "nbformat": 4,
 "nbformat_minor": 5
}
