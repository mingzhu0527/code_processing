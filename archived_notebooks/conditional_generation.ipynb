{
 "cells": [
  {
   "cell_type": "code",
   "execution_count": null,
   "id": "primary-building",
   "metadata": {},
   "outputs": [],
   "source": [
    "from tokenization_utils import *\n",
    "import json\n",
    "from tqdm.notebook import tqdm\n",
    "import jsonlines"
   ]
  },
  {
   "cell_type": "markdown",
   "id": "extreme-perth",
   "metadata": {},
   "source": [
    "# Conditional Generation"
   ]
  },
  {
   "cell_type": "markdown",
   "id": "renewable-removal",
   "metadata": {},
   "source": [
    "### Generate conditional hypotheses"
   ]
  },
  {
   "cell_type": "code",
   "execution_count": null,
   "id": "departmental-barrel",
   "metadata": {},
   "outputs": [],
   "source": [
    "# Train transcoder on program with pre-trained snippet model\n",
    "prefix = \"transcoder_g4g_\"\n",
    "\n",
    "model_path = \"/home/mingzhu/CodeModel/CodeGen/TransCoder_model_1.pth\"  \n",
    "data_path_prefix = \"/home/mingzhu/CodeModel/g4g/pair_data_tok_full/\"\n",
    "exp_prefix = prefix + \"program_transfer_\"\n",
    "model_exp_prefix = prefix + \"program_transfer_\"\n",
    "\n",
    "max_epoch = 50\n",
    "max_len = 400\n",
    "# remember to change the beam size!\n",
    "beam_size = 1\n",
    "\n",
    "precont_topk=100\n",
    "cont_lambda=0.7\n",
    "max_tok_num=20\n",
    "get_train_commands(langs, model_path, data_path_prefix, exp_prefix, model_exp_prefix,\n",
    "                       max_epoch=max_epoch, max_len=max_len, beam_size=beam_size,\n",
    "                       is_reloaded=True, is_dobf=False, is_transferred=True, is_print=True,\n",
    "                       is_cont=True, precont_topk=precont_topk, \n",
    "                       cont_lambda=cont_lambda, max_tok_num=max_tok_num)\n"
   ]
  },
  {
   "cell_type": "markdown",
   "id": "charming-pharmacology",
   "metadata": {},
   "source": [
    "### Copy the generated hypotheses"
   ]
  },
  {
   "cell_type": "code",
   "execution_count": null,
   "id": "inner-brook",
   "metadata": {
    "scrolled": true
   },
   "outputs": [],
   "source": [
    "import json\n",
    "exp_prefix = \"transcoder_g4g_program_transfer_\" \n",
    "hypo_collection_path = \"./hypothesis_collection/Compilations/\" \n",
    "read_cont_results(exp_prefix, dump_path, hypo_collection_path=hypo_collection_path)\n",
    "# read_cont_results(exp_prefix, dump_path)"
   ]
  },
  {
   "cell_type": "markdown",
   "id": "final-japan",
   "metadata": {},
   "source": [
    "### Format the generated hypotheses"
   ]
  },
  {
   "cell_type": "code",
   "execution_count": null,
   "id": "diverse-quality",
   "metadata": {},
   "outputs": [],
   "source": [
    "format_raw_code(hypo_collection_path, exp_prefix)"
   ]
  },
  {
   "cell_type": "markdown",
   "id": "fifty-quality",
   "metadata": {},
   "source": [
    "### Generate Side by Side Comparison between with conditional generation and without"
   ]
  },
  {
   "cell_type": "code",
   "execution_count": null,
   "id": "special-importance",
   "metadata": {},
   "outputs": [],
   "source": [
    "hypo_path = \"./hypothesis_collection/Compilations/transcoder_g4g_program_transfer_C++_Java/\"\n",
    "# transcoder_g4g_program_transfer_C++_Python\n",
    "# transcoder_g4g_program_transfer_C++_Java\n",
    "hypo_cont = \"hyp0.cpp_sa-java_sa.test_beam0_100_0.7_20_81.11.json\"\n",
    "hypo_nocont = \"hyp0.cpp_sa-java_sa.test_beam0_0_0_0_80.57.json\"\n",
    "ref = \"ref.cpp_sa-java_sa.test.json\"\n",
    "# ref.cpp_sa-python_sa.test.json\n",
    "# \"ref.cpp_sa-java_sa.test.json\"\n",
    "# Change False to True to print the formatted code\n",
    "hypo_cont_fmt = print_formatted_code(hypo_path+hypo_cont, False)\n",
    "hypo_nocont_fmt = print_formatted_code(hypo_path+hypo_nocont, True)\n",
    "# ref_fmt = print_formatted_code(hypo_path+ref, True)\n",
    "\n",
    "# get_diff(hypo_nocont_fmt, hypo_cont_fmt)"
   ]
  },
  {
   "cell_type": "markdown",
   "id": "driven-peeing",
   "metadata": {},
   "source": [
    "### Compile with compiler"
   ]
  },
  {
   "cell_type": "code",
   "execution_count": null,
   "id": "mounted-correlation",
   "metadata": {},
   "outputs": [],
   "source": [
    "path = \"/home/mingzhu/CodeModel/CodeGen/hypothesis_collection/Compilations/Comps.ipynb\"\n"
   ]
  }
 ],
 "metadata": {
  "kernelspec": {
   "display_name": "Python 3",
   "language": "python",
   "name": "python3"
  },
  "language_info": {
   "codemirror_mode": {
    "name": "ipython",
    "version": 3
   },
   "file_extension": ".py",
   "mimetype": "text/x-python",
   "name": "python",
   "nbconvert_exporter": "python",
   "pygments_lexer": "ipython3",
   "version": "3.6.9"
  }
 },
 "nbformat": 4,
 "nbformat_minor": 5
}
