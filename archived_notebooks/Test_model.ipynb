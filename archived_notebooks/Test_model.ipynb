{
 "cells": [
  {
   "cell_type": "code",
   "execution_count": 1,
   "id": "frozen-purple",
   "metadata": {},
   "outputs": [],
   "source": [
    "import os\n",
    "import torch\n",
    "os.environ['CUDA_VISIBLE_DEVICES'] = \"3\"\n",
    "device = torch.device(\"cuda\")"
   ]
  },
  {
   "cell_type": "code",
   "execution_count": 2,
   "id": "human-spank",
   "metadata": {},
   "outputs": [],
   "source": [
    "import sys\n",
    "sys.path.append('./huggingface_models/')"
   ]
  },
  {
   "cell_type": "code",
   "execution_count": 3,
   "id": "0d75dcba",
   "metadata": {},
   "outputs": [
    {
     "ename": "ModuleNotFoundError",
     "evalue": "No module named 'utils.compilation_test_utils'",
     "output_type": "error",
     "traceback": [
      "\u001b[0;31m---------------------------------------------------------------------------\u001b[0m",
      "\u001b[0;31mModuleNotFoundError\u001b[0m                       Traceback (most recent call last)",
      "\u001b[0;32m<ipython-input-3-320ab8a76047>\u001b[0m in \u001b[0;36m<module>\u001b[0;34m\u001b[0m\n\u001b[1;32m      1\u001b[0m \u001b[0;32mfrom\u001b[0m \u001b[0mrun\u001b[0m \u001b[0;32mimport\u001b[0m \u001b[0;34m*\u001b[0m\u001b[0;34m\u001b[0m\u001b[0;34m\u001b[0m\u001b[0m\n\u001b[0;32m----> 2\u001b[0;31m \u001b[0;32mfrom\u001b[0m \u001b[0mutils\u001b[0m\u001b[0;34m.\u001b[0m\u001b[0mcompilation_test_utils\u001b[0m \u001b[0;32mimport\u001b[0m \u001b[0;34m*\u001b[0m\u001b[0;34m\u001b[0m\u001b[0;34m\u001b[0m\u001b[0m\n\u001b[0m\u001b[1;32m      3\u001b[0m \u001b[0;32mfrom\u001b[0m \u001b[0mutils\u001b[0m\u001b[0;34m.\u001b[0m\u001b[0mtokenization_utils\u001b[0m \u001b[0;32mimport\u001b[0m \u001b[0;34m*\u001b[0m\u001b[0;34m\u001b[0m\u001b[0;34m\u001b[0m\u001b[0m\n\u001b[1;32m      4\u001b[0m \u001b[0;32mfrom\u001b[0m \u001b[0mbleu\u001b[0m \u001b[0;32mimport\u001b[0m \u001b[0;34m*\u001b[0m\u001b[0;34m\u001b[0m\u001b[0;34m\u001b[0m\u001b[0m\n",
      "\u001b[0;31mModuleNotFoundError\u001b[0m: No module named 'utils.compilation_test_utils'"
     ]
    }
   ],
   "source": [
    "from run import *\n",
    "from compilation_test_utils import *\n",
    "from tokenization_utils import *\n",
    "from bleu import *"
   ]
  },
  {
   "cell_type": "code",
   "execution_count": null,
   "id": "phantom-friendship",
   "metadata": {},
   "outputs": [],
   "source": [
    "# Original notebook can be found in \n",
    "# dhruv /home/aneesh/huggingface_models"
   ]
  },
  {
   "cell_type": "markdown",
   "id": "liked-latex",
   "metadata": {},
   "source": [
    "### Select Data"
   ]
  },
  {
   "cell_type": "code",
   "execution_count": 5,
   "id": "64103343",
   "metadata": {},
   "outputs": [],
   "source": [
    "program_data = home_path + \"g4g/XLCoST_data/pair_data_tok_full/\"\n",
    "small_test_data = \"./small_test_data/\"\n",
    "program_data = small_test_data\n",
    "lang1 = \"Java\"\n",
    "lang2 = \"Python\""
   ]
  },
  {
   "cell_type": "markdown",
   "id": "distant-teacher",
   "metadata": {},
   "source": [
    "### Select Model"
   ]
  },
  {
   "cell_type": "code",
   "execution_count": 7,
   "id": "4d5244ee",
   "metadata": {},
   "outputs": [
    {
     "data": {
      "text/plain": [
       "<All keys matched successfully>"
      ]
     },
     "execution_count": 7,
     "metadata": {},
     "output_type": "execute_result"
    }
   ],
   "source": [
    "# model_type = \"codet5\"\n",
    "# model_name_or_path = \"Salesforce/codet5-base\"\n",
    "\n",
    "model_type = \"plbart\"\n",
    "model_name_or_path = \"uclanlp/plbart-python-en_XX\" #\"uclanlp/plbart-base\" #uclanlp/plbart-python-en_XX\n",
    "load_model_path_prefix = model_type + \"_program/\" + lang1 + \"-\" + lang2 + '/'\n",
    "load_model_path = load_model_path_prefix + \"checkpoint-best-bleu/pytorch_model.bin\"\n",
    "config_class, model_class, tokenizer_class = MODEL_CLASSES[model_type]\n",
    "config = config_class.from_pretrained(model_name_or_path)\n",
    "tokenizer = tokenizer_class.from_pretrained(model_name_or_path)\n",
    "model = model_class.from_pretrained(model_name_or_path)\n",
    "model.load_state_dict(torch.load(load_model_path))\n",
    "model.eval()\n",
    "model.to(device)\n",
    "print()"
   ]
  },
  {
   "cell_type": "code",
   "execution_count": 9,
   "id": "0a195050",
   "metadata": {},
   "outputs": [],
   "source": [
    "lang_pair = lang1 + \"-\" + lang2\n",
    "if not os.path.isdir(program_data + lang_pair):\n",
    "    lang_pair = lang2 + \"-\" + lang1\n",
    "test_file_prefix = program_data + lang_pair + \"/test-\" + lang_pair + \"-tok\"\n",
    "test_src_file = test_file_prefix + file_extensions[lang1]\n",
    "test_tgt_file = test_file_prefix + file_extensions[lang2]\n",
    "test_file = test_src_file + \",\" + test_tgt_file\n",
    "output_dir = './'\n",
    "\n",
    "\n",
    "sys.argv = ['pl', '--do_test', \n",
    "    '--model_type', model_type, \n",
    "    '--model_name_or_path', model_name_or_path, \n",
    "    '--config_name', model_name_or_path, \n",
    "    '--tokenizer_name', model_name_or_path, \n",
    "    '--test_filename', test_file,\n",
    "    '--output_dir', output_dir, \n",
    "    '--max_source_length', '400', \n",
    "    '--max_target_length', '400', \n",
    "    '--beam_size', '5', \n",
    "    '--eval_batch_size', '64']"
   ]
  },
  {
   "cell_type": "code",
   "execution_count": 3,
   "id": "76b2e8f8",
   "metadata": {},
   "outputs": [
    {
     "ename": "NameError",
     "evalue": "name 'argparse' is not defined",
     "output_type": "error",
     "traceback": [
      "\u001b[0;31m---------------------------------------------------------------------------\u001b[0m",
      "\u001b[0;31mNameError\u001b[0m                                 Traceback (most recent call last)",
      "\u001b[0;32m<ipython-input-3-b7b07e26b424>\u001b[0m in \u001b[0;36m<module>\u001b[0;34m\u001b[0m\n\u001b[1;32m      1\u001b[0m \u001b[0;31m# Run the parsers cell before this one\u001b[0m\u001b[0;34m\u001b[0m\u001b[0;34m\u001b[0m\u001b[0;34m\u001b[0m\u001b[0m\n\u001b[0;32m----> 2\u001b[0;31m \u001b[0mparser\u001b[0m \u001b[0;34m=\u001b[0m \u001b[0mget_args_parser\u001b[0m\u001b[0;34m(\u001b[0m\u001b[0;34m)\u001b[0m\u001b[0;34m\u001b[0m\u001b[0;34m\u001b[0m\u001b[0m\n\u001b[0m\u001b[1;32m      3\u001b[0m \u001b[0margs\u001b[0m \u001b[0;34m=\u001b[0m \u001b[0mparser\u001b[0m\u001b[0;34m.\u001b[0m\u001b[0mparse_args\u001b[0m\u001b[0;34m(\u001b[0m\u001b[0;34m)\u001b[0m\u001b[0;34m\u001b[0m\u001b[0;34m\u001b[0m\u001b[0m\n\u001b[1;32m      4\u001b[0m \u001b[0;31m# args = parser.parse_args(args=sys.argv[1:])\u001b[0m\u001b[0;34m\u001b[0m\u001b[0;34m\u001b[0m\u001b[0;34m\u001b[0m\u001b[0m\n",
      "\u001b[0;32m<ipython-input-2-9cac4435b58a>\u001b[0m in \u001b[0;36mget_args_parser\u001b[0;34m()\u001b[0m\n\u001b[1;32m      1\u001b[0m \u001b[0;32mdef\u001b[0m \u001b[0mget_args_parser\u001b[0m\u001b[0;34m(\u001b[0m\u001b[0;34m)\u001b[0m\u001b[0;34m:\u001b[0m\u001b[0;34m\u001b[0m\u001b[0;34m\u001b[0m\u001b[0m\n\u001b[0;32m----> 2\u001b[0;31m     \u001b[0mparser\u001b[0m \u001b[0;34m=\u001b[0m \u001b[0margparse\u001b[0m\u001b[0;34m.\u001b[0m\u001b[0mArgumentParser\u001b[0m\u001b[0;34m(\u001b[0m\u001b[0;34m)\u001b[0m\u001b[0;34m\u001b[0m\u001b[0;34m\u001b[0m\u001b[0m\n\u001b[0m\u001b[1;32m      3\u001b[0m     \u001b[0;31m## Required parameters\u001b[0m\u001b[0;34m\u001b[0m\u001b[0;34m\u001b[0m\u001b[0;34m\u001b[0m\u001b[0m\n\u001b[1;32m      4\u001b[0m     parser.add_argument(\"--model_type\", default=None, type=str, required=True,\n\u001b[1;32m      5\u001b[0m                         help=\"Model type: e.g. roberta\")\n",
      "\u001b[0;31mNameError\u001b[0m: name 'argparse' is not defined"
     ]
    }
   ],
   "source": [
    "parser = get_args_parser()\n",
    "args = parser.parse_args()"
   ]
  },
  {
   "cell_type": "code",
   "execution_count": null,
   "id": "acknowledged-consciousness",
   "metadata": {},
   "outputs": [],
   "source": [
    "from bleu import *\n",
    "beam_size, do_sample, temperature = 5, False, 0.5\n",
    "eval_examples, eval_dataloader = get_eval_dataloader(test_file, args.eval_batch_size)\n",
    "out_fn = \"output.\" \n",
    "if do_sample:\n",
    "    out_fn += str(int(temperature*100)) + \".sample\"\n",
    "else:\n",
    "    out_fn += str(beam_size) + \".beam\"\n",
    "sample_generation(eval_examples, eval_dataloader, model, args, beam_size, do_sample, temperature, out_fn, 5)"
   ]
  },
  {
   "cell_type": "code",
   "execution_count": 18,
   "id": "f6132145",
   "metadata": {},
   "outputs": [],
   "source": [
    "# Pipeline:\n",
    "# Sample\n",
    "# Detok\n",
    "# compile\n",
    "# test\n",
    "# generate table results"
   ]
  },
  {
   "cell_type": "markdown",
   "id": "extraordinary-stage",
   "metadata": {},
   "source": [
    "### Beam Search, Tempering, Sampling"
   ]
  },
  {
   "cell_type": "code",
   "execution_count": null,
   "id": "little-concentrate",
   "metadata": {},
   "outputs": [],
   "source": [
    "eval_batch_size = 32\n",
    "# bs_list = [32, 16, 8, 4, 4]\n",
    "beam_list = [1, 5, 10, 15, 20]\n",
    "temper_list = [0.25, 0.5, 0.75, 0.95]\n",
    "sample_size_list = [1, 5, 10, 15, 20]\n",
    "for bs in beam_list:\n",
    "    beam_size, do_sample, temperature = bs, False, 0.25\n",
    "    print(beam_size, do_sample, temperature)\n",
    "    compile_samples(eval_batch_size, beam_size, do_sample, temperature)\n",
    "for temper in temper_list:\n",
    "    beam_size, do_sample, temperature = 1, True, temper\n",
    "    print(beam_size, do_sample, temperature)\n",
    "    compile_samples(eval_batch_size, beam_size, do_sample, temperature)\n",
    "    \n",
    "sample_size_list = [5, 10, 15, 20]\n",
    "for sample_size in sample_size_list:\n",
    "    beam_size, do_sample, temperature = 1, True, 0.5\n",
    "    print(beam_size, do_sample, temperature, sample_size)\n",
    "    compile_samples(eval_batch_size, beam_size, do_sample, temperature, sample_size)"
   ]
  },
  {
   "cell_type": "code",
   "execution_count": 104,
   "id": "visible-extension",
   "metadata": {},
   "outputs": [],
   "source": [
    "torch.cuda.empty_cache()"
   ]
  },
  {
   "cell_type": "code",
   "execution_count": null,
   "id": "integrated-requirement",
   "metadata": {},
   "outputs": [],
   "source": []
  },
  {
   "cell_type": "code",
   "execution_count": 2,
   "id": "a66e1839",
   "metadata": {},
   "outputs": [],
   "source": []
  },
  {
   "cell_type": "code",
   "execution_count": null,
   "id": "cb3d3e7b",
   "metadata": {},
   "outputs": [],
   "source": []
  },
  {
   "cell_type": "markdown",
   "id": "essential-cassette",
   "metadata": {},
   "source": [
    "### Test Model Inference"
   ]
  },
  {
   "cell_type": "code",
   "execution_count": 9,
   "id": "civic-toddler",
   "metadata": {},
   "outputs": [
    {
     "name": "stderr",
     "output_type": "stream",
     "text": [
      "100%|██████████| 57/57 [05:24<00:00,  5.70s/it]\n"
     ]
    },
    {
     "name": "stdout",
     "output_type": "stream",
     "text": [
      "  bleu-4 = 35.72 \n",
      "  xMatch = 0.3333 \n",
      "  ********************\n"
     ]
    }
   ],
   "source": [
    "model.eval()\n",
    "model.to(device)\n",
    "\n",
    "eval_batch_size = 16\n",
    "max_source_length, max_target_length = 400, 400\n",
    "test_file, eval_examples, eval_dataloader = get_eval_dataloader(program_data, lang1, lang2, eval_batch_size, \n",
    "                                                     max_source_length, max_target_length, tokenizer)\n",
    "out_fn = \"output.0.beam\" \n",
    "sample_generation_single(test_file,eval_examples, eval_dataloader, model, model_type, tokenizer, \n",
    "                         max_target_length, out_fn, device)\n"
   ]
  },
  {
   "cell_type": "code",
   "execution_count": null,
   "id": "twelve-camcorder",
   "metadata": {},
   "outputs": [],
   "source": []
  },
  {
   "cell_type": "markdown",
   "id": "becoming-christian",
   "metadata": {},
   "source": [
    "### New Baselines"
   ]
  },
  {
   "cell_type": "code",
   "execution_count": 6,
   "id": "south-analyst",
   "metadata": {},
   "outputs": [
    {
     "name": "stdout",
     "output_type": "stream",
     "text": [
      "\n"
     ]
    }
   ],
   "source": [
    "from transformers import AutoTokenizer, AutoModelForCausalLM\n",
    "\n",
    "model_type = \"incoder\"\n",
    "model_name_or_path = \"facebook/incoder-1B\"\n",
    "tokenizer = AutoTokenizer.from_pretrained(model_name_or_path)\n",
    "tokenizer.add_special_tokens({'pad_token': '[PAD]', \n",
    "                              'cls_token':tokenizer.bos_token, 'sep_token':tokenizer.bos_token})\n",
    "model = AutoModelForCausalLM.from_pretrained(model_name_or_path)\n",
    "model.train()\n",
    "model.to(device)\n",
    "print()\n",
    "\n",
    "tokenizer(\"haha, lol\", max_length=2, padding=\"max_length\", truncation=True)\n",
    "eval_examples, eval_dataloader = get_eval_dataloader(test_file, 4)\n",
    "for batch in eval_dataloader:\n",
    "# batch = (eval_dataloader)\n",
    "    batch = tuple(t.to(device) for t in batch)\n",
    "    source_ids,source_mask = batch\n",
    "    outputs = model(*[source_ids,source_mask,source_ids,source_mask]) #, decoder_attention_mask=source_mask\n",
    "    loss = outputs.loss\n",
    "    break"
   ]
  }
 ],
 "metadata": {
  "kernelspec": {
   "display_name": "Python 3",
   "language": "python",
   "name": "python3"
  },
  "language_info": {
   "codemirror_mode": {
    "name": "ipython",
    "version": 3
   },
   "file_extension": ".py",
   "mimetype": "text/x-python",
   "name": "python",
   "nbconvert_exporter": "python",
   "pygments_lexer": "ipython3",
   "version": "3.6.9"
  }
 },
 "nbformat": 4,
 "nbformat_minor": 5
}
